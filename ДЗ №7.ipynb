{
 "cells": [
  {
   "cell_type": "code",
   "execution_count": 1,
   "id": "54b17cf3",
   "metadata": {},
   "outputs": [],
   "source": [
    "import os\n",
    "os.environ[\"KERAS_BACKEND\"] = \"torch\""
   ]
  },
  {
   "cell_type": "code",
   "execution_count": 2,
   "id": "1c7bbfd0",
   "metadata": {},
   "outputs": [
    {
     "name": "stdout",
     "output_type": "stream",
     "text": [
      "3.0.4\n"
     ]
    }
   ],
   "source": [
    "import keras\n",
    "print(keras.__version__)"
   ]
  },
  {
   "cell_type": "code",
   "execution_count": 3,
   "id": "d58f3c63",
   "metadata": {},
   "outputs": [],
   "source": [
    "import pandas as pd\n",
    "import numpy as np\n",
    "from string import punctuation\n",
    "from sklearn.model_selection import train_test_split\n",
    "from collections import Counter\n",
    "import matplotlib.pyplot as plt\n",
    "%matplotlib inline"
   ]
  },
  {
   "cell_type": "code",
   "execution_count": 4,
   "id": "850f4fa3",
   "metadata": {},
   "outputs": [],
   "source": [
    "data = pd.read_csv('lenta_40k.csv')"
   ]
  },
  {
   "cell_type": "code",
   "execution_count": 5,
   "id": "10bc4b60",
   "metadata": {},
   "outputs": [],
   "source": [
    "def preprocess(text):\n",
    "    tokens = text.lower().split()\n",
    "    tokens = [token.strip(punctuation) for token in tokens]\n",
    "    return tokens"
   ]
  },
  {
   "cell_type": "code",
   "execution_count": 6,
   "id": "9bbc950a",
   "metadata": {},
   "outputs": [],
   "source": [
    "# словарь\n",
    "vocab = Counter()\n",
    "\n",
    "for text in data.text:\n",
    "    vocab.update(preprocess(text))"
   ]
  },
  {
   "cell_type": "code",
   "execution_count": 7,
   "id": "2b8fb5d1",
   "metadata": {},
   "outputs": [
    {
     "data": {
      "text/plain": [
       "354611"
      ]
     },
     "execution_count": 7,
     "metadata": {},
     "output_type": "execute_result"
    }
   ],
   "source": [
    "len(vocab)"
   ]
  },
  {
   "cell_type": "code",
   "execution_count": 8,
   "id": "7e12d777",
   "metadata": {},
   "outputs": [],
   "source": [
    "# отфильтрованный словарь\n",
    "filtered_vocab = set()\n",
    "\n",
    "for word in vocab:\n",
    "    if vocab[word] > 30:\n",
    "        filtered_vocab.add(word)"
   ]
  },
  {
   "cell_type": "code",
   "execution_count": 9,
   "id": "fd18c5d2",
   "metadata": {},
   "outputs": [
    {
     "data": {
      "text/plain": [
       "24091"
      ]
     },
     "execution_count": 9,
     "metadata": {},
     "output_type": "execute_result"
    }
   ],
   "source": [
    "len(filtered_vocab)"
   ]
  },
  {
   "cell_type": "code",
   "execution_count": 10,
   "id": "a69a9b15",
   "metadata": {},
   "outputs": [],
   "source": [
    "# индексируем слова\n",
    "word2id = {'PAD':0}\n",
    "\n",
    "for word in filtered_vocab:\n",
    "    word2id[word] = len(word2id)"
   ]
  },
  {
   "cell_type": "code",
   "execution_count": 11,
   "id": "ff36dc7c",
   "metadata": {},
   "outputs": [],
   "source": [
    "id2word = {i:word for word, i in word2id.items()}"
   ]
  },
  {
   "cell_type": "code",
   "execution_count": 12,
   "id": "7479122c",
   "metadata": {},
   "outputs": [],
   "source": [
    "# переводим тексты в последовательности индексов\n",
    "X = []\n",
    "\n",
    "for text in data.text:\n",
    "    tokens = preprocess(text)\n",
    "    ids = [word2id.get(token, 1) for token in tokens]\n",
    "    X.append(ids)"
   ]
  },
  {
   "cell_type": "code",
   "execution_count": 13,
   "id": "5123360a",
   "metadata": {},
   "outputs": [],
   "source": [
    "MAX_LEN = max(len(x) for x in X)"
   ]
  },
  {
   "cell_type": "code",
   "execution_count": 14,
   "id": "bf2de0a3",
   "metadata": {},
   "outputs": [],
   "source": [
    "MEAN_LEN = np.median([len(x) for x in X])"
   ]
  },
  {
   "cell_type": "code",
   "execution_count": 15,
   "id": "ea2ea782",
   "metadata": {},
   "outputs": [
    {
     "data": {
      "text/plain": [
       "(1748, 170.0)"
      ]
     },
     "execution_count": 15,
     "metadata": {},
     "output_type": "execute_result"
    }
   ],
   "source": [
    "MAX_LEN, MEAN_LEN"
   ]
  },
  {
   "cell_type": "code",
   "execution_count": 16,
   "id": "231e1c1f",
   "metadata": {},
   "outputs": [],
   "source": [
    "MAX_LEN = int(MEAN_LEN + 30)"
   ]
  },
  {
   "cell_type": "code",
   "execution_count": 17,
   "id": "406570cc",
   "metadata": {},
   "outputs": [],
   "source": [
    "# паддинг\n",
    "X = keras.preprocessing.sequence.pad_sequences(X, maxlen=MAX_LEN)"
   ]
  },
  {
   "cell_type": "code",
   "execution_count": 18,
   "id": "09ecb73f",
   "metadata": {},
   "outputs": [
    {
     "data": {
      "text/plain": [
       "(44356, 200)"
      ]
     },
     "execution_count": 18,
     "metadata": {},
     "output_type": "execute_result"
    }
   ],
   "source": [
    "X.shape"
   ]
  },
  {
   "cell_type": "code",
   "execution_count": 19,
   "id": "b4342313",
   "metadata": {},
   "outputs": [],
   "source": [
    "id2label = {i:label for i, label in enumerate(set(data.topic.values))}\n",
    "label2id = {l:i for i, l in id2label.items()}"
   ]
  },
  {
   "cell_type": "code",
   "execution_count": 20,
   "id": "96dcf9a8",
   "metadata": {},
   "outputs": [],
   "source": [
    "y = keras.utils.to_categorical([label2id[label] for label in data.topic.values])"
   ]
  },
  {
   "cell_type": "code",
   "execution_count": 21,
   "id": "432252d5",
   "metadata": {},
   "outputs": [
    {
     "data": {
      "text/plain": [
       "19"
      ]
     },
     "execution_count": 21,
     "metadata": {},
     "output_type": "execute_result"
    }
   ],
   "source": [
    "len(label2id)"
   ]
  },
  {
   "cell_type": "code",
   "execution_count": 22,
   "id": "bf353191",
   "metadata": {},
   "outputs": [],
   "source": [
    "X_train, X_valid, y_train, y_valid = train_test_split(X, y, test_size=0.05)"
   ]
  },
  {
   "cell_type": "code",
   "execution_count": 46,
   "id": "e0b88226",
   "metadata": {},
   "outputs": [],
   "source": [
    "# ModelCheckpoint сохраняет лучшие версии моделей\n",
    "checkpoint = keras.callbacks.ModelCheckpoint('model.weights.h5', # названия файла \n",
    "                                                monitor='val_f1', # за какой метрикой следить\n",
    "                                                verbose=1, # будет печатать что происходит\n",
    "                                                save_weights_only=True, # если нужно только веса сохранить\n",
    "                                                save_best_only=True, # сохранять только лучшие\n",
    "                                                mode='max', # если метрика должна расти, то тут max и min если наоборот\n",
    "                                                save_freq='epoch' # как часто вызывать\n",
    "                                               )\n",
    "\n",
    "# EarlyStopping позволяет автоматически остановить обучение, если качество не улучшается \n",
    "early_stop = keras.callbacks.EarlyStopping(monitor='val_f1', \n",
    "                                              min_delta=0.01, # какая разница считается как улучшение\n",
    "                                              patience=3, # сколько эпох терпеть отсутствие улучшений\n",
    "                                              verbose=1, \n",
    "                                              mode='max',\n",
    "                                              )"
   ]
  },
  {
   "cell_type": "code",
   "execution_count": 24,
   "id": "90896014",
   "metadata": {},
   "outputs": [],
   "source": [
    "# модель №1\n",
    "inputs = keras.layers.Input(shape=(MAX_LEN,))\n",
    "embeddings = keras.layers.Embedding(input_dim=len(word2id), output_dim=30)(inputs, )\n",
    "\n",
    "conv1 = keras.layers.Conv1D(kernel_size=5, filters=32, strides=1)(embeddings)\n",
    "mean = keras.layers.Flatten()(conv1)\n",
    "dense = keras.layers.Dense(50, activation='relu')(mean)\n",
    "\n",
    "outputs = keras.layers.Dense(len(label2id), activation='softmax')(dense)\n",
    "\n",
    "model = keras.Model(inputs=inputs, outputs=outputs)\n",
    "optimizer = keras.optimizers.Adam(learning_rate=0.001)\n",
    "\n",
    "model.compile(optimizer=optimizer,\n",
    "              loss='categorical_crossentropy',\n",
    "              metrics=[keras.metrics.F1Score(average='weighted', name='f1')])"
   ]
  },
  {
   "cell_type": "code",
   "execution_count": 25,
   "id": "59ce8c14",
   "metadata": {},
   "outputs": [
    {
     "name": "stdout",
     "output_type": "stream",
     "text": [
      "Epoch 1/50\n",
      "\u001b[1m42/43\u001b[0m \u001b[32m━━━━━━━━━━━━━━━━━━━\u001b[0m\u001b[37m━\u001b[0m \u001b[1m0s\u001b[0m 222ms/step - f1: 0.1132 - loss: 2.6171\n",
      "Epoch 1: val_f1 improved from -inf to 0.23306, saving model to model.weights.h5\n",
      "\u001b[1m43/43\u001b[0m \u001b[32m━━━━━━━━━━━━━━━━━━━━\u001b[0m\u001b[37m\u001b[0m \u001b[1m10s\u001b[0m 224ms/step - f1: 0.1149 - loss: 2.6063 - val_f1: 0.2331 - val_loss: 1.9824\n",
      "Epoch 2/50\n",
      "\u001b[1m42/43\u001b[0m \u001b[32m━━━━━━━━━━━━━━━━━━━\u001b[0m\u001b[37m━\u001b[0m \u001b[1m0s\u001b[0m 192ms/step - f1: 0.3237 - loss: 1.8143\n",
      "Epoch 2: val_f1 improved from 0.23306 to 0.52807, saving model to model.weights.h5\n",
      "\u001b[1m43/43\u001b[0m \u001b[32m━━━━━━━━━━━━━━━━━━━━\u001b[0m\u001b[37m\u001b[0m \u001b[1m8s\u001b[0m 194ms/step - f1: 0.3271 - loss: 1.8064 - val_f1: 0.5281 - val_loss: 1.3570\n",
      "Epoch 3/50\n",
      "\u001b[1m42/43\u001b[0m \u001b[32m━━━━━━━━━━━━━━━━━━━\u001b[0m\u001b[37m━\u001b[0m \u001b[1m0s\u001b[0m 183ms/step - f1: 0.6184 - loss: 1.1070\n",
      "Epoch 3: val_f1 improved from 0.52807 to 0.68561, saving model to model.weights.h5\n",
      "\u001b[1m43/43\u001b[0m \u001b[32m━━━━━━━━━━━━━━━━━━━━\u001b[0m\u001b[37m\u001b[0m \u001b[1m8s\u001b[0m 185ms/step - f1: 0.6202 - loss: 1.1027 - val_f1: 0.6856 - val_loss: 1.0191\n",
      "Epoch 4/50\n",
      "\u001b[1m42/43\u001b[0m \u001b[32m━━━━━━━━━━━━━━━━━━━\u001b[0m\u001b[37m━\u001b[0m \u001b[1m0s\u001b[0m 182ms/step - f1: 0.7751 - loss: 0.6885\n",
      "Epoch 4: val_f1 improved from 0.68561 to 0.72497, saving model to model.weights.h5\n",
      "\u001b[1m43/43\u001b[0m \u001b[32m━━━━━━━━━━━━━━━━━━━━\u001b[0m\u001b[37m\u001b[0m \u001b[1m8s\u001b[0m 184ms/step - f1: 0.7755 - loss: 0.6872 - val_f1: 0.7250 - val_loss: 0.8920\n",
      "Epoch 5/50\n",
      "\u001b[1m42/43\u001b[0m \u001b[32m━━━━━━━━━━━━━━━━━━━\u001b[0m\u001b[37m━\u001b[0m \u001b[1m0s\u001b[0m 196ms/step - f1: 0.8654 - loss: 0.4382\n",
      "Epoch 5: val_f1 improved from 0.72497 to 0.74197, saving model to model.weights.h5\n",
      "\u001b[1m43/43\u001b[0m \u001b[32m━━━━━━━━━━━━━━━━━━━━\u001b[0m\u001b[37m\u001b[0m \u001b[1m8s\u001b[0m 198ms/step - f1: 0.8656 - loss: 0.4375 - val_f1: 0.7420 - val_loss: 0.8675\n",
      "Epoch 6/50\n",
      "\u001b[1m42/43\u001b[0m \u001b[32m━━━━━━━━━━━━━━━━━━━\u001b[0m\u001b[37m━\u001b[0m \u001b[1m0s\u001b[0m 187ms/step - f1: 0.9277 - loss: 0.2639\n",
      "Epoch 6: val_f1 did not improve from 0.74197\n",
      "\u001b[1m43/43\u001b[0m \u001b[32m━━━━━━━━━━━━━━━━━━━━\u001b[0m\u001b[37m\u001b[0m \u001b[1m8s\u001b[0m 188ms/step - f1: 0.9277 - loss: 0.2637 - val_f1: 0.7401 - val_loss: 0.9556\n",
      "Epoch 7/50\n",
      "\u001b[1m42/43\u001b[0m \u001b[32m━━━━━━━━━━━━━━━━━━━\u001b[0m\u001b[37m━\u001b[0m \u001b[1m0s\u001b[0m 184ms/step - f1: 0.9673 - loss: 0.1449\n",
      "Epoch 7: val_f1 did not improve from 0.74197\n",
      "\u001b[1m43/43\u001b[0m \u001b[32m━━━━━━━━━━━━━━━━━━━━\u001b[0m\u001b[37m\u001b[0m \u001b[1m8s\u001b[0m 185ms/step - f1: 0.9672 - loss: 0.1449 - val_f1: 0.7404 - val_loss: 1.0612\n",
      "Epoch 8/50\n",
      "\u001b[1m42/43\u001b[0m \u001b[32m━━━━━━━━━━━━━━━━━━━\u001b[0m\u001b[37m━\u001b[0m \u001b[1m0s\u001b[0m 184ms/step - f1: 0.9865 - loss: 0.0780\n",
      "Epoch 8: val_f1 did not improve from 0.74197\n",
      "\u001b[1m43/43\u001b[0m \u001b[32m━━━━━━━━━━━━━━━━━━━━\u001b[0m\u001b[37m\u001b[0m \u001b[1m8s\u001b[0m 184ms/step - f1: 0.9866 - loss: 0.0779 - val_f1: 0.7328 - val_loss: 1.1873\n",
      "Epoch 8: early stopping\n"
     ]
    },
    {
     "data": {
      "text/plain": [
       "<keras.src.callbacks.history.History at 0x1e7d96d0510>"
      ]
     },
     "execution_count": 25,
     "metadata": {},
     "output_type": "execute_result"
    }
   ],
   "source": [
    "model.fit(X_train, y_train,\n",
    "          validation_data=(X_valid, y_valid),\n",
    "          batch_size=1000,\n",
    "         epochs=50,\n",
    "         callbacks=[checkpoint, early_stop])"
   ]
  },
  {
   "cell_type": "code",
   "execution_count": 26,
   "id": "ddb9c334",
   "metadata": {},
   "outputs": [
    {
     "name": "stdout",
     "output_type": "stream",
     "text": [
      "dict_keys(['f1', 'loss', 'val_f1', 'val_loss'])\n"
     ]
    },
    {
     "data": {
      "image/png": "[encoded data removed]",
      "text/plain": [
       "<Figure size 640x480 with 1 Axes>"
      ]
     },
     "metadata": {},
     "output_type": "display_data"
    }
   ],
   "source": [
    "print(model.history.history.keys())\n",
    "plt.plot(model.history.history['f1'])\n",
    "plt.plot(model.history.history['val_f1'])\n",
    "plt.title('model metrics')\n",
    "plt.ylabel('f1')\n",
    "plt.xlabel('epoch')\n",
    "plt.legend(['train', 'val'], loc='upper left')\n",
    "plt.show()"
   ]
  },
  {
   "cell_type": "code",
   "execution_count": null,
   "id": "e0f56ff1",
   "metadata": {},
   "outputs": [],
   "source": [
    "# модель №2"
   ]
  },
  {
   "cell_type": "code",
   "execution_count": null,
   "id": "522d6abe",
   "metadata": {},
   "outputs": [],
   "source": [
    "# ModelCheckpoint сохраняет лучшие версии моделей\n",
    "checkpoint = keras.callbacks.ModelCheckpoint('model.weights.h5', # названия файла \n",
    "                                                monitor='val_f1', # за какой метрикой следить\n",
    "                                                verbose=1, # будет печатать что происходит\n",
    "                                                save_weights_only=True, # если нужно только веса сохранить\n",
    "                                                save_best_only=True, # сохранять только лучшие\n",
    "                                                mode='max', # если метрика должна расти, то тут max и min если наоборот\n",
    "                                                save_freq='epoch' # как часто вызывать\n",
    "                                               )\n",
    "\n",
    "# EarlyStopping позволяет автоматически остановить обучение, если качество не улучшается \n",
    "early_stop = keras.callbacks.EarlyStopping(monitor='val_f1', \n",
    "                                              min_delta=0.001, # какая разница считается как улучшение\n",
    "                                              patience=3, # сколько эпох терпеть отсутствие улучшений\n",
    "                                              verbose=1, \n",
    "                                              mode='max',\n",
    "                                              )"
   ]
  },
  {
   "cell_type": "code",
   "execution_count": 47,
   "id": "06784cd5",
   "metadata": {},
   "outputs": [],
   "source": [
    "inputs = keras.layers.Input(shape=(MAX_LEN,))\n",
    "embeddings = keras.layers.Embedding(input_dim=len(word2id), output_dim=30)(inputs, )\n",
    "\n",
    "conv1 = keras.layers.Conv1D(kernel_size=5, filters=32, strides=1)(embeddings)\n",
    "conv2 = keras.layers.Conv1D(kernel_size=5, filters=32, strides=2)(conv1)\n",
    "pool = keras.layers.AveragePooling1D(pool_size=10)(conv2)\n",
    "                            \n",
    "mean = keras.layers.Flatten()(pool)\n",
    "dense = keras.layers.Dense(60, activation='relu')(mean)\n",
    "dropout = keras.layers.Dropout(0.3)(dense)\n",
    "\n",
    "outputs = keras.layers.Dense(len(label2id), activation='softmax')(dropout)\n",
    "\n",
    "model = keras.Model(inputs=inputs, outputs=outputs)\n",
    "optimizer = keras.optimizers.Adam(learning_rate=0.001)\n",
    "\n",
    "model.compile(optimizer=optimizer,\n",
    "              loss='categorical_crossentropy',\n",
    "              metrics=[keras.metrics.F1Score(average='weighted', name='f1')])"
   ]
  },
  {
   "cell_type": "code",
   "execution_count": 48,
   "id": "8adbf49b",
   "metadata": {},
   "outputs": [
    {
     "name": "stdout",
     "output_type": "stream",
     "text": [
      "Epoch 1/50\n",
      "\u001b[1m28/29\u001b[0m \u001b[32m━━━━━━━━━━━━━━━━━━━\u001b[0m\u001b[37m━\u001b[0m \u001b[1m0s\u001b[0m 357ms/step - f1: 0.1103 - loss: 2.8412\n",
      "Epoch 1: val_f1 improved from -inf to 0.13286, saving model to model.weights.h5\n",
      "\u001b[1m29/29\u001b[0m \u001b[32m━━━━━━━━━━━━━━━━━━━━\u001b[0m\u001b[37m\u001b[0m \u001b[1m10s\u001b[0m 354ms/step - f1: 0.1113 - loss: 2.8306 - val_f1: 0.1329 - val_loss: 2.3641\n",
      "Epoch 2/50\n",
      "\u001b[1m28/29\u001b[0m \u001b[32m━━━━━━━━━━━━━━━━━━━\u001b[0m\u001b[37m━\u001b[0m \u001b[1m0s\u001b[0m 302ms/step - f1: 0.1398 - loss: 2.3709\n",
      "Epoch 2: val_f1 improved from 0.13286 to 0.21398, saving model to model.weights.h5\n",
      "\u001b[1m29/29\u001b[0m \u001b[32m━━━━━━━━━━━━━━━━━━━━\u001b[0m\u001b[37m\u001b[0m \u001b[1m9s\u001b[0m 300ms/step - f1: 0.1409 - loss: 2.3667 - val_f1: 0.2140 - val_loss: 2.0321\n",
      "Epoch 3/50\n",
      "\u001b[1m28/29\u001b[0m \u001b[32m━━━━━━━━━━━━━━━━━━━\u001b[0m\u001b[37m━\u001b[0m \u001b[1m0s\u001b[0m 303ms/step - f1: 0.2604 - loss: 1.9955\n",
      "Epoch 3: val_f1 improved from 0.21398 to 0.41897, saving model to model.weights.h5\n",
      "\u001b[1m29/29\u001b[0m \u001b[32m━━━━━━━━━━━━━━━━━━━━\u001b[0m\u001b[37m\u001b[0m \u001b[1m9s\u001b[0m 301ms/step - f1: 0.2636 - loss: 1.9863 - val_f1: 0.4190 - val_loss: 1.5180\n",
      "Epoch 4/50\n",
      "\u001b[1m28/29\u001b[0m \u001b[32m━━━━━━━━━━━━━━━━━━━\u001b[0m\u001b[37m━\u001b[0m \u001b[1m0s\u001b[0m 304ms/step - f1: 0.4512 - loss: 1.4655\n",
      "Epoch 4: val_f1 improved from 0.41897 to 0.55633, saving model to model.weights.h5\n",
      "\u001b[1m29/29\u001b[0m \u001b[32m━━━━━━━━━━━━━━━━━━━━\u001b[0m\u001b[37m\u001b[0m \u001b[1m9s\u001b[0m 302ms/step - f1: 0.4535 - loss: 1.4608 - val_f1: 0.5563 - val_loss: 1.2709\n",
      "Epoch 5/50\n",
      "\u001b[1m28/29\u001b[0m \u001b[32m━━━━━━━━━━━━━━━━━━━\u001b[0m\u001b[37m━\u001b[0m \u001b[1m0s\u001b[0m 312ms/step - f1: 0.5841 - loss: 1.1746\n",
      "Epoch 5: val_f1 improved from 0.55633 to 0.58788, saving model to model.weights.h5\n",
      "\u001b[1m29/29\u001b[0m \u001b[32m━━━━━━━━━━━━━━━━━━━━\u001b[0m\u001b[37m\u001b[0m \u001b[1m9s\u001b[0m 310ms/step - f1: 0.5847 - loss: 1.1728 - val_f1: 0.5879 - val_loss: 1.2040\n",
      "Epoch 6/50\n",
      "\u001b[1m28/29\u001b[0m \u001b[32m━━━━━━━━━━━━━━━━━━━\u001b[0m\u001b[37m━\u001b[0m \u001b[1m0s\u001b[0m 317ms/step - f1: 0.6507 - loss: 1.0013\n",
      "Epoch 6: val_f1 improved from 0.58788 to 0.60401, saving model to model.weights.h5\n",
      "\u001b[1m29/29\u001b[0m \u001b[32m━━━━━━━━━━━━━━━━━━━━\u001b[0m\u001b[37m\u001b[0m \u001b[1m9s\u001b[0m 315ms/step - f1: 0.6509 - loss: 1.0009 - val_f1: 0.6040 - val_loss: 1.1814\n",
      "Epoch 7/50\n",
      "\u001b[1m28/29\u001b[0m \u001b[32m━━━━━━━━━━━━━━━━━━━\u001b[0m\u001b[37m━\u001b[0m \u001b[1m0s\u001b[0m 342ms/step - f1: 0.6980 - loss: 0.8749\n",
      "Epoch 7: val_f1 improved from 0.60401 to 0.61320, saving model to model.weights.h5\n",
      "\u001b[1m29/29\u001b[0m \u001b[32m━━━━━━━━━━━━━━━━━━━━\u001b[0m\u001b[37m\u001b[0m \u001b[1m10s\u001b[0m 339ms/step - f1: 0.6984 - loss: 0.8733 - val_f1: 0.6132 - val_loss: 1.1863\n",
      "Epoch 8/50\n",
      "\u001b[1m28/29\u001b[0m \u001b[32m━━━━━━━━━━━━━━━━━━━\u001b[0m\u001b[37m━\u001b[0m \u001b[1m0s\u001b[0m 312ms/step - f1: 0.7388 - loss: 0.7511\n",
      "Epoch 8: val_f1 improved from 0.61320 to 0.63755, saving model to model.weights.h5\n",
      "\u001b[1m29/29\u001b[0m \u001b[32m━━━━━━━━━━━━━━━━━━━━\u001b[0m\u001b[37m\u001b[0m \u001b[1m9s\u001b[0m 310ms/step - f1: 0.7394 - loss: 0.7503 - val_f1: 0.6376 - val_loss: 1.1777\n",
      "Epoch 9/50\n",
      "\u001b[1m28/29\u001b[0m \u001b[32m━━━━━━━━━━━━━━━━━━━\u001b[0m\u001b[37m━\u001b[0m \u001b[1m0s\u001b[0m 315ms/step - f1: 0.7984 - loss: 0.6078\n",
      "Epoch 9: val_f1 improved from 0.63755 to 0.65057, saving model to model.weights.h5\n",
      "\u001b[1m29/29\u001b[0m \u001b[32m━━━━━━━━━━━━━━━━━━━━\u001b[0m\u001b[37m\u001b[0m \u001b[1m9s\u001b[0m 313ms/step - f1: 0.7985 - loss: 0.6082 - val_f1: 0.6506 - val_loss: 1.2180\n",
      "Epoch 10/50\n",
      "\u001b[1m28/29\u001b[0m \u001b[32m━━━━━━━━━━━━━━━━━━━\u001b[0m\u001b[37m━\u001b[0m \u001b[1m0s\u001b[0m 305ms/step - f1: 0.8389 - loss: 0.5162\n",
      "Epoch 10: val_f1 improved from 0.65057 to 0.65571, saving model to model.weights.h5\n",
      "\u001b[1m29/29\u001b[0m \u001b[32m━━━━━━━━━━━━━━━━━━━━\u001b[0m\u001b[37m\u001b[0m \u001b[1m9s\u001b[0m 303ms/step - f1: 0.8388 - loss: 0.5156 - val_f1: 0.6557 - val_loss: 1.2803\n",
      "Epoch 11/50\n",
      "\u001b[1m28/29\u001b[0m \u001b[32m━━━━━━━━━━━━━━━━━━━\u001b[0m\u001b[37m━\u001b[0m \u001b[1m0s\u001b[0m 302ms/step - f1: 0.8674 - loss: 0.4179\n",
      "Epoch 11: val_f1 improved from 0.65571 to 0.66661, saving model to model.weights.h5\n",
      "\u001b[1m29/29\u001b[0m \u001b[32m━━━━━━━━━━━━━━━━━━━━\u001b[0m\u001b[37m\u001b[0m \u001b[1m9s\u001b[0m 301ms/step - f1: 0.8673 - loss: 0.4180 - val_f1: 0.6666 - val_loss: 1.3946\n",
      "Epoch 12/50\n",
      "\u001b[1m28/29\u001b[0m \u001b[32m━━━━━━━━━━━━━━━━━━━\u001b[0m\u001b[37m━\u001b[0m \u001b[1m0s\u001b[0m 311ms/step - f1: 0.8933 - loss: 0.3450\n",
      "Epoch 12: val_f1 improved from 0.66661 to 0.66864, saving model to model.weights.h5\n",
      "\u001b[1m29/29\u001b[0m \u001b[32m━━━━━━━━━━━━━━━━━━━━\u001b[0m\u001b[37m\u001b[0m \u001b[1m9s\u001b[0m 311ms/step - f1: 0.8932 - loss: 0.3452 - val_f1: 0.6686 - val_loss: 1.5270\n",
      "Epoch 13/50\n",
      "\u001b[1m28/29\u001b[0m \u001b[32m━━━━━━━━━━━━━━━━━━━\u001b[0m\u001b[37m━\u001b[0m \u001b[1m0s\u001b[0m 314ms/step - f1: 0.9105 - loss: 0.2902\n",
      "Epoch 13: val_f1 improved from 0.66864 to 0.66991, saving model to model.weights.h5\n",
      "\u001b[1m29/29\u001b[0m \u001b[32m━━━━━━━━━━━━━━━━━━━━\u001b[0m\u001b[37m\u001b[0m \u001b[1m9s\u001b[0m 313ms/step - f1: 0.9105 - loss: 0.2905 - val_f1: 0.6699 - val_loss: 1.6455\n",
      "Epoch 14/50\n",
      "\u001b[1m28/29\u001b[0m \u001b[32m━━━━━━━━━━━━━━━━━━━\u001b[0m\u001b[37m━\u001b[0m \u001b[1m0s\u001b[0m 302ms/step - f1: 0.9288 - loss: 0.2313\n",
      "Epoch 14: val_f1 improved from 0.66991 to 0.67174, saving model to model.weights.h5\n",
      "\u001b[1m29/29\u001b[0m \u001b[32m━━━━━━━━━━━━━━━━━━━━\u001b[0m\u001b[37m\u001b[0m \u001b[1m9s\u001b[0m 301ms/step - f1: 0.9286 - loss: 0.2318 - val_f1: 0.6717 - val_loss: 1.7827\n",
      "Epoch 15/50\n",
      "\u001b[1m28/29\u001b[0m \u001b[32m━━━━━━━━━━━━━━━━━━━\u001b[0m\u001b[37m━\u001b[0m \u001b[1m0s\u001b[0m 299ms/step - f1: 0.9427 - loss: 0.1907\n",
      "Epoch 15: val_f1 did not improve from 0.67174\n",
      "\u001b[1m29/29\u001b[0m \u001b[32m━━━━━━━━━━━━━━━━━━━━\u001b[0m\u001b[37m\u001b[0m \u001b[1m9s\u001b[0m 296ms/step - f1: 0.9425 - loss: 0.1911 - val_f1: 0.6695 - val_loss: 1.9171\n",
      "Epoch 16/50\n",
      "\u001b[1m28/29\u001b[0m \u001b[32m━━━━━━━━━━━━━━━━━━━\u001b[0m\u001b[37m━\u001b[0m \u001b[1m0s\u001b[0m 305ms/step - f1: 0.9528 - loss: 0.1571\n",
      "Epoch 16: val_f1 did not improve from 0.67174\n",
      "\u001b[1m29/29\u001b[0m \u001b[32m━━━━━━━━━━━━━━━━━━━━\u001b[0m\u001b[37m\u001b[0m \u001b[1m9s\u001b[0m 302ms/step - f1: 0.9526 - loss: 0.1575 - val_f1: 0.6651 - val_loss: 2.1141\n",
      "Epoch 17/50\n",
      "\u001b[1m28/29\u001b[0m \u001b[32m━━━━━━━━━━━━━━━━━━━\u001b[0m\u001b[37m━\u001b[0m \u001b[1m0s\u001b[0m 301ms/step - f1: 0.9589 - loss: 0.1397\n",
      "Epoch 17: val_f1 did not improve from 0.67174\n",
      "\u001b[1m29/29\u001b[0m \u001b[32m━━━━━━━━━━━━━━━━━━━━\u001b[0m\u001b[37m\u001b[0m \u001b[1m9s\u001b[0m 299ms/step - f1: 0.9588 - loss: 0.1396 - val_f1: 0.6610 - val_loss: 2.2174\n",
      "Epoch 17: early stopping\n"
     ]
    },
    {
     "data": {
      "text/plain": [
       "<keras.src.callbacks.history.History at 0x1e7ee828a10>"
      ]
     },
     "execution_count": 48,
     "metadata": {},
     "output_type": "execute_result"
    }
   ],
   "source": [
    "model.fit(X_train, y_train,\n",
    "          validation_data=(X_valid, y_valid),\n",
    "          batch_size=1500,\n",
    "          epochs=50,\n",
    "        callbacks=[checkpoint, early_stop])"
   ]
  },
  {
   "cell_type": "code",
   "execution_count": 50,
   "id": "a3341a8e",
   "metadata": {
    "scrolled": true
   },
   "outputs": [
    {
     "name": "stdout",
     "output_type": "stream",
     "text": [
      "dict_keys(['f1', 'loss', 'val_f1', 'val_loss'])\n"
     ]
    },
    {
     "data": {
      "image/png": "[encoded data removed]",
      "text/plain": [
       "<Figure size 640x480 with 1 Axes>"
      ]
     },
     "metadata": {},
     "output_type": "display_data"
    }
   ],
   "source": [
    "print(model.history.history.keys())\n",
    "plt.plot(model.history.history['f1'])\n",
    "plt.plot(model.history.history['val_f1'])\n",
    "plt.title('model metrics')\n",
    "plt.ylabel('f1')\n",
    "plt.xlabel('epoch')\n",
    "plt.legend(['train', 'val'], loc='upper left')\n",
    "plt.show()"
   ]
  },
  {
   "cell_type": "code",
   "execution_count": 71,
   "id": "28034958",
   "metadata": {},
   "outputs": [],
   "source": [
    "# модель №3\n",
    "inputs = keras.layers.Input(shape=(MAX_LEN,))\n",
    "embeddings = keras.layers.Embedding(input_dim=len(word2id), output_dim=100)(inputs, )\n",
    "\n",
    "convs = []\n",
    "\n",
    "for ks in [3,4,5,7,10]:\n",
    "    dropout1 = keras.layers.Dropout(0.1)(embeddings)\n",
    "    conv1 = keras.layers.Conv1D(kernel_size=2, filters=32, padding='same', strides=1)(dropout1) \n",
    "    pool1 = keras.layers.AveragePooling1D(pool_size=3, padding=\"same\")(conv1) \n",
    "    conv2 = keras.layers.Conv1D(kernel_size=3, filters=32, padding='same', strides=1)(pool1) \n",
    "    pool2 = keras.layers.AveragePooling1D(pool_size=5, padding=\"same\")(conv2) \n",
    "    conv3 = keras.layers.Conv1D(kernel_size=4, filters=32, padding='same', strides=1, \n",
    "                              kernel_regularizer='l2', activation='relu')(pool2) \n",
    "    pool3 = keras.layers.AveragePooling1D(pool_size=7, padding=\"same\")(conv3) \n",
    "    dropout2 = keras.layers.Dropout(0.3)(pool3) \n",
    "    dense1 = keras.layers.Dense(50, activation='relu', kernel_regularizer='l2')(dropout2) \n",
    "\n",
    "    convs.append(dense1)\n",
    "\n",
    "concat = keras.layers.concatenate(convs, axis=2)\n",
    "\n",
    "conv4 = keras.layers.Conv1D(kernel_size=ks, filters=32, strides=2, padding=\"same\")(concat) \n",
    "pool4 = keras.layers.AveragePooling1D(pool_size=4, padding=\"same\")(conv4) \n",
    "\n",
    "dropout3 = keras.layers.Dropout(0.2)(pool4) \n",
    "mean = keras.layers.Flatten()(dropout3) \n",
    "\n",
    "dense2 = keras.layers.Dense(70, activation='relu', kernel_regularizer='l2')(mean) \n",
    "dropout4 = keras.layers.Dropout(0.3)(dense2) \n",
    "\n",
    "outputs = keras.layers.Dense(len(label2id), activation='softmax')(dropout4)\n",
    "\n",
    "model = keras.Model(inputs=inputs, outputs=outputs)\n",
    "optimizer = keras.optimizers.Adam(learning_rate=0.001)\n",
    "\n",
    "model.compile(optimizer=optimizer, \n",
    "              loss='categorical_crossentropy', \n",
    "              metrics=[keras.metrics.F1Score(average='weighted', name='f1')])"
   ]
  },
  {
   "cell_type": "code",
   "execution_count": 72,
   "id": "4409f989",
   "metadata": {},
   "outputs": [],
   "source": [
    "# ModelCheckpoint сохраняет лучшие версии моделей\n",
    "checkpoint = keras.callbacks.ModelCheckpoint('model.weights.h5', # названия файла \n",
    "                                                monitor='val_f1', # за какой метрикой следить\n",
    "                                                verbose=1, # будет печатать что происходит\n",
    "                                                save_weights_only=True, # если нужно только веса сохранить\n",
    "                                                save_best_only=True, # сохранять только лучшие\n",
    "                                                mode='max', # если метрика должна расти, то тут max и min если наоборот\n",
    "                                                save_freq='epoch' # как часто вызывать\n",
    "                                               )\n",
    "\n",
    "# EarlyStopping позволяет автоматически остановить обучение, если качество не улучшается \n",
    "early_stop = keras.callbacks.EarlyStopping(monitor='val_f1', \n",
    "                                              min_delta=0.001, # какая разница считается как улучшение\n",
    "                                              patience=3, # сколько эпох терпеть отсутствие улучшений\n",
    "                                              verbose=1, \n",
    "                                              mode='max',\n",
    "                                              )"
   ]
  },
  {
   "cell_type": "code",
   "execution_count": 73,
   "id": "f92e8922",
   "metadata": {},
   "outputs": [
    {
     "name": "stdout",
     "output_type": "stream",
     "text": [
      "Epoch 1/50\n",
      "\u001b[1m43/43\u001b[0m \u001b[32m━━━━━━━━━━━━━━━━━━━━\u001b[0m\u001b[37m\u001b[0m \u001b[1m0s\u001b[0m 1s/step - f1: 0.1149 - loss: 6.2539\n",
      "Epoch 1: val_f1 improved from -inf to 0.07995, saving model to model.weights.h5\n",
      "\u001b[1m43/43\u001b[0m \u001b[32m━━━━━━━━━━━━━━━━━━━━\u001b[0m\u001b[37m\u001b[0m \u001b[1m65s\u001b[0m 2s/step - f1: 0.1150 - loss: 6.2393 - val_f1: 0.0799 - val_loss: 4.4675\n",
      "Epoch 2/50\n",
      "\u001b[1m43/43\u001b[0m \u001b[32m━━━━━━━━━━━━━━━━━━━━\u001b[0m\u001b[37m\u001b[0m \u001b[1m0s\u001b[0m 1s/step - f1: 0.1201 - loss: 4.1709\n",
      "Epoch 2: val_f1 improved from 0.07995 to 0.09829, saving model to model.weights.h5\n",
      "\u001b[1m43/43\u001b[0m \u001b[32m━━━━━━━━━━━━━━━━━━━━\u001b[0m\u001b[37m\u001b[0m \u001b[1m65s\u001b[0m 2s/step - f1: 0.1200 - loss: 4.1640 - val_f1: 0.0983 - val_loss: 3.2610\n",
      "Epoch 3/50\n",
      "\u001b[1m43/43\u001b[0m \u001b[32m━━━━━━━━━━━━━━━━━━━━\u001b[0m\u001b[37m\u001b[0m \u001b[1m0s\u001b[0m 1s/step - f1: 0.1498 - loss: 3.1201\n",
      "Epoch 3: val_f1 improved from 0.09829 to 0.22210, saving model to model.weights.h5\n",
      "\u001b[1m43/43\u001b[0m \u001b[32m━━━━━━━━━━━━━━━━━━━━\u001b[0m\u001b[37m\u001b[0m \u001b[1m65s\u001b[0m 2s/step - f1: 0.1506 - loss: 3.1155 - val_f1: 0.2221 - val_loss: 2.4811\n",
      "Epoch 4/50\n",
      "\u001b[1m43/43\u001b[0m \u001b[32m━━━━━━━━━━━━━━━━━━━━\u001b[0m\u001b[37m\u001b[0m \u001b[1m0s\u001b[0m 1s/step - f1: 0.2409 - loss: 2.3789\n",
      "Epoch 4: val_f1 did not improve from 0.22210\n",
      "\u001b[1m43/43\u001b[0m \u001b[32m━━━━━━━━━━━━━━━━━━━━\u001b[0m\u001b[37m\u001b[0m \u001b[1m65s\u001b[0m 2s/step - f1: 0.2412 - loss: 2.3765 - val_f1: 0.2176 - val_loss: 2.0746\n",
      "Epoch 5/50\n",
      "\u001b[1m43/43\u001b[0m \u001b[32m━━━━━━━━━━━━━━━━━━━━\u001b[0m\u001b[37m\u001b[0m \u001b[1m0s\u001b[0m 1s/step - f1: 0.3034 - loss: 1.9772\n",
      "Epoch 5: val_f1 improved from 0.22210 to 0.32392, saving model to model.weights.h5\n",
      "\u001b[1m43/43\u001b[0m \u001b[32m━━━━━━━━━━━━━━━━━━━━\u001b[0m\u001b[37m\u001b[0m \u001b[1m65s\u001b[0m 2s/step - f1: 0.3037 - loss: 1.9758 - val_f1: 0.3239 - val_loss: 1.8821\n",
      "Epoch 6/50\n",
      "\u001b[1m43/43\u001b[0m \u001b[32m━━━━━━━━━━━━━━━━━━━━\u001b[0m\u001b[37m\u001b[0m \u001b[1m0s\u001b[0m 1s/step - f1: 0.3576 - loss: 1.7303\n",
      "Epoch 6: val_f1 did not improve from 0.32392\n",
      "\u001b[1m43/43\u001b[0m \u001b[32m━━━━━━━━━━━━━━━━━━━━\u001b[0m\u001b[37m\u001b[0m \u001b[1m65s\u001b[0m 2s/step - f1: 0.3578 - loss: 1.7295 - val_f1: 0.3109 - val_loss: 1.7202\n",
      "Epoch 7/50\n",
      "\u001b[1m43/43\u001b[0m \u001b[32m━━━━━━━━━━━━━━━━━━━━\u001b[0m\u001b[37m\u001b[0m \u001b[1m0s\u001b[0m 1s/step - f1: 0.4010 - loss: 1.5204\n",
      "Epoch 7: val_f1 improved from 0.32392 to 0.43299, saving model to model.weights.h5\n",
      "\u001b[1m43/43\u001b[0m \u001b[32m━━━━━━━━━━━━━━━━━━━━\u001b[0m\u001b[37m\u001b[0m \u001b[1m65s\u001b[0m 2s/step - f1: 0.4014 - loss: 1.5200 - val_f1: 0.4330 - val_loss: 1.6155\n",
      "Epoch 8/50\n",
      "\u001b[1m43/43\u001b[0m \u001b[32m━━━━━━━━━━━━━━━━━━━━\u001b[0m\u001b[37m\u001b[0m \u001b[1m0s\u001b[0m 1s/step - f1: 0.5041 - loss: 1.3351\n",
      "Epoch 8: val_f1 improved from 0.43299 to 0.51850, saving model to model.weights.h5\n",
      "\u001b[1m43/43\u001b[0m \u001b[32m━━━━━━━━━━━━━━━━━━━━\u001b[0m\u001b[37m\u001b[0m \u001b[1m65s\u001b[0m 2s/step - f1: 0.5046 - loss: 1.3344 - val_f1: 0.5185 - val_loss: 1.4693\n",
      "Epoch 9/50\n",
      "\u001b[1m43/43\u001b[0m \u001b[32m━━━━━━━━━━━━━━━━━━━━\u001b[0m\u001b[37m\u001b[0m \u001b[1m0s\u001b[0m 1s/step - f1: 0.5848 - loss: 1.1547\n",
      "Epoch 9: val_f1 improved from 0.51850 to 0.54900, saving model to model.weights.h5\n",
      "\u001b[1m43/43\u001b[0m \u001b[32m━━━━━━━━━━━━━━━━━━━━\u001b[0m\u001b[37m\u001b[0m \u001b[1m65s\u001b[0m 2s/step - f1: 0.5849 - loss: 1.1544 - val_f1: 0.5490 - val_loss: 1.4171\n",
      "Epoch 10/50\n",
      "\u001b[1m43/43\u001b[0m \u001b[32m━━━━━━━━━━━━━━━━━━━━\u001b[0m\u001b[37m\u001b[0m \u001b[1m0s\u001b[0m 1s/step - f1: 0.6376 - loss: 1.0313\n",
      "Epoch 10: val_f1 improved from 0.54900 to 0.56469, saving model to model.weights.h5\n",
      "\u001b[1m43/43\u001b[0m \u001b[32m━━━━━━━━━━━━━━━━━━━━\u001b[0m\u001b[37m\u001b[0m \u001b[1m65s\u001b[0m 2s/step - f1: 0.6376 - loss: 1.0312 - val_f1: 0.5647 - val_loss: 1.4174\n",
      "Epoch 11/50\n",
      "\u001b[1m43/43\u001b[0m \u001b[32m━━━━━━━━━━━━━━━━━━━━\u001b[0m\u001b[37m\u001b[0m \u001b[1m0s\u001b[0m 1s/step - f1: 0.6791 - loss: 0.9383\n",
      "Epoch 11: val_f1 did not improve from 0.56469\n",
      "\u001b[1m43/43\u001b[0m \u001b[32m━━━━━━━━━━━━━━━━━━━━\u001b[0m\u001b[37m\u001b[0m \u001b[1m65s\u001b[0m 2s/step - f1: 0.6791 - loss: 0.9384 - val_f1: 0.5638 - val_loss: 1.4693\n",
      "Epoch 12/50\n",
      "\u001b[1m43/43\u001b[0m \u001b[32m━━━━━━━━━━━━━━━━━━━━\u001b[0m\u001b[37m\u001b[0m \u001b[1m0s\u001b[0m 1s/step - f1: 0.7155 - loss: 0.8482\n",
      "Epoch 12: val_f1 improved from 0.56469 to 0.57272, saving model to model.weights.h5\n",
      "\u001b[1m43/43\u001b[0m \u001b[32m━━━━━━━━━━━━━━━━━━━━\u001b[0m\u001b[37m\u001b[0m \u001b[1m65s\u001b[0m 2s/step - f1: 0.7155 - loss: 0.8485 - val_f1: 0.5727 - val_loss: 1.4863\n",
      "Epoch 13/50\n",
      "\u001b[1m43/43\u001b[0m \u001b[32m━━━━━━━━━━━━━━━━━━━━\u001b[0m\u001b[37m\u001b[0m \u001b[1m0s\u001b[0m 1s/step - f1: 0.7412 - loss: 0.7806\n",
      "Epoch 13: val_f1 improved from 0.57272 to 0.57861, saving model to model.weights.h5\n",
      "\u001b[1m43/43\u001b[0m \u001b[32m━━━━━━━━━━━━━━━━━━━━\u001b[0m\u001b[37m\u001b[0m \u001b[1m65s\u001b[0m 2s/step - f1: 0.7411 - loss: 0.7809 - val_f1: 0.5786 - val_loss: 1.6038\n",
      "Epoch 14/50\n",
      "\u001b[1m43/43\u001b[0m \u001b[32m━━━━━━━━━━━━━━━━━━━━\u001b[0m\u001b[37m\u001b[0m \u001b[1m0s\u001b[0m 1s/step - f1: 0.7627 - loss: 0.7364\n",
      "Epoch 14: val_f1 did not improve from 0.57861\n",
      "\u001b[1m43/43\u001b[0m \u001b[32m━━━━━━━━━━━━━━━━━━━━\u001b[0m\u001b[37m\u001b[0m \u001b[1m65s\u001b[0m 2s/step - f1: 0.7626 - loss: 0.7364 - val_f1: 0.5726 - val_loss: 1.6801\n",
      "Epoch 15/50\n",
      "\u001b[1m43/43\u001b[0m \u001b[32m━━━━━━━━━━━━━━━━━━━━\u001b[0m\u001b[37m\u001b[0m \u001b[1m0s\u001b[0m 1s/step - f1: 0.7830 - loss: 0.6698\n",
      "Epoch 15: val_f1 improved from 0.57861 to 0.58871, saving model to model.weights.h5\n",
      "\u001b[1m43/43\u001b[0m \u001b[32m━━━━━━━━━━━━━━━━━━━━\u001b[0m\u001b[37m\u001b[0m \u001b[1m65s\u001b[0m 2s/step - f1: 0.7830 - loss: 0.6700 - val_f1: 0.5887 - val_loss: 1.7543\n",
      "Epoch 16/50\n",
      "\u001b[1m43/43\u001b[0m \u001b[32m━━━━━━━━━━━━━━━━━━━━\u001b[0m\u001b[37m\u001b[0m \u001b[1m0s\u001b[0m 1s/step - f1: 0.8100 - loss: 0.6224\n",
      "Epoch 16: val_f1 improved from 0.58871 to 0.59069, saving model to model.weights.h5\n",
      "\u001b[1m43/43\u001b[0m \u001b[32m━━━━━━━━━━━━━━━━━━━━\u001b[0m\u001b[37m\u001b[0m \u001b[1m65s\u001b[0m 2s/step - f1: 0.8099 - loss: 0.6228 - val_f1: 0.5907 - val_loss: 1.7775\n",
      "Epoch 17/50\n",
      "\u001b[1m43/43\u001b[0m \u001b[32m━━━━━━━━━━━━━━━━━━━━\u001b[0m\u001b[37m\u001b[0m \u001b[1m0s\u001b[0m 1s/step - f1: 0.8184 - loss: 0.5956\n",
      "Epoch 17: val_f1 improved from 0.59069 to 0.59546, saving model to model.weights.h5\n",
      "\u001b[1m43/43\u001b[0m \u001b[32m━━━━━━━━━━━━━━━━━━━━\u001b[0m\u001b[37m\u001b[0m \u001b[1m65s\u001b[0m 2s/step - f1: 0.8184 - loss: 0.5957 - val_f1: 0.5955 - val_loss: 1.8857\n",
      "Epoch 18/50\n",
      "\u001b[1m43/43\u001b[0m \u001b[32m━━━━━━━━━━━━━━━━━━━━\u001b[0m\u001b[37m\u001b[0m \u001b[1m0s\u001b[0m 1s/step - f1: 0.8420 - loss: 0.5425\n",
      "Epoch 18: val_f1 improved from 0.59546 to 0.59603, saving model to model.weights.h5\n",
      "\u001b[1m43/43\u001b[0m \u001b[32m━━━━━━━━━━━━━━━━━━━━\u001b[0m\u001b[37m\u001b[0m \u001b[1m65s\u001b[0m 2s/step - f1: 0.8419 - loss: 0.5427 - val_f1: 0.5960 - val_loss: 1.9344\n",
      "Epoch 19/50\n",
      "\u001b[1m43/43\u001b[0m \u001b[32m━━━━━━━━━━━━━━━━━━━━\u001b[0m\u001b[37m\u001b[0m \u001b[1m0s\u001b[0m 1s/step - f1: 0.8572 - loss: 0.5051\n",
      "Epoch 19: val_f1 improved from 0.59603 to 0.60058, saving model to model.weights.h5\n",
      "\u001b[1m43/43\u001b[0m \u001b[32m━━━━━━━━━━━━━━━━━━━━\u001b[0m\u001b[37m\u001b[0m \u001b[1m65s\u001b[0m 2s/step - f1: 0.8571 - loss: 0.5054 - val_f1: 0.6006 - val_loss: 2.0483\n",
      "Epoch 20/50\n",
      "\u001b[1m43/43\u001b[0m \u001b[32m━━━━━━━━━━━━━━━━━━━━\u001b[0m\u001b[37m\u001b[0m \u001b[1m0s\u001b[0m 1s/step - f1: 0.8704 - loss: 0.4659\n",
      "Epoch 20: val_f1 did not improve from 0.60058\n",
      "\u001b[1m43/43\u001b[0m \u001b[32m━━━━━━━━━━━━━━━━━━━━\u001b[0m\u001b[37m\u001b[0m \u001b[1m65s\u001b[0m 2s/step - f1: 0.8703 - loss: 0.4661 - val_f1: 0.5948 - val_loss: 2.1455\n",
      "Epoch 21/50\n",
      "\u001b[1m43/43\u001b[0m \u001b[32m━━━━━━━━━━━━━━━━━━━━\u001b[0m\u001b[37m\u001b[0m \u001b[1m0s\u001b[0m 1s/step - f1: 0.8853 - loss: 0.4243\n",
      "Epoch 21: val_f1 did not improve from 0.60058\n",
      "\u001b[1m43/43\u001b[0m \u001b[32m━━━━━━━━━━━━━━━━━━━━\u001b[0m\u001b[37m\u001b[0m \u001b[1m65s\u001b[0m 2s/step - f1: 0.8852 - loss: 0.4245 - val_f1: 0.5966 - val_loss: 2.1335\n",
      "Epoch 22/50\n",
      "\u001b[1m43/43\u001b[0m \u001b[32m━━━━━━━━━━━━━━━━━━━━\u001b[0m\u001b[37m\u001b[0m \u001b[1m0s\u001b[0m 1s/step - f1: 0.8901 - loss: 0.4011\n",
      "Epoch 22: val_f1 improved from 0.60058 to 0.60080, saving model to model.weights.h5\n",
      "\u001b[1m43/43\u001b[0m \u001b[32m━━━━━━━━━━━━━━━━━━━━\u001b[0m\u001b[37m\u001b[0m \u001b[1m65s\u001b[0m 2s/step - f1: 0.8901 - loss: 0.4012 - val_f1: 0.6008 - val_loss: 2.3290\n",
      "Epoch 22: early stopping\n"
     ]
    },
    {
     "data": {
      "text/plain": [
       "<keras.src.callbacks.history.History at 0x1e7f1da1d10>"
      ]
     },
     "execution_count": 73,
     "metadata": {},
     "output_type": "execute_result"
    }
   ],
   "source": [
    "model.fit(X_train, y_train,\n",
    "          validation_data=(X_valid, y_valid),\n",
    "          batch_size=1000,\n",
    "         epochs=50,\n",
    "         callbacks=[checkpoint, early_stop])"
   ]
  },
  {
   "cell_type": "code",
   "execution_count": 74,
   "id": "67a4bfc0",
   "metadata": {},
   "outputs": [
    {
     "name": "stdout",
     "output_type": "stream",
     "text": [
      "dict_keys(['f1', 'loss', 'val_f1', 'val_loss'])\n"
     ]
    },
    {
     "data": {
      "image/png": "[encoded data removed]",
      "text/plain": [
       "<Figure size 640x480 with 1 Axes>"
      ]
     },
     "metadata": {},
     "output_type": "display_data"
    }
   ],
   "source": [
    "print(model.history.history.keys())\n",
    "plt.plot(model.history.history['f1'])\n",
    "plt.plot(model.history.history['val_f1'])\n",
    "plt.title('model metrics')\n",
    "plt.ylabel('f1')\n",
    "plt.xlabel('epoch')\n",
    "plt.legend(['train', 'val'], loc='upper left')\n",
    "plt.show()"
   ]
  }
 ],
 "metadata": {
  "kernelspec": {
   "display_name": "Python 3 (ipykernel)",
   "language": "python",
   "name": "python3"
  },
  "language_info": {
   "codemirror_mode": {
    "name": "ipython",
    "version": 3
   },
   "file_extension": ".py",
   "mimetype": "text/x-python",
   "name": "python",
   "nbconvert_exporter": "python",
   "pygments_lexer": "ipython3",
   "version": "3.11.4"
  }
 },
 "nbformat": 4,
 "nbformat_minor": 5
}
