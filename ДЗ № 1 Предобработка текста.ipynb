{
 "cells": [
  {
   "cell_type": "code",
   "execution_count": null,
   "id": "a817740b",
   "metadata": {},
   "outputs": [],
   "source": [
    "#Установка необходимых библиотек"
   ]
  },
  {
   "cell_type": "code",
   "execution_count": 7,
   "id": "42f88c9a",
   "metadata": {},
   "outputs": [
    {
     "name": "stdout",
     "output_type": "stream",
     "text": [
      "Defaulting to user installation because normal site-packages is not writeable\n",
      "Requirement already satisfied: pymystem3 in c:\\users\\пользователь\\appdata\\roaming\\python\\python311\\site-packages (0.2.0)\n",
      "Requirement already satisfied: requests in c:\\programdata\\miniconda3\\lib\\site-packages (from pymystem3) (2.31.0)\n",
      "Requirement already satisfied: charset-normalizer<4,>=2 in c:\\programdata\\miniconda3\\lib\\site-packages (from requests->pymystem3) (2.0.4)\n",
      "Requirement already satisfied: idna<4,>=2.5 in c:\\programdata\\miniconda3\\lib\\site-packages (from requests->pymystem3) (3.4)\n",
      "Requirement already satisfied: urllib3<3,>=1.21.1 in c:\\programdata\\miniconda3\\lib\\site-packages (from requests->pymystem3) (1.26.16)\n",
      "Requirement already satisfied: certifi>=2017.4.17 in c:\\programdata\\miniconda3\\lib\\site-packages (from requests->pymystem3) (2023.7.22)\n",
      "Defaulting to user installation because normal site-packages is not writeable\n",
      "Requirement already satisfied: razdel in c:\\users\\пользователь\\appdata\\roaming\\python\\python311\\site-packages (0.5.0)\n",
      "Defaulting to user installation because normal site-packages is not writeable\n",
      "Requirement already satisfied: gensim in c:\\users\\пользователь\\appdata\\roaming\\python\\python311\\site-packages (4.3.2)\n",
      "Requirement already satisfied: numpy>=1.18.5 in c:\\users\\пользователь\\appdata\\roaming\\python\\python311\\site-packages (from gensim) (1.26.0)\n",
      "Requirement already satisfied: scipy>=1.7.0 in c:\\users\\пользователь\\appdata\\roaming\\python\\python311\\site-packages (from gensim) (1.11.3)\n",
      "Requirement already satisfied: smart-open>=1.8.1 in c:\\users\\пользователь\\appdata\\roaming\\python\\python311\\site-packages (from gensim) (6.4.0)\n",
      "Defaulting to user installation because normal site-packages is not writeable\n",
      "Requirement already satisfied: nltk in c:\\users\\пользователь\\appdata\\roaming\\python\\python311\\site-packages (3.6.5)\n",
      "Requirement already satisfied: click in c:\\users\\пользователь\\appdata\\roaming\\python\\python311\\site-packages (from nltk) (8.1.7)\n",
      "Requirement already satisfied: joblib in c:\\users\\пользователь\\appdata\\roaming\\python\\python311\\site-packages (from nltk) (1.3.2)\n",
      "Requirement already satisfied: regex>=2021.8.3 in c:\\users\\пользователь\\appdata\\roaming\\python\\python311\\site-packages (from nltk) (2023.8.8)\n",
      "Requirement already satisfied: tqdm in c:\\users\\пользователь\\appdata\\roaming\\python\\python311\\site-packages (from nltk) (4.66.1)\n",
      "Requirement already satisfied: colorama in c:\\programdata\\miniconda3\\lib\\site-packages (from click->nltk) (0.4.6)\n",
      "Defaulting to user installation because normal site-packages is not writeable\n",
      "Requirement already satisfied: rusenttokenize in c:\\users\\пользователь\\appdata\\roaming\\python\\python311\\site-packages (0.0.5)\n",
      "Defaulting to user installation because normal site-packages is not writeable\n",
      "Requirement already satisfied: regex in c:\\users\\пользователь\\appdata\\roaming\\python\\python311\\site-packages (2023.8.8)\n"
     ]
    }
   ],
   "source": [
    "!pip install pymystem3\n",
    "!pip install razdel\n",
    "!pip install gensim\n",
    "!pip install nltk\n",
    "!pip install rusenttokenize\n",
    "!pip install regex"
   ]
  },
  {
   "cell_type": "code",
   "execution_count": null,
   "id": "908965cf",
   "metadata": {},
   "outputs": [],
   "source": [
    "# Задание 1 "
   ]
  },
  {
   "cell_type": "code",
   "execution_count": 3,
   "id": "3a242a83",
   "metadata": {},
   "outputs": [],
   "source": [
    "from razdel import sentenize"
   ]
  },
  {
   "cell_type": "code",
   "execution_count": 14,
   "id": "e904cdce",
   "metadata": {},
   "outputs": [],
   "source": [
    "text = \"\"\"\n",
    "Его основные усилия в этот период были направлены на создание системы автоматического синтеза программ. Работы велись в лаборатории автоматизации научных исследований, которую Лавров создал в возглавленном им Институте теоретической астрономии; отсюда и название — СПОРА (\"система ПО работ по астрономии \"). Система задумывалась как средство построения формальных моделей предметных областей и автоматизации создания программ для решения задач в этих областях на основе их спецификаций в модели. Лавров в эти годы формулирует свою позицию по проблемам искусственного интеллекта, пишет о предпосылках появления баз знаний в качестве основы нового поколения систем программирования, ориентированных на совместную работу человека с компьютером. 18 июня 2004 года Святослава Лаврова не стало. Ему был 81 год. Несмотря на возраст, он продолжал участвовать в научной жизни, выступал с докладами, писал книги.\n",
    "\"\"\"\n",
    "# текст - Наталья Дубова. Орбита Лаврова // «Computerworld», 2004 "
   ]
  },
  {
   "cell_type": "code",
   "execution_count": 15,
   "id": "5ebdc74e",
   "metadata": {},
   "outputs": [],
   "source": [
    "sents = list(sentenize(text))"
   ]
  },
  {
   "cell_type": "code",
   "execution_count": 11,
   "id": "470a5d19",
   "metadata": {},
   "outputs": [],
   "source": [
    "import re"
   ]
  },
  {
   "cell_type": "code",
   "execution_count": 18,
   "id": "3a418aaf",
   "metadata": {},
   "outputs": [
    {
     "data": {
      "text/plain": [
       "['\\nЕго основные усилия в этот период были направлены на создание системы автоматического синтеза программ',\n",
       " 'аботы велись в лаборатории автоматизации научных исследований, которую Лавров создал в возглавленном им Институте теоретической астрономии; отсюда и название — СПОРА (\"система ПО работ по астрономии \")',\n",
       " 'истема задумывалась как средство построения формальных моделей предметных областей и автоматизации создания программ для решения задач в этих областях на основе их спецификаций в модели',\n",
       " 'авров в эти годы формулирует свою позицию по проблемам искусственного интеллекта, пишет о предпосылках появления баз знаний в качестве основы нового поколения систем программирования, ориентированных на совместную работу человека с компьютером. 18 июня 2004 года Святослава Лаврова не стало',\n",
       " 'му был 81 год',\n",
       " 'есмотря на возраст, он продолжал участвовать в научной жизни, выступал с докладами, писал книги.\\n']"
      ]
     },
     "execution_count": 18,
     "metadata": {},
     "output_type": "execute_result"
    }
   ],
   "source": [
    "re.split('[!?\\.] [А-Я]', text)[:7]"
   ]
  },
  {
   "cell_type": "code",
   "execution_count": 19,
   "id": "3a89ae73",
   "metadata": {},
   "outputs": [],
   "source": [
    "# Задание 2"
   ]
  },
  {
   "cell_type": "code",
   "execution_count": 20,
   "id": "9bb100d2",
   "metadata": {},
   "outputs": [],
   "source": [
    "text = \"\"\"\n",
    "Вторым и третьим открытыми белыми карликами стали Сириус B и Процион B. В 1844 году директор Кёнигсбергской обсерватории Фридрих Бессель, анализируя данные наблюдений, которые велись с 1755 года, обнаружил, что Сириус, ярчайшая звезда земного неба, и Процион периодически, хотя и весьма слабо, отклоняются от прямолинейной траектории движения по небесной сфере[5]. Бессель пришёл к выводу, что у каждой из них должен быть близкий спутник. Сообщение было встречено скептически, поскольку слабый спутник оставался ненаблюдаемым, а его масса должна была быть достаточно велика — сравнимой с массой Сириуса и Проциона, соответственно.\n",
    "\n",
    "В январе 1862 года Элвин Грэхэм Кларк, юстируя 18-дюймовый рефрактор, самый большой на то время телескоп в мире (Dearborn Telescope), впоследствии поставленный семейной фирмой Кларков в обсерваторию Чикагского университета, обнаружил в непосредственной близости от Сириуса тусклую звёздочку. Это был спутник Сириуса, Сириус B, предсказанный Бесселем[6]. А в 1896 году американский астроном Д. М. Шеберле открыл Процион B, подтвердив тем самым и второе предсказание Бесселя.\n",
    "\n",
    "В 1915 году американский астроном Уолтер Сидней Адамс измерил спектр Сириуса B. Из измерений следовало, что его температура не ниже, чем у Сириуса A (по современным данным, температура поверхности Сириуса B составляет 25 000 K, а Сириуса A — 10 000 К), что, с учётом его в 10 000 раз меньшей, чем у Сириуса A, светимости указывает на очень малый радиус и, соответственно, высокую плотность — 106 г/см3 (плотность Сириуса ~0,25 г/см3, плотность Солнца ~1,4 г/см3).\n",
    "\"\"\""
   ]
  },
  {
   "cell_type": "code",
   "execution_count": null,
   "id": "fb2cf413",
   "metadata": {},
   "outputs": [],
   "source": [
    "#Токенизация razdel.tokenize "
   ]
  },
  {
   "cell_type": "code",
   "execution_count": 14,
   "id": "086404ac",
   "metadata": {},
   "outputs": [],
   "source": [
    "from razdel import tokenize as razdel_tokenize"
   ]
  },
  {
   "cell_type": "code",
   "execution_count": 15,
   "id": "344d5afb",
   "metadata": {},
   "outputs": [
    {
     "name": "stdout",
     "output_type": "stream",
     "text": [
      "['вторым', 'и', 'третьим', 'открытыми', 'белыми', 'карликами', 'стали', 'сириус', 'b', 'и', 'процион', 'b', '.', 'в', '1844', 'году', 'директор', 'кёнигсбергской', 'обсерватории', 'фридрих', 'бессель', ',', 'анализируя', 'данные', 'наблюдений', ',', 'которые', 'велись', 'с', '1755', 'года', ',', 'обнаружил', ',', 'что', 'сириус', ',', 'ярчайшая', 'звезда', 'земного', 'неба', ',', 'и', 'процион', 'периодически', ',', 'хотя', 'и', 'весьма', 'слабо', ',', 'отклоняются', 'от', 'прямолинейной', 'траектории', 'движения', 'по', 'небесной', 'сфере', '[', '5', ']', '.', 'бессель', 'пришёл', 'к', 'выводу', ',', 'что', 'у', 'каждой', 'из', 'них', 'должен', 'быть', 'близкий', 'спутник', '.', 'сообщение', 'было', 'встречено', 'скептически', ',', 'поскольку', 'слабый', 'спутник', 'оставался', 'ненаблюдаемым', ',', 'а', 'его', 'масса', 'должна', 'была', 'быть', 'достаточно', 'велика', '—', 'сравнимой', 'с', 'массой', 'сириуса', 'и', 'проциона', ',', 'соответственно', '.', 'в', 'январе', '1862', 'года', 'элвин', 'грэхэм', 'кларк', ',', 'юстируя', '18-дюймовый', 'рефрактор', ',', 'самый', 'большой', 'на', 'то', 'время', 'телескоп', 'в', 'мире', '(', 'dearborn', 'telescope', ')', ',', 'впоследствии', 'поставленный', 'семейной', 'фирмой', 'кларков', 'в', 'обсерваторию', 'чикагского', 'университета', ',', 'обнаружил', 'в', 'непосредственной', 'близости', 'от', 'сириуса', 'тусклую', 'звёздочку', '.', 'это', 'был', 'спутник', 'сириуса', ',', 'сириус', 'b', ',', 'предсказанный', 'бесселем', '[', '6', ']', '.', 'а', 'в', '1896', 'году', 'американский', 'астроном', 'д', '.', 'м', '.', 'шеберле', 'открыл', 'процион', 'b', ',', 'подтвердив', 'тем', 'самым', 'и', 'второе', 'предсказание', 'бесселя', '.', 'в', '1915', 'году', 'американский', 'астроном', 'уолтер', 'сидней', 'адамс', 'измерил', 'спектр', 'сириуса', 'b', '.', 'из', 'измерений', 'следовало', ',', 'что', 'его', 'температура', 'не', 'ниже', ',', 'чем', 'у', 'сириуса', 'a', '(', 'по', 'современным', 'данным', ',', 'температура', 'поверхности', 'сириуса', 'b', 'составляет', '25', '000', 'k', ',', 'а', 'сириуса', 'a', '—', '10', '000', 'к', ')', ',', 'что', ',', 'с', 'учётом', 'его', 'в', '10', '000', 'раз', 'меньшей', ',', 'чем', 'у', 'сириуса', 'a', ',', 'светимости', 'указывает', 'на', 'очень', 'малый', 'радиус', 'и', ',', 'соответственно', ',', 'высокую', 'плотность', '—', '106', 'г', '/', 'см', '3', '(', 'плотность', 'сириуса', '~', '0,25', 'г', '/', 'см', '3', ',', 'плотность', 'солнца', '~', '1,4', 'г', '/', 'см', '3', ')', '.']\n",
      "292\n"
     ]
    }
   ],
   "source": [
    "razdel_tokens = [token.text.lower() for token in list(razdel_tokenize(text2))]\n",
    "print(razdel_tokens)\n",
    "print(len(razdel_tokens))"
   ]
  },
  {
   "cell_type": "code",
   "execution_count": null,
   "id": "91715368",
   "metadata": {},
   "outputs": [],
   "source": [
    "#Токенизация Mystem "
   ]
  },
  {
   "cell_type": "code",
   "execution_count": 12,
   "id": "4b266e60",
   "metadata": {},
   "outputs": [
    {
     "name": "stdout",
     "output_type": "stream",
     "text": [
      "['вторым', 'и', 'третьим', 'открытыми', 'белыми', 'карликами', 'стали', 'сириус', 'b', 'и', 'процион', 'b', '.', 'в', '1844', 'году', 'директор', 'кёнигсбергской', 'обсерватории', 'фридрих', 'бессель', ',', 'анализируя', 'данные', 'наблюдений', ',', 'которые', 'велись', 'с', '1755', 'года', ',', 'обнаружил', ',', 'что', 'сириус', ',', 'ярчайшая', 'звезда', 'земного', 'неба', ',', 'и', 'процион', 'периодически', ',', 'хотя', 'и', 'весьма', 'слабо', ',', 'отклоняются', 'от', 'прямолинейной', 'траектории', 'движения', 'по', 'небесной', 'сфере', '[', '5', ']', '.', 'бессель', 'пришёл', 'к', 'выводу', ',', 'что', 'у', 'каждой', 'из', 'них', 'должен', 'быть', 'близкий', 'спутник', '.', 'сообщение', 'было', 'встречено', 'скептически', ',', 'поскольку', 'слабый', 'спутник', 'оставался', 'ненаблюдаемым', ',', 'а', 'его', 'масса', 'должна', 'была', 'быть', 'достаточно', 'велика', '—', 'сравнимой', 'с', 'массой', 'сириуса', 'и', 'проциона', ',', 'соответственно', '.', 'в', 'январе', '1862', 'года', 'элвин', 'грэхэм', 'кларк', ',', 'юстируя', '18', '-', 'дюймовый', 'рефрактор', ',', 'самый', 'большой', 'на', 'то', 'время', 'телескоп', 'в', 'мире', '(', 'dearborn', 'telescope', '),', 'впоследствии', 'поставленный', 'семейной', 'фирмой', 'кларков', 'в', 'обсерваторию', 'чикагского', 'университета', ',', 'обнаружил', 'в', 'непосредственной', 'близости', 'от', 'сириуса', 'тусклую', 'звёздочку', '.', 'это', 'был', 'спутник', 'сириуса', ',', 'сириус', 'b', ',', 'предсказанный', 'бесселем', '[', '6', ']', '.', 'а', 'в', '1896', 'году', 'американский', 'астроном', 'д', '.', 'м', '.', 'шеберле', 'открыл', 'процион', 'b', ',', 'подтвердив', 'тем', 'самым', 'и', 'второе', 'предсказание', 'бесселя', '.', 'в', '1915', 'году', 'американский', 'астроном', 'уолтер', 'сидней', 'адамс', 'измерил', 'спектр', 'сириуса', 'b', '.', 'из', 'измерений', 'следовало', ',', 'что', 'его', 'температура', 'не', 'ниже', ',', 'чем', 'у', 'сириуса', 'a', '(', 'по', 'современным', 'данным', ',', 'температура', 'поверхности', 'сириуса', 'b', 'составляет', '25', '000', 'k', ',', 'а', 'сириуса', 'a', '—', '10', '000', 'к', '),', 'что', ',', 'с', 'учётом', 'его', 'в', '10', '000', 'раз', 'меньшей', ',', 'чем', 'у', 'сириуса', 'a', ',', 'светимости', 'указывает', 'на', 'очень', 'малый', 'радиус', 'и', ',', 'соответственно', ',', 'высокую', 'плотность', '—', '106', 'г', '/', 'см3', '(', 'плотность', 'сириуса', '~', '0', ',', '25', 'г', '/', 'см3', ',', 'плотность', 'солнца', '~', '1', ',', '4', 'г', '/', 'см3', ')', '.']\n",
      "293\n"
     ]
    }
   ],
   "source": [
    "from pymystem3 import Mystem\n",
    "mystem = Mystem()\n",
    "tokens = mystem.analyze(text2)\n",
    "mystem_tokens =[token['text'].strip().lower() for token in tokens if 'text' in token and token['text'].strip()]\n",
    "print(mystem_tokens)\n",
    "print(len(mystem_tokens))"
   ]
  },
  {
   "cell_type": "code",
   "execution_count": 16,
   "id": "df62cd34",
   "metadata": {},
   "outputs": [
    {
     "name": "stdout",
     "output_type": "stream",
     "text": [
      "Отличия: {'дюймовый', '-', '),', '0', '3', '4', '0,25', 'см3', '18', '1,4', '1', '18-дюймовый', 'см'}\n"
     ]
    }
   ],
   "source": [
    "differences = set(razdel_tokens) ^ set(mystem_tokens)\n",
    "print(\"Отличия:\", differences)"
   ]
  },
  {
   "cell_type": "code",
   "execution_count": null,
   "id": "565d5535",
   "metadata": {},
   "outputs": [],
   "source": [
    "#Выводы: razdel справляется с токенизацией лучше. Например, он не разделил на отдельные токены \"18-дюймовый\" и дробные числа. Однако, меру величины \"см3\" почему-то разделил."
   ]
  },
  {
   "cell_type": "code",
   "execution_count": null,
   "id": "127e64c6",
   "metadata": {},
   "outputs": [],
   "source": [
    "# Задание 3"
   ]
  },
  {
   "cell_type": "code",
   "execution_count": null,
   "id": "90dab322",
   "metadata": {},
   "outputs": [],
   "source": [
    "# Лемматизация Mystem"
   ]
  },
  {
   "cell_type": "code",
   "execution_count": 1,
   "id": "940afdc2",
   "metadata": {},
   "outputs": [],
   "source": [
    "from pymystem3 import Mystem\n",
    "import os, json\n",
    "mystem = Mystem()"
   ]
  },
  {
   "cell_type": "code",
   "execution_count": 18,
   "id": "22e077e7",
   "metadata": {},
   "outputs": [],
   "source": [
    "text1 = \"\"\"\n",
    "Вторым и третьим открытыми белыми карликами стали Сириус B и Процион B. В 1844 году директор Кёнигсбергской обсерватории Фридрих Бессель, анализируя данные наблюдений, которые велись с 1755 года, обнаружил, что Сириус, ярчайшая звезда земного неба, и Процион периодически, хотя и весьма слабо, отклоняются от прямолинейной траектории движения по небесной сфере[5]. Бессель пришёл к выводу, что у каждой из них должен быть близкий спутник. Сообщение было встречено скептически, поскольку слабый спутник оставался ненаблюдаемым, а его масса должна была быть достаточно велика — сравнимой с массой Сириуса и Проциона, соответственно.\n",
    "\n",
    "В январе 1862 года Элвин Грэхэм Кларк, юстируя 18-дюймовый рефрактор, самый большой на то время телескоп в мире (Dearborn Telescope), впоследствии поставленный семейной фирмой Кларков в обсерваторию Чикагского университета, обнаружил в непосредственной близости от Сириуса тусклую звёздочку. Это был спутник Сириуса, Сириус B, предсказанный Бесселем[6]. А в 1896 году американский астроном Д. М. Шеберле открыл Процион B, подтвердив тем самым и второе предсказание Бесселя.\n",
    "\n",
    "В 1915 году американский астроном Уолтер Сидней Адамс измерил спектр Сириуса B. Из измерений следовало, что его температура не ниже, чем у Сириуса A (по современным данным, температура поверхности Сириуса B составляет 25 000 K, а Сириуса A — 10 000 К), что, с учётом его в 10 000 раз меньшей, чем у Сириуса A, светимости указывает на очень малый радиус и, соответственно, высокую плотность — 106 г/см3 (плотность Сириуса ~0,25 г/см3, плотность Солнца ~1,4 г/см3).\n",
    "\"\"\""
   ]
  },
  {
   "cell_type": "code",
   "execution_count": 19,
   "id": "216df1da",
   "metadata": {},
   "outputs": [
    {
     "name": "stdout",
     "output_type": "stream",
     "text": [
      "['второй', 'и', 'третий', 'открытый', 'белый', 'карлик', 'становиться', 'сириус', 'и', 'процион', 'в', 'год', 'директор', 'кенигсбергский', 'обсерватория', 'фридрих', 'бессель', 'анализировать', 'данные', 'наблюдение', 'который', 'вестись', 'с', 'год', 'обнаруживать', 'что', 'сириус', 'яркий', 'звезда', 'земной', 'небо', 'и', 'процион', 'периодически', 'хотя', 'и', 'весьма', 'слабо', 'отклоняться', 'от', 'прямолинейный', 'траектория', 'движение', 'по', 'небесный', 'сфера', 'бессель', 'приходить', 'к', 'вывод', 'что', 'у', 'каждый', 'из', 'они', 'должный', 'быть', 'близкий', 'спутник', 'сообщение', 'быть', 'встречать', 'скептически', 'поскольку', 'слабый', 'спутник', 'оставаться', 'ненаблюдаемый', 'а', 'его', 'масса', 'должный', 'быть', 'быть', 'достаточно', 'большой', 'сравнимый', 'с', 'масса', 'сириус', 'и', 'процион', 'соответственно', 'в', 'январь', 'год', 'элвин', 'грэхэм', 'кларк', 'юстировать', 'дюймовый', 'рефрактор', 'самый', 'большой', 'на', 'то', 'время', 'телескоп', 'в', 'мир', 'впоследствии', 'поставлять', 'семейный', 'фирма', 'кларк', 'в', 'обсерватория', 'чикагский', 'университет', 'обнаруживать', 'в', 'непосредственный', 'близость', 'от', 'сириус', 'тусклый', 'звездочка', 'это', 'быть', 'спутник', 'сириус', 'сириус', 'предсказывать', 'бессель', 'а', 'в', 'год', 'американский', 'астроном', 'д', 'м', 'шеберль', 'открывать', 'процион', 'подтвердить', 'то', 'самый', 'и', 'второй', 'предсказание', 'бессель', 'в', 'год', 'американский', 'астроном', 'уолтер', 'сидней', 'адамс', 'измерять', 'спектр', 'сириус', 'из', 'измерение', 'следовать', 'что', 'его', 'температура', 'не', 'низкий', 'чем', 'у', 'сириус', 'по', 'современный', 'данные', 'температура', 'поверхность', 'сириус', 'составлять', 'а', 'сириус', 'к', 'что', 'с', 'учет', 'он', 'в', 'раз', 'меньший', 'чем', 'у', 'сириус', 'светимость', 'указывать', 'на', 'очень', 'малый', 'радиус', 'и', 'соответственно', 'высокий', 'плотность', 'г', 'плотность', 'сириус', 'г', 'плотность', 'солнце', 'г']\n",
      "199\n"
     ]
    }
   ],
   "source": [
    "words_analized = mystem.analyze(text1)\n",
    "mystem_lemmas = [parse['analysis'][0]['lex'] for parse in words_analized if parse.get('analysis')]\n",
    "print (mystem_lemmas)\n",
    "print(len(mystem_lemmas))"
   ]
  },
  {
   "cell_type": "code",
   "execution_count": 10,
   "id": "a30f9ca5",
   "metadata": {},
   "outputs": [],
   "source": [
    "# Лемматизация Pymorphy"
   ]
  },
  {
   "cell_type": "code",
   "execution_count": 35,
   "id": "51eb98ba",
   "metadata": {},
   "outputs": [
    {
     "name": "stdout",
     "output_type": "stream",
     "text": [
      "Defaulting to user installation because normal site-packages is not writeable\n",
      "Requirement already satisfied: pymorphy3 in c:\\users\\пользователь\\appdata\\roaming\\python\\python311\\site-packages (1.2.1)\n",
      "Requirement already satisfied: dawg-python>=0.7.1 in c:\\users\\пользователь\\appdata\\roaming\\python\\python311\\site-packages (from pymorphy3) (0.7.2)\n",
      "Requirement already satisfied: docopt-ng>=0.6 in c:\\users\\пользователь\\appdata\\roaming\\python\\python311\\site-packages (from pymorphy3) (0.9.0)\n",
      "Requirement already satisfied: pymorphy3-dicts-ru in c:\\users\\пользователь\\appdata\\roaming\\python\\python311\\site-packages (from pymorphy3) (2.4.417150.4580142)\n"
     ]
    }
   ],
   "source": [
    "!pip install pymorphy3"
   ]
  },
  {
   "cell_type": "code",
   "execution_count": 21,
   "id": "a461808a",
   "metadata": {},
   "outputs": [
    {
     "name": "stdout",
     "output_type": "stream",
     "text": [
      "['второй', 'и', 'третий', 'открытый', 'белый', 'карлик', 'стать', 'сириус', 'и', 'процион', 'в', 'год', 'директор', 'кёнигсбергский', 'обсерватория', 'фридрих', 'бессель', 'анализировать', 'дать', 'наблюдение', 'который', 'вестись', 'с', 'год', 'обнаружить', 'что', 'сириус', 'яркий', 'звезда', 'земной', 'небо', 'и', 'процион', 'периодически', 'хотя', 'и', 'весьма', 'слабо', 'отклоняться', 'от', 'прямолинейный', 'траектория', 'движение', 'по', 'небесный', 'сфера', 'бессель', 'прийти', 'к', 'вывод', 'что', 'у', 'каждый', 'из', 'они', 'должный', 'быть', 'близкий', 'спутник', 'сообщение', 'быть', 'встретить', 'скептически', 'поскольку', 'слабый', 'спутник', 'оставаться', 'ненаблюдаемый', 'а', 'он', 'масса', 'должный', 'быть', 'быть', 'достаточно', 'большой', 'сравнимый', 'с', 'масса', 'сириус', 'и', 'процион', 'соответственно', 'в', 'январь', 'год', 'элвин', 'грэхэма', 'кларк', 'юстировать', 'дюймовый', 'рефрактор', 'самый', 'большой', 'на', 'то', 'время', 'телескоп', 'в', 'мир', 'впоследствии', 'поставить', 'семейный', 'фирма', 'кларк', 'в', 'обсерватория', 'чикагский', 'университет', 'обнаружить', 'в', 'непосредственный', 'близость', 'от', 'сириус', 'тусклый', 'звёздочка', 'это', 'быть', 'спутник', 'сириус', 'сириус', 'предсказать', 'бессель', 'а', 'в', 'год', 'американский', 'астроном', 'далее', 'м', 'шеберл', 'открыть', 'процион', 'подтвердить', 'тем', 'самый', 'и', 'второе', 'предсказание', 'бессель', 'в', 'год', 'американский', 'астроном', 'уолтер', 'сидней', 'адамс', 'измерить', 'спектр', 'сириус', 'из', 'измерение', 'следовать', 'что', 'он', 'температура', 'не', 'ниже', 'чем', 'у', 'сириус', 'по', 'современный', 'данные', 'температура', 'поверхность', 'сириус', 'составлять', 'а', 'сириус', 'к', 'что', 'с', 'учёт', 'он', 'в', 'раз', 'малый', 'чем', 'у', 'сириус', 'светимость', 'указывать', 'на', 'очень', 'малый', 'радиус', 'и', 'соответственно', 'высокий', 'плотность', 'г', 'плотность', 'сириус', 'г', 'плотность', 'солнце', 'г']\n",
      "199\n"
     ]
    }
   ],
   "source": [
    "from pymorphy3 import MorphAnalyzer\n",
    "morph = MorphAnalyzer()\n",
    "mystem_tokens_filtered = [parse['text'].lower() for parse in words_analized if parse.get('analysis')]\n",
    "morph = MorphAnalyzer()\n",
    "pymorphy_lemmas = [morph.parse(token)[0].normal_form for token in mystem_tokens_filtered]\n",
    "print (pymorphy_lemmas)\n",
    "print(len(pymorphy_lemmas))"
   ]
  },
  {
   "cell_type": "code",
   "execution_count": 22,
   "id": "addb175a",
   "metadata": {},
   "outputs": [
    {
     "name": "stdout",
     "output_type": "stream",
     "text": [
      "Defaulting to user installation because normal site-packages is not writeable\n",
      "Requirement already satisfied: pandas in c:\\users\\пользователь\\appdata\\roaming\\python\\python311\\site-packages (2.1.1)\n",
      "Requirement already satisfied: numpy>=1.23.2 in c:\\users\\пользователь\\appdata\\roaming\\python\\python311\\site-packages (from pandas) (1.26.0)\n",
      "Requirement already satisfied: python-dateutil>=2.8.2 in c:\\programdata\\miniconda3\\lib\\site-packages (from pandas) (2.8.2)\n",
      "Requirement already satisfied: pytz>=2020.1 in c:\\users\\пользователь\\appdata\\roaming\\python\\python311\\site-packages (from pandas) (2023.3.post1)\n",
      "Requirement already satisfied: tzdata>=2022.1 in c:\\users\\пользователь\\appdata\\roaming\\python\\python311\\site-packages (from pandas) (2023.3)\n",
      "Requirement already satisfied: six>=1.5 in c:\\programdata\\miniconda3\\lib\\site-packages (from python-dateutil>=2.8.2->pandas) (1.16.0)\n"
     ]
    }
   ],
   "source": [
    "!pip install pandas"
   ]
  },
  {
   "cell_type": "code",
   "execution_count": 26,
   "id": "5037f081",
   "metadata": {},
   "outputs": [
    {
     "name": "stdout",
     "output_type": "stream",
     "text": [
      "             Токен          Mystem        Pymorphy\n",
      "0            стали     становиться           стать\n",
      "1   кёнигсбергской  кенигсбергский  кёнигсбергский\n",
      "2           данные          данные            дать\n",
      "3        обнаружил    обнаруживать      обнаружить\n",
      "4           пришёл       приходить          прийти\n",
      "5        встречено       встречать       встретить\n",
      "6              его             его              он\n",
      "7           грэхэм          грэхэм         грэхэма\n",
      "8     поставленный      поставлять       поставить\n",
      "9        обнаружил    обнаруживать      обнаружить\n",
      "10       звёздочку       звездочка       звёздочка\n",
      "11   предсказанный   предсказывать     предсказать\n",
      "12               д               д           далее\n",
      "13         шеберле         шеберль          шеберл\n",
      "14          открыл       открывать         открыть\n",
      "15             тем              то             тем\n",
      "16          второе          второй          второе\n",
      "17         измерил        измерять        измерить\n",
      "18             его             его              он\n",
      "19            ниже          низкий            ниже\n",
      "20          учётом            учет            учёт\n",
      "21         меньшей         меньший           малый\n"
     ]
    }
   ],
   "source": [
    "import pandas as pd\n",
    "different_lemmas = [(token, mystem_lemma, pymorphy_lemma) for token, mystem_lemma, pymorphy_lemma in zip(mystem_tokens_filtered, mystem_lemmas, pymorphy_lemmas) if mystem_lemma != pymorphy_lemma]\n",
    "df = pd.DataFrame(different_lemmas, columns=['Токен', 'Mystem', 'Pymorphy'])\n",
    "\n",
    "print(df)"
   ]
  },
  {
   "cell_type": "code",
   "execution_count": 42,
   "id": "268438b1",
   "metadata": {},
   "outputs": [],
   "source": [
    "#Выводы: Mystem на мой взгляд справился лучше Pymorphy: с притяжательным местоимением \"его\", со сравнительным прилагательным \"меньший\"; привел к начальной форме \"то\", \"второй\", \"низкий. Но Mystem не всегда корректно работает с приведением к правильному виду инфинитива глагола и причастия. Pymorphy ошибочно расползнал инициал \"Д\"."
   ]
  },
  {
   "cell_type": "code",
   "execution_count": 43,
   "id": "a1b0715d",
   "metadata": {},
   "outputs": [],
   "source": [
    "# Задание 4"
   ]
  },
  {
   "cell_type": "code",
   "execution_count": 49,
   "id": "97210b08",
   "metadata": {},
   "outputs": [
    {
     "name": "stdout",
     "output_type": "stream",
     "text": [
      "Defaulting to user installation because normal site-packages is not writeable\n",
      "Requirement already satisfied: spacy in c:\\users\\пользователь\\appdata\\roaming\\python\\python311\\site-packages (3.7.2)\n",
      "Requirement already satisfied: spacy-legacy<3.1.0,>=3.0.11 in c:\\users\\пользователь\\appdata\\roaming\\python\\python311\\site-packages (from spacy) (3.0.12)\n",
      "Requirement already satisfied: spacy-loggers<2.0.0,>=1.0.0 in c:\\users\\пользователь\\appdata\\roaming\\python\\python311\\site-packages (from spacy) (1.0.5)\n",
      "Requirement already satisfied: murmurhash<1.1.0,>=0.28.0 in c:\\users\\пользователь\\appdata\\roaming\\python\\python311\\site-packages (from spacy) (1.0.10)\n",
      "Requirement already satisfied: cymem<2.1.0,>=2.0.2 in c:\\users\\пользователь\\appdata\\roaming\\python\\python311\\site-packages (from spacy) (2.0.8)\n",
      "Requirement already satisfied: preshed<3.1.0,>=3.0.2 in c:\\users\\пользователь\\appdata\\roaming\\python\\python311\\site-packages (from spacy) (3.0.9)\n",
      "Requirement already satisfied: thinc<8.3.0,>=8.1.8 in c:\\users\\пользователь\\appdata\\roaming\\python\\python311\\site-packages (from spacy) (8.2.1)\n",
      "Requirement already satisfied: wasabi<1.2.0,>=0.9.1 in c:\\users\\пользователь\\appdata\\roaming\\python\\python311\\site-packages (from spacy) (1.1.2)\n",
      "Requirement already satisfied: srsly<3.0.0,>=2.4.3 in c:\\users\\пользователь\\appdata\\roaming\\python\\python311\\site-packages (from spacy) (2.4.8)\n",
      "Requirement already satisfied: catalogue<2.1.0,>=2.0.6 in c:\\users\\пользователь\\appdata\\roaming\\python\\python311\\site-packages (from spacy) (2.0.10)\n",
      "Requirement already satisfied: weasel<0.4.0,>=0.1.0 in c:\\users\\пользователь\\appdata\\roaming\\python\\python311\\site-packages (from spacy) (0.3.4)\n",
      "Requirement already satisfied: typer<0.10.0,>=0.3.0 in c:\\users\\пользователь\\appdata\\roaming\\python\\python311\\site-packages (from spacy) (0.9.0)\n",
      "Requirement already satisfied: smart-open<7.0.0,>=5.2.1 in c:\\users\\пользователь\\appdata\\roaming\\python\\python311\\site-packages (from spacy) (6.4.0)\n",
      "Requirement already satisfied: tqdm<5.0.0,>=4.38.0 in c:\\users\\пользователь\\appdata\\roaming\\python\\python311\\site-packages (from spacy) (4.66.1)\n",
      "Requirement already satisfied: requests<3.0.0,>=2.13.0 in c:\\programdata\\miniconda3\\lib\\site-packages (from spacy) (2.31.0)\n",
      "Requirement already satisfied: pydantic!=1.8,!=1.8.1,<3.0.0,>=1.7.4 in c:\\users\\пользователь\\appdata\\roaming\\python\\python311\\site-packages (from spacy) (2.5.1)\n",
      "Requirement already satisfied: jinja2 in c:\\programdata\\miniconda3\\lib\\site-packages (from spacy) (3.1.2)\n",
      "Requirement already satisfied: setuptools in c:\\programdata\\miniconda3\\lib\\site-packages (from spacy) (67.8.0)\n",
      "Requirement already satisfied: packaging>=20.0 in c:\\programdata\\miniconda3\\lib\\site-packages (from spacy) (23.1)\n",
      "Requirement already satisfied: langcodes<4.0.0,>=3.2.0 in c:\\users\\пользователь\\appdata\\roaming\\python\\python311\\site-packages (from spacy) (3.3.0)\n",
      "Requirement already satisfied: numpy>=1.19.0 in c:\\users\\пользователь\\appdata\\roaming\\python\\python311\\site-packages (from spacy) (1.26.0)\n",
      "Requirement already satisfied: annotated-types>=0.4.0 in c:\\users\\пользователь\\appdata\\roaming\\python\\python311\\site-packages (from pydantic!=1.8,!=1.8.1,<3.0.0,>=1.7.4->spacy) (0.6.0)\n",
      "Requirement already satisfied: pydantic-core==2.14.3 in c:\\users\\пользователь\\appdata\\roaming\\python\\python311\\site-packages (from pydantic!=1.8,!=1.8.1,<3.0.0,>=1.7.4->spacy) (2.14.3)\n",
      "Requirement already satisfied: typing-extensions>=4.6.1 in c:\\programdata\\miniconda3\\lib\\site-packages (from pydantic!=1.8,!=1.8.1,<3.0.0,>=1.7.4->spacy) (4.8.0)\n",
      "Requirement already satisfied: charset-normalizer<4,>=2 in c:\\programdata\\miniconda3\\lib\\site-packages (from requests<3.0.0,>=2.13.0->spacy) (2.0.4)\n",
      "Requirement already satisfied: idna<4,>=2.5 in c:\\programdata\\miniconda3\\lib\\site-packages (from requests<3.0.0,>=2.13.0->spacy) (3.4)\n",
      "Requirement already satisfied: urllib3<3,>=1.21.1 in c:\\programdata\\miniconda3\\lib\\site-packages (from requests<3.0.0,>=2.13.0->spacy) (1.26.16)\n",
      "Requirement already satisfied: certifi>=2017.4.17 in c:\\programdata\\miniconda3\\lib\\site-packages (from requests<3.0.0,>=2.13.0->spacy) (2023.7.22)\n",
      "Requirement already satisfied: blis<0.8.0,>=0.7.8 in c:\\users\\пользователь\\appdata\\roaming\\python\\python311\\site-packages (from thinc<8.3.0,>=8.1.8->spacy) (0.7.11)\n",
      "Requirement already satisfied: confection<1.0.0,>=0.0.1 in c:\\users\\пользователь\\appdata\\roaming\\python\\python311\\site-packages (from thinc<8.3.0,>=8.1.8->spacy) (0.1.3)\n",
      "Requirement already satisfied: colorama in c:\\programdata\\miniconda3\\lib\\site-packages (from tqdm<5.0.0,>=4.38.0->spacy) (0.4.6)\n",
      "Requirement already satisfied: click<9.0.0,>=7.1.1 in c:\\users\\пользователь\\appdata\\roaming\\python\\python311\\site-packages (from typer<0.10.0,>=0.3.0->spacy) (8.1.7)\n",
      "Requirement already satisfied: cloudpathlib<0.17.0,>=0.7.0 in c:\\users\\пользователь\\appdata\\roaming\\python\\python311\\site-packages (from weasel<0.4.0,>=0.1.0->spacy) (0.16.0)\n",
      "Requirement already satisfied: MarkupSafe>=2.0 in c:\\programdata\\miniconda3\\lib\\site-packages (from jinja2->spacy) (2.1.1)\n",
      "Defaulting to user installation because normal site-packages is not writeable\n",
      "Collecting ru-core-news-sm==3.7.0\n",
      "  Downloading https://github.com/explosion/spacy-models/releases/download/ru_core_news_sm-3.7.0/ru_core_news_sm-3.7.0-py3-none-any.whl (15.3 MB)\n",
      "                                              0.0/15.3 MB ? eta -:--:--\n",
      "                                             0.0/15.3 MB 330.3 kB/s eta 0:00:47\n",
      "                                             0.0/15.3 MB 495.5 kB/s eta 0:00:31\n",
      "                                             0.1/15.3 MB 901.1 kB/s eta 0:00:17\n",
      "                                              0.3/15.3 MB 1.6 MB/s eta 0:00:10\n",
      "     -                                        0.4/15.3 MB 1.9 MB/s eta 0:00:08\n",
      "     --                                       0.8/15.3 MB 3.2 MB/s eta 0:00:05\n",
      "     ---                                      1.3/15.3 MB 4.0 MB/s eta 0:00:04\n",
      "     ---                                      1.5/15.3 MB 4.4 MB/s eta 0:00:04\n",
      "     -----                                    1.9/15.3 MB 5.0 MB/s eta 0:00:03\n",
      "     ------                                   2.4/15.3 MB 5.5 MB/s eta 0:00:03\n",
      "     -------                                  2.8/15.3 MB 5.7 MB/s eta 0:00:03\n",
      "     -------                                  2.8/15.3 MB 5.7 MB/s eta 0:00:03\n",
      "     ---------                                3.6/15.3 MB 6.2 MB/s eta 0:00:02\n",
      "     ---------                                3.6/15.3 MB 6.2 MB/s eta 0:00:02\n",
      "     ----------                               3.9/15.3 MB 5.9 MB/s eta 0:00:02\n",
      "     -----------                              4.2/15.3 MB 6.0 MB/s eta 0:00:02\n",
      "     -----------                              4.5/15.3 MB 6.0 MB/s eta 0:00:02\n",
      "     ------------                             4.8/15.3 MB 6.1 MB/s eta 0:00:02\n",
      "     -------------                            5.0/15.3 MB 6.0 MB/s eta 0:00:02\n",
      "     -------------                            5.3/15.3 MB 6.1 MB/s eta 0:00:02\n",
      "     --------------                           5.5/15.3 MB 6.1 MB/s eta 0:00:02\n",
      "     ---------------                          5.8/15.3 MB 6.1 MB/s eta 0:00:02\n",
      "     ---------------                          6.0/15.3 MB 6.1 MB/s eta 0:00:02\n",
      "     ----------------                         6.3/15.3 MB 6.1 MB/s eta 0:00:02\n",
      "     -----------------                        6.6/15.3 MB 6.2 MB/s eta 0:00:02\n",
      "     ------------------                       6.9/15.3 MB 6.2 MB/s eta 0:00:02\n",
      "     ------------------                       7.1/15.3 MB 6.3 MB/s eta 0:00:02\n",
      "     -------------------                      7.4/15.3 MB 6.3 MB/s eta 0:00:02\n",
      "     --------------------                     7.7/15.3 MB 6.3 MB/s eta 0:00:02\n",
      "     --------------------                     7.9/15.3 MB 6.2 MB/s eta 0:00:02\n",
      "     ---------------------                    8.2/15.3 MB 6.3 MB/s eta 0:00:02\n",
      "     ----------------------                   8.5/15.3 MB 6.3 MB/s eta 0:00:02\n",
      "     -----------------------                  8.8/15.3 MB 6.3 MB/s eta 0:00:02\n",
      "     -----------------------                  9.1/15.3 MB 6.4 MB/s eta 0:00:01\n",
      "     ------------------------                 9.4/15.3 MB 6.3 MB/s eta 0:00:01\n",
      "     -------------------------                9.7/15.3 MB 6.4 MB/s eta 0:00:01\n",
      "     --------------------------               10.0/15.3 MB 6.4 MB/s eta 0:00:01\n",
      "     --------------------------               10.3/15.3 MB 6.7 MB/s eta 0:00:01\n",
      "     ---------------------------              10.5/15.3 MB 7.0 MB/s eta 0:00:01\n",
      "     ----------------------------             10.8/15.3 MB 7.0 MB/s eta 0:00:01\n",
      "     -----------------------------            11.1/15.3 MB 7.0 MB/s eta 0:00:01\n",
      "     -----------------------------            11.4/15.3 MB 7.0 MB/s eta 0:00:01\n",
      "     ------------------------------           11.7/15.3 MB 7.0 MB/s eta 0:00:01\n",
      "     -------------------------------          12.0/15.3 MB 7.0 MB/s eta 0:00:01\n",
      "     --------------------------------         12.2/15.3 MB 6.9 MB/s eta 0:00:01\n",
      "     --------------------------------         12.5/15.3 MB 6.8 MB/s eta 0:00:01\n",
      "     ---------------------------------        12.7/15.3 MB 6.8 MB/s eta 0:00:01\n",
      "     ----------------------------------       13.0/15.3 MB 7.0 MB/s eta 0:00:01\n",
      "     ----------------------------------       13.3/15.3 MB 6.9 MB/s eta 0:00:01\n",
      "     -----------------------------------      13.5/15.3 MB 6.8 MB/s eta 0:00:01\n",
      "     ------------------------------------     13.8/15.3 MB 6.7 MB/s eta 0:00:01\n",
      "     ------------------------------------     14.1/15.3 MB 6.8 MB/s eta 0:00:01\n",
      "     -------------------------------------    14.3/15.3 MB 6.8 MB/s eta 0:00:01\n",
      "     --------------------------------------   14.6/15.3 MB 6.8 MB/s eta 0:00:01\n",
      "     --------------------------------------   14.9/15.3 MB 6.9 MB/s eta 0:00:01\n",
      "     ---------------------------------------  15.1/15.3 MB 6.8 MB/s eta 0:00:01\n",
      "     ---------------------------------------  15.2/15.3 MB 6.9 MB/s eta 0:00:01\n",
      "     ---------------------------------------- 15.3/15.3 MB 6.8 MB/s eta 0:00:00\n",
      "Requirement already satisfied: spacy<3.8.0,>=3.7.0 in c:\\users\\пользователь\\appdata\\roaming\\python\\python311\\site-packages (from ru-core-news-sm==3.7.0) (3.7.2)\n",
      "Requirement already satisfied: pymorphy3>=1.0.0 in c:\\users\\пользователь\\appdata\\roaming\\python\\python311\\site-packages (from ru-core-news-sm==3.7.0) (1.2.1)\n",
      "Requirement already satisfied: dawg-python>=0.7.1 in c:\\users\\пользователь\\appdata\\roaming\\python\\python311\\site-packages (from pymorphy3>=1.0.0->ru-core-news-sm==3.7.0) (0.7.2)\n",
      "Requirement already satisfied: docopt-ng>=0.6 in c:\\users\\пользователь\\appdata\\roaming\\python\\python311\\site-packages (from pymorphy3>=1.0.0->ru-core-news-sm==3.7.0) (0.9.0)\n",
      "Requirement already satisfied: pymorphy3-dicts-ru in c:\\users\\пользователь\\appdata\\roaming\\python\\python311\\site-packages (from pymorphy3>=1.0.0->ru-core-news-sm==3.7.0) (2.4.417150.4580142)\n",
      "Requirement already satisfied: spacy-legacy<3.1.0,>=3.0.11 in c:\\users\\пользователь\\appdata\\roaming\\python\\python311\\site-packages (from spacy<3.8.0,>=3.7.0->ru-core-news-sm==3.7.0) (3.0.12)\n",
      "Requirement already satisfied: spacy-loggers<2.0.0,>=1.0.0 in c:\\users\\пользователь\\appdata\\roaming\\python\\python311\\site-packages (from spacy<3.8.0,>=3.7.0->ru-core-news-sm==3.7.0) (1.0.5)\n",
      "Requirement already satisfied: murmurhash<1.1.0,>=0.28.0 in c:\\users\\пользователь\\appdata\\roaming\\python\\python311\\site-packages (from spacy<3.8.0,>=3.7.0->ru-core-news-sm==3.7.0) (1.0.10)\n",
      "Requirement already satisfied: cymem<2.1.0,>=2.0.2 in c:\\users\\пользователь\\appdata\\roaming\\python\\python311\\site-packages (from spacy<3.8.0,>=3.7.0->ru-core-news-sm==3.7.0) (2.0.8)\n",
      "Requirement already satisfied: preshed<3.1.0,>=3.0.2 in c:\\users\\пользователь\\appdata\\roaming\\python\\python311\\site-packages (from spacy<3.8.0,>=3.7.0->ru-core-news-sm==3.7.0) (3.0.9)\n",
      "Requirement already satisfied: thinc<8.3.0,>=8.1.8 in c:\\users\\пользователь\\appdata\\roaming\\python\\python311\\site-packages (from spacy<3.8.0,>=3.7.0->ru-core-news-sm==3.7.0) (8.2.1)\n",
      "Requirement already satisfied: wasabi<1.2.0,>=0.9.1 in c:\\users\\пользователь\\appdata\\roaming\\python\\python311\\site-packages (from spacy<3.8.0,>=3.7.0->ru-core-news-sm==3.7.0) (1.1.2)\n",
      "Requirement already satisfied: srsly<3.0.0,>=2.4.3 in c:\\users\\пользователь\\appdata\\roaming\\python\\python311\\site-packages (from spacy<3.8.0,>=3.7.0->ru-core-news-sm==3.7.0) (2.4.8)\n",
      "Requirement already satisfied: catalogue<2.1.0,>=2.0.6 in c:\\users\\пользователь\\appdata\\roaming\\python\\python311\\site-packages (from spacy<3.8.0,>=3.7.0->ru-core-news-sm==3.7.0) (2.0.10)\n",
      "Requirement already satisfied: weasel<0.4.0,>=0.1.0 in c:\\users\\пользователь\\appdata\\roaming\\python\\python311\\site-packages (from spacy<3.8.0,>=3.7.0->ru-core-news-sm==3.7.0) (0.3.4)\n",
      "Requirement already satisfied: typer<0.10.0,>=0.3.0 in c:\\users\\пользователь\\appdata\\roaming\\python\\python311\\site-packages (from spacy<3.8.0,>=3.7.0->ru-core-news-sm==3.7.0) (0.9.0)\n",
      "Requirement already satisfied: smart-open<7.0.0,>=5.2.1 in c:\\users\\пользователь\\appdata\\roaming\\python\\python311\\site-packages (from spacy<3.8.0,>=3.7.0->ru-core-news-sm==3.7.0) (6.4.0)\n",
      "Requirement already satisfied: tqdm<5.0.0,>=4.38.0 in c:\\users\\пользователь\\appdata\\roaming\\python\\python311\\site-packages (from spacy<3.8.0,>=3.7.0->ru-core-news-sm==3.7.0) (4.66.1)\n",
      "Requirement already satisfied: requests<3.0.0,>=2.13.0 in c:\\programdata\\miniconda3\\lib\\site-packages (from spacy<3.8.0,>=3.7.0->ru-core-news-sm==3.7.0) (2.31.0)\n",
      "Requirement already satisfied: pydantic!=1.8,!=1.8.1,<3.0.0,>=1.7.4 in c:\\users\\пользователь\\appdata\\roaming\\python\\python311\\site-packages (from spacy<3.8.0,>=3.7.0->ru-core-news-sm==3.7.0) (2.5.1)\n",
      "Requirement already satisfied: jinja2 in c:\\programdata\\miniconda3\\lib\\site-packages (from spacy<3.8.0,>=3.7.0->ru-core-news-sm==3.7.0) (3.1.2)\n",
      "Requirement already satisfied: setuptools in c:\\programdata\\miniconda3\\lib\\site-packages (from spacy<3.8.0,>=3.7.0->ru-core-news-sm==3.7.0) (67.8.0)\n",
      "Requirement already satisfied: packaging>=20.0 in c:\\programdata\\miniconda3\\lib\\site-packages (from spacy<3.8.0,>=3.7.0->ru-core-news-sm==3.7.0) (23.1)\n",
      "Requirement already satisfied: langcodes<4.0.0,>=3.2.0 in c:\\users\\пользователь\\appdata\\roaming\\python\\python311\\site-packages (from spacy<3.8.0,>=3.7.0->ru-core-news-sm==3.7.0) (3.3.0)\n",
      "Requirement already satisfied: numpy>=1.19.0 in c:\\users\\пользователь\\appdata\\roaming\\python\\python311\\site-packages (from spacy<3.8.0,>=3.7.0->ru-core-news-sm==3.7.0) (1.26.0)\n",
      "Requirement already satisfied: annotated-types>=0.4.0 in c:\\users\\пользователь\\appdata\\roaming\\python\\python311\\site-packages (from pydantic!=1.8,!=1.8.1,<3.0.0,>=1.7.4->spacy<3.8.0,>=3.7.0->ru-core-news-sm==3.7.0) (0.6.0)\n",
      "Requirement already satisfied: pydantic-core==2.14.3 in c:\\users\\пользователь\\appdata\\roaming\\python\\python311\\site-packages (from pydantic!=1.8,!=1.8.1,<3.0.0,>=1.7.4->spacy<3.8.0,>=3.7.0->ru-core-news-sm==3.7.0) (2.14.3)\n",
      "Requirement already satisfied: typing-extensions>=4.6.1 in c:\\programdata\\miniconda3\\lib\\site-packages (from pydantic!=1.8,!=1.8.1,<3.0.0,>=1.7.4->spacy<3.8.0,>=3.7.0->ru-core-news-sm==3.7.0) (4.8.0)\n",
      "Requirement already satisfied: charset-normalizer<4,>=2 in c:\\programdata\\miniconda3\\lib\\site-packages (from requests<3.0.0,>=2.13.0->spacy<3.8.0,>=3.7.0->ru-core-news-sm==3.7.0) (2.0.4)\n",
      "Requirement already satisfied: idna<4,>=2.5 in c:\\programdata\\miniconda3\\lib\\site-packages (from requests<3.0.0,>=2.13.0->spacy<3.8.0,>=3.7.0->ru-core-news-sm==3.7.0) (3.4)\n",
      "Requirement already satisfied: urllib3<3,>=1.21.1 in c:\\programdata\\miniconda3\\lib\\site-packages (from requests<3.0.0,>=2.13.0->spacy<3.8.0,>=3.7.0->ru-core-news-sm==3.7.0) (1.26.16)\n",
      "Requirement already satisfied: certifi>=2017.4.17 in c:\\programdata\\miniconda3\\lib\\site-packages (from requests<3.0.0,>=2.13.0->spacy<3.8.0,>=3.7.0->ru-core-news-sm==3.7.0) (2023.7.22)\n",
      "Requirement already satisfied: blis<0.8.0,>=0.7.8 in c:\\users\\пользователь\\appdata\\roaming\\python\\python311\\site-packages (from thinc<8.3.0,>=8.1.8->spacy<3.8.0,>=3.7.0->ru-core-news-sm==3.7.0) (0.7.11)\n",
      "Requirement already satisfied: confection<1.0.0,>=0.0.1 in c:\\users\\пользователь\\appdata\\roaming\\python\\python311\\site-packages (from thinc<8.3.0,>=8.1.8->spacy<3.8.0,>=3.7.0->ru-core-news-sm==3.7.0) (0.1.3)\n",
      "Requirement already satisfied: colorama in c:\\programdata\\miniconda3\\lib\\site-packages (from tqdm<5.0.0,>=4.38.0->spacy<3.8.0,>=3.7.0->ru-core-news-sm==3.7.0) (0.4.6)\n",
      "Requirement already satisfied: click<9.0.0,>=7.1.1 in c:\\users\\пользователь\\appdata\\roaming\\python\\python311\\site-packages (from typer<0.10.0,>=0.3.0->spacy<3.8.0,>=3.7.0->ru-core-news-sm==3.7.0) (8.1.7)\n",
      "Requirement already satisfied: cloudpathlib<0.17.0,>=0.7.0 in c:\\users\\пользователь\\appdata\\roaming\\python\\python311\\site-packages (from weasel<0.4.0,>=0.1.0->spacy<3.8.0,>=3.7.0->ru-core-news-sm==3.7.0) (0.16.0)\n",
      "Requirement already satisfied: MarkupSafe>=2.0 in c:\\programdata\\miniconda3\\lib\\site-packages (from jinja2->spacy<3.8.0,>=3.7.0->ru-core-news-sm==3.7.0) (2.1.1)\n",
      "\u001b[38;5;2m[+] Download and installation successful\u001b[0m\n",
      "You can now load the package via spacy.load('ru_core_news_sm')\n"
     ]
    }
   ],
   "source": [
    "!pip install spacy\n",
    "!python -m spacy download ru_core_news_sm"
   ]
  },
  {
   "cell_type": "code",
   "execution_count": 3,
   "id": "37c28d4b",
   "metadata": {
    "scrolled": true
   },
   "outputs": [],
   "source": [
    "nlp = spacy.load(\"ru_core_news_sm\")"
   ]
  },
  {
   "cell_type": "code",
   "execution_count": 8,
   "id": "55ba19a2",
   "metadata": {},
   "outputs": [],
   "source": [
    "text2 = \"\"\"\n",
    "Вторым и третьим открытыми белыми карликами стали Сириус B и Процион B. В 1844 году директор Кёнигсбергской обсерватории Фридрих Бессель, анализируя данные наблюдений, которые велись с 1755 года, обнаружил, что Сириус, ярчайшая звезда земного неба, и Процион периодически, хотя и весьма слабо, отклоняются от прямолинейной траектории движения по небесной сфере[5]. Бессель пришёл к выводу, что у каждой из них должен быть близкий спутник. Сообщение было встречено скептически, поскольку слабый спутник оставался ненаблюдаемым, а его масса должна была быть достаточно велика — сравнимой с массой Сириуса и Проциона, соответственно.\n",
    "\n",
    "В январе 1862 года Элвин Грэхэм Кларк, юстируя 18-дюймовый рефрактор, самый большой на то время телескоп в мире (Dearborn Telescope), впоследствии поставленный семейной фирмой Кларков в обсерваторию Чикагского университета, обнаружил в непосредственной близости от Сириуса тусклую звёздочку. Это был спутник Сириуса, Сириус B, предсказанный Бесселем[6]. А в 1896 году американский астроном Д. М. Шеберле открыл Процион B, подтвердив тем самым и второе предсказание Бесселя.\n",
    "\n",
    "В 1915 году американский астроном Уолтер Сидней Адамс измерил спектр Сириуса B. Из измерений следовало, что его температура не ниже, чем у Сириуса A (по современным данным, температура поверхности Сириуса B составляет 25 000 K, а Сириуса A — 10 000 К), что, с учётом его в 10 000 раз меньшей, чем у Сириуса A, светимости указывает на очень малый радиус и, соответственно, высокую плотность — 106 г/см3 (плотность Сириуса ~0,25 г/см3, плотность Солнца ~1,4 г/см3).\n",
    "\"\"\""
   ]
  },
  {
   "cell_type": "code",
   "execution_count": 9,
   "id": "415cc386",
   "metadata": {},
   "outputs": [
    {
     "name": "stdout",
     "output_type": "stream",
     "text": [
      "['\\n', 'второй', 'и', 'третий', 'открытый', 'белый', 'карлик', 'стать', 'сириус', 'b', 'и', 'процион', 'b.', 'в', '1844', 'год', 'директор', 'кёнигсбергский', 'обсерватория', 'фридрих', 'бессель', ',', 'анализировать', 'данные', 'наблюдение', ',', 'которые', 'вестись', 'с', '1755', 'год', ',', 'обнаружить', ',', 'что', 'сириус', ',', 'яркий', 'звезда', 'земной', 'небо', ',', 'и', 'процион', 'периодически', ',', 'хотя', 'и', 'весьма', 'слабо', ',', 'отклоняться', 'от', 'прямолинейный', 'траектория', 'движение', 'по', 'небесный', 'сфере[5', ']', '.', 'бессель', 'прийти', 'к', 'вывод', ',', 'что', 'у', 'каждый', 'из', 'них', 'должный', 'быть', 'близкий', 'спутник', '.', 'сообщение', 'было', 'встретить', 'скептически', ',', 'поскольку', 'слабый', 'спутник', 'оставаться', 'ненаблюдаемый', ',', 'а', 'он', 'масса', 'должный', 'быть', 'быть', 'достаточно', 'большой', '—', 'сравнимый', 'с', 'масса', 'сириус', 'и', 'проциона', ',', 'соответственно', '.', '\\n\\n', 'в', 'январь', '1862', 'год', 'элвин', 'грэхэм', 'кларк', ',', 'юстировать', '18-дюймовый', 'рефрактор', ',', 'самый', 'большой', 'на', 'тот', 'время', 'телескоп', 'в', 'мир', '(', 'dearborn', 'telescope', ')', ',', 'впоследствии', 'поставить', 'семейный', 'фирма', 'кларков', 'в', 'обсерватория', 'чикагского', 'университет', ',', 'обнаружить', 'в', 'непосредственный', 'близость', 'от', 'сириус', 'тусклый', 'звёздочка', '.', 'это', 'быть', 'спутник', 'сириус', ',', 'сириус', 'b', ',', 'предсказанный', 'бесселем[6', ']', '.', 'а', 'в', '1896', 'год', 'американский', 'астроном', 'д.', 'м.', 'шеберле', 'открыть', 'процион', 'b', ',', 'подтвердить', 'тем', 'самым', 'и', 'второй', 'предсказание', 'бесселя', '.', '\\n\\n', 'в', '1915', 'год', 'американский', 'астроном', 'уолтер', 'сидней', 'адамс', 'измерить', 'спектр', 'сириус', 'b.', 'Из', 'измерение', 'следовать', ',', 'что', 'он', 'температура', 'не', 'низкий', ',', 'чем', 'у', 'сириус', 'a', '(', 'по', 'современный', 'данным', ',', 'температура', 'поверхность', 'сириус', 'b', 'составлять', '25', '000', 'k', ',', 'а', 'сириуса', 'a', '—', '10', '000', 'к', ')', ',', 'что', ',', 'с', 'учёт', 'его', 'в', '10', '000', 'раз', 'малый', ',', 'чем', 'у', 'сириус', 'a', ',', 'светимость', 'указывать', 'на', 'очень', 'малый', 'радиус', 'и', ',', 'соответственно', ',', 'высокий', 'плотность', '—', '106', 'г', '/', 'см3', '(', 'плотность', 'сириус', '~0,25', 'г', '/', 'см3', ',', 'плотность', 'солнце', '~1,4', 'г', '/', 'см3', ')', '.', '\\n']\n",
      "283\n"
     ]
    }
   ],
   "source": [
    "doc = nlp(text2)\n",
    "\n",
    "spacy_lemmas1 = [token.lemma_ for sent in doc.sents for token in sent]\n",
    "\n",
    "\n",
    "print(spacy_lemmas1)\n",
    "print(len(spacy_lemmas1))"
   ]
  },
  {
   "cell_type": "code",
   "execution_count": 24,
   "id": "4a0b7ae9",
   "metadata": {},
   "outputs": [
    {
     "name": "stdout",
     "output_type": "stream",
     "text": [
      "['второй', 'и', 'третий', 'открытый', 'белый', 'карлик', 'стать', 'сириус', 'и', 'процион', 'в', 'год', 'директор', 'кёнигсбергский', 'обсерватория', 'фридрих', 'бессель', 'анализировать', 'данные', 'наблюдение', 'которые', 'вестись', 'с', 'год', 'обнаружить', 'что', 'сириус', 'яркий', 'звезда', 'земной', 'небо', 'и', 'процион', 'периодически', 'хотя', 'и', 'весьма', 'слабо', 'отклоняться', 'от', 'прямолинейный', 'траектория', 'движение', 'по', 'небесный', 'сфера', 'бессель', 'прийти', 'к', 'вывод', 'что', 'у', 'каждый', 'из', 'них', 'должный', 'быть', 'близкий', 'спутник', 'сообщение', 'было', 'встретить', 'скептически', 'поскольку', 'слабый', 'спутник', 'оставаться', 'ненаблюдаемый', 'а', 'он', 'масса', 'должный', 'быть', 'быть', 'достаточно', 'большой', 'сравнимый', 'с', 'масса', 'сириус', 'и', 'проциона', 'соответственно', 'в', 'январь', 'год', 'элвин', 'грэхэм', 'кларк', 'юстировать', 'дюймовый', 'рефрактор', 'самый', 'большой', 'на', 'тот', 'время', 'телескоп', 'в', 'мир', 'впоследствии', 'поставить', 'семейный', 'фирма', 'кларк', 'в', 'обсерватория', 'чикагского', 'университет', 'обнаружить', 'в', 'непосредственный', 'близость', 'от', 'сириус', 'тусклый', 'звёздочка', 'это', 'быть', 'спутник', 'сириус', 'сириус', 'предсказать', 'бесселем', 'а', 'в', 'год', 'американский', 'астроном', 'д', 'м', 'шеберле', 'открыть', 'процион', 'подтвердить', 'тем', 'самым', 'и', 'второй', 'предсказание', 'бесселя', 'в', 'год', 'американский', 'астроном', 'уолтер', 'сидней', 'адамс', 'измерить', 'спектр', 'сириус', 'из', 'измерение', 'следовать', 'что', 'он', 'температура', 'не', 'низкий', 'чем', 'у', 'сириус', 'по', 'современный', 'данным', 'температура', 'поверхность', 'сириус', 'составлять', 'а', 'сириус', 'к', 'что', 'с', 'учёт', 'его', 'в', 'раз', 'малый', 'чем', 'у', 'сириус', 'светимость', 'указывать', 'на', 'очень', 'малый', 'радиус', 'и', 'соответственно', 'высокий', 'плотность', 'г', 'плотность', 'сириус', 'г', 'плотность', 'солнце', 'г']\n",
      "199\n"
     ]
    }
   ],
   "source": [
    "text_from_mystemtokens = ' '.join(mystem_tokens_filtered)\n",
    "\n",
    "doc = nlp(text_from_mystemtokens)\n",
    "spacy_lemmas2 = [token.lemma_ for token in doc]\n",
    "\n",
    "print(spacy_lemmas2)\n",
    "print(len(spacy_lemmas2))"
   ]
  },
  {
   "cell_type": "code",
   "execution_count": 27,
   "id": "d1086f8d",
   "metadata": {},
   "outputs": [
    {
     "name": "stdout",
     "output_type": "stream",
     "text": [
      "             Токен          Mystem        Pymorphy           SpaCy\n",
      "0            стали     становиться           стать           стать\n",
      "1   кёнигсбергской  кенигсбергский  кёнигсбергский  кёнигсбергский\n",
      "2           данные          данные            дать          данные\n",
      "3          которые         который         который         которые\n",
      "4        обнаружил    обнаруживать      обнаружить      обнаружить\n",
      "5           пришёл       приходить          прийти          прийти\n",
      "6              них             они             они             них\n",
      "7             было            быть            быть            было\n",
      "8        встречено       встречать       встретить       встретить\n",
      "9              его             его              он              он\n",
      "10        проциона         процион         процион        проциона\n",
      "11          грэхэм          грэхэм         грэхэма          грэхэм\n",
      "12              то              то              то             тот\n",
      "13    поставленный      поставлять       поставить       поставить\n",
      "14      чикагского       чикагский       чикагский      чикагского\n",
      "15       обнаружил    обнаруживать      обнаружить      обнаружить\n",
      "16       звёздочку       звездочка       звёздочка       звёздочка\n",
      "17   предсказанный   предсказывать     предсказать     предсказать\n",
      "18        бесселем         бессель         бессель        бесселем\n",
      "19               д               д           далее               д\n",
      "20         шеберле         шеберль          шеберл         шеберле\n",
      "21          открыл       открывать         открыть         открыть\n",
      "22             тем              то             тем             тем\n",
      "23           самым           самый           самый           самым\n",
      "24          второе          второй          второе          второй\n",
      "25         бесселя         бессель         бессель         бесселя\n",
      "26         измерил        измерять        измерить        измерить\n",
      "27             его             его              он              он\n",
      "28            ниже          низкий            ниже          низкий\n",
      "29          данным          данные          данные          данным\n",
      "30          учётом            учет            учёт            учёт\n",
      "31             его              он              он             его\n",
      "32         меньшей         меньший           малый           малый\n"
     ]
    }
   ],
   "source": [
    "different_lemmas = [(token, mystem_lemma, pymorphy_lemma,spacy_lemma) for token, mystem_lemma, pymorphy_lemma, spacy_lemma in zip(mystem_tokens_filtered, mystem_lemmas, pymorphy_lemmas,spacy_lemmas2) if mystem_lemma != pymorphy_lemma or mystem_lemma != spacy_lemma or pymorphy_lemma != spacy_lemma]\n",
    "df = pd.DataFrame(different_lemmas, columns=['Токен', 'Mystem', 'Pymorphy', 'SpaCy'])\n",
    "\n",
    "print(df)"
   ]
  },
  {
   "cell_type": "code",
   "execution_count": null,
   "id": "a065145f",
   "metadata": {},
   "outputs": [],
   "source": [
    "#Вывод: в отличие от других библиотек SpaCy правильно лемматизировал иностранные имена. Но в итоге ошибок он совершил больше остальных."
   ]
  }
 ],
 "metadata": {
  "kernelspec": {
   "display_name": "Python 3 (ipykernel)",
   "language": "python",
   "name": "python3"
  },
  "language_info": {
   "codemirror_mode": {
    "name": "ipython",
    "version": 3
   },
   "file_extension": ".py",
   "mimetype": "text/x-python",
   "name": "python",
   "nbconvert_exporter": "python",
   "pygments_lexer": "ipython3",
   "version": "3.11.4"
  }
 },
 "nbformat": 4,
 "nbformat_minor": 5
}
