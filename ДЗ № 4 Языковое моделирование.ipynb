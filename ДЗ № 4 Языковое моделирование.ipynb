{
 "cells": [
  {
   "cell_type": "code",
   "execution_count": 1,
   "id": "30fd4983",
   "metadata": {},
   "outputs": [],
   "source": [
    "# Задание №1.\n",
    "from string import punctuation\n",
    "from razdel import sentenize\n",
    "from razdel import tokenize as razdel_tokenize\n",
    "import numpy as np"
   ]
  },
  {
   "cell_type": "code",
   "execution_count": 2,
   "id": "070d352e",
   "metadata": {},
   "outputs": [],
   "source": [
    "# на основе данного корпуса будет работать языковая модель\n",
    "news = open('lenta.txt', encoding=\"utf8\").read()"
   ]
  },
  {
   "cell_type": "code",
   "execution_count": 3,
   "id": "1fe87769",
   "metadata": {},
   "outputs": [],
   "source": [
    "# Шаг 1. Нормализуем текст\n",
    "def normalize(text):\n",
    "    normalized_text = [word.text.strip(punctuation) for word \\\n",
    "                                                            in razdel_tokenize(text)]\n",
    "    normalized_text = [word.lower() for word in normalized_text if word and len(word) < 20 ]\n",
    "    return normalized_text"
   ]
  },
  {
   "cell_type": "code",
   "execution_count": 4,
   "id": "6c029840",
   "metadata": {},
   "outputs": [],
   "source": [
    "norm_news = normalize(news)"
   ]
  },
  {
   "cell_type": "code",
   "execution_count": 5,
   "id": "6396290e",
   "metadata": {},
   "outputs": [],
   "source": [
    "# Шаг 2. Выведем частотность для отедльных слов\n",
    "from collections import Counter"
   ]
  },
  {
   "cell_type": "code",
   "execution_count": 6,
   "id": "94bfad92",
   "metadata": {},
   "outputs": [],
   "source": [
    "vocab_news = Counter(norm_news)"
   ]
  },
  {
   "cell_type": "code",
   "execution_count": 7,
   "id": "f309bd06",
   "metadata": {},
   "outputs": [
    {
     "data": {
      "text/plain": [
       "[('в', 72412),\n",
       " ('и', 33290),\n",
       " ('на', 28434),\n",
       " ('по', 19490),\n",
       " ('что', 17031),\n",
       " ('с', 15921),\n",
       " ('не', 12702),\n",
       " ('из', 7727),\n",
       " ('о', 7515),\n",
       " ('как', 7514)]"
      ]
     },
     "execution_count": 7,
     "metadata": {},
     "output_type": "execute_result"
    }
   ],
   "source": [
    "vocab_news.most_common(10) # абсолютные частоты "
   ]
  },
  {
   "cell_type": "code",
   "execution_count": 8,
   "id": "8b3289d2",
   "metadata": {},
   "outputs": [
    {
     "data": {
      "text/plain": [
       "[('в', 0.04808907489694771),\n",
       " ('и', 0.0221080111489724),\n",
       " ('на', 0.018883123731146926),\n",
       " ('по', 0.012943380513471676),\n",
       " ('что', 0.011310349590812525),\n",
       " ('с', 0.01057319451795703),\n",
       " ('не', 0.008435444806676101),\n",
       " ('из', 0.005131529052211166),\n",
       " ('о', 0.00499073907433246),\n",
       " ('как', 0.0049900749706632205),\n",
       " ('к', 0.00407161959610543),\n",
       " ('за', 0.0040125143695431435),\n",
       " ('россии', 0.0036751497055696383),\n",
       " ('для', 0.003325831175549828),\n",
       " ('его', 0.003260084912295149),\n",
       " ('он', 0.0031704309169478593),\n",
       " ('от', 0.003066830744546547),\n",
       " ('сообщает', 0.003050228152815567),\n",
       " ('а', 0.0029180715226369697),\n",
       " ('также', 0.002716184007188258)]"
      ]
     },
     "execution_count": 8,
     "metadata": {},
     "output_type": "execute_result"
    }
   ],
   "source": [
    "# превращаем абсолютные частоты в вероятности\n",
    "probas_news = Counter({word:c/len(norm_news) for word, c in vocab_news.items()})\n",
    "probas_news.most_common(20)"
   ]
  },
  {
   "cell_type": "code",
   "execution_count": 9,
   "id": "ef46c001",
   "metadata": {},
   "outputs": [],
   "source": [
    "from nltk.tokenize import sent_tokenize"
   ]
  },
  {
   "cell_type": "code",
   "execution_count": 10,
   "id": "6b6d4d7c",
   "metadata": {},
   "outputs": [],
   "source": [
    "# Шаг 3. Находим количество вхождений для каждого н-грамма\n",
    "def trigrammer(tokens, n=3):\n",
    "    ngrams = []\n",
    "    for i in range(0,len(tokens)-n+1):\n",
    "        ngrams.append(' '.join(tokens[i:i+n]))\n",
    "    return ngrams\n",
    "\n",
    "def bigrammer(tokens, n=2):\n",
    "    ngrams = []\n",
    "    for i in range(0,len(tokens)-n+1):\n",
    "        ngrams.append(' '.join(tokens[i:i +n]))\n",
    "    return ngrams"
   ]
  },
  {
   "cell_type": "code",
   "execution_count": 11,
   "id": "95655663",
   "metadata": {},
   "outputs": [],
   "source": [
    "# Шаг 4.Считаем вероятность 3-грамм. Для этого добавляем дополнительный тэг <start> и тэг окончания <end>\n",
    "sentences_news = [['<start>'] + ['<start>'] + normalize(text) + ['<end>'] for text in sent_tokenize(news)]"
   ]
  },
  {
   "cell_type": "code",
   "execution_count": 12,
   "id": "d479ba39",
   "metadata": {},
   "outputs": [],
   "source": [
    "unigrams = Counter()\n",
    "bigrams = Counter()\n",
    "trigrams = Counter()\n",
    "\n",
    "for sentence in sentences_news:\n",
    "    unigrams.update(sentence)\n",
    "    bigrams.update(bigrammer(sentence)) \n",
    "    trigrams.update(trigrammer(sentence)) "
   ]
  },
  {
   "cell_type": "code",
   "execution_count": 13,
   "id": "16e5527d",
   "metadata": {},
   "outputs": [],
   "source": [
    "# Шаг 5. Создание матрицы 3-грамм\n",
    "from scipy.sparse import lil_matrix, csr_matrix, csc_matrix"
   ]
  },
  {
   "cell_type": "code",
   "execution_count": 14,
   "id": "5b496f45",
   "metadata": {
    "scrolled": true
   },
   "outputs": [],
   "source": [
    "matrix_news = lil_matrix((len(bigrams), len(unigrams)))\n",
    "\n",
    "id2bigram = list(bigrams)\n",
    "bigram2id = {word:i for i, word in enumerate(id2bigram)}\n",
    "id2unigram = list(unigrams)\n",
    "unigram2id = {word:i for i, word in enumerate(id2unigram)}\n",
    "\n",
    "for ngram in trigrams:\n",
    "    word1, word2, word3 = ngram.split()\n",
    "    bigram = ' '.join([word1, word2])\n",
    "    matrix_news[bigram2id[bigram], unigram2id[word3]] = (trigrams[ngram]/\n",
    "                                                                      bigrams[bigram])"
   ]
  },
  {
   "cell_type": "code",
   "execution_count": 15,
   "id": "ba0abaf3",
   "metadata": {},
   "outputs": [],
   "source": [
    "# Шаг 6. Генерируем текст\n",
    "def generate(matrix_news, id2unigram, bigram2id, n=100, start = '<start> <start>'):\n",
    "    text = []  \n",
    "    current_bigram = start \n",
    "    \n",
    "    for i in range(n): \n",
    "        bigram_id = bigram2id[current_bigram]  \n",
    "        chosen_word_idx = np.random.choice(matrix_news.shape[1], p=matrix_news[bigram_id].toarray()[0]) \n",
    "        word = id2unigram[chosen_word_idx]  \n",
    "        text.append(word)\n",
    "        current_bigram = current_bigram.split()[1] + ' ' + word\n",
    "        \n",
    "        if word == '<end>': \n",
    "            current_bigram = '<start> <start>'         \n",
    "    return ' '.join(text)"
   ]
  },
  {
   "cell_type": "code",
   "execution_count": 16,
   "id": "80cc96eb",
   "metadata": {},
   "outputs": [
    {
     "name": "stdout",
     "output_type": "stream",
     "text": [
      "представители network solutions согласилась также на ряде избирательных участков в этих акциях \n",
      " напомним что ходе заседания правительства не обсуждать тему формирования кабинета министров на котором обсуждаются приоритетные направления по обеспечению прав и объявил голодовку в знак протеста против действующих властей \n",
      " сегодня от 10 до 25 миллионов долларов \n",
      " координатор проекта марина литвинович фонд эффективной политики была доставлена в манхэттенский окружной суд американского штата аризона с просьбой отменить распоряжение об обязательных поставках нефти на заводы внутри страны и преодоление продовольственного кризиса заявил риа новости со ссылкой на заместителя министра финансов лешека бальцеровича \n",
      " начало забастовки намечалось на 28 процентов\n"
     ]
    }
   ],
   "source": [
    "print(generate(matrix_news, id2unigram, bigram2id).replace('<end>', '\\n'))"
   ]
  },
  {
   "cell_type": "code",
   "execution_count": 17,
   "id": "0cd0f8f2",
   "metadata": {},
   "outputs": [
    {
     "name": "stdout",
     "output_type": "stream",
     "text": [
      "к поискам кота подключен интерпол в пятницу интерфаксу лидер думской фракции единство \n",
      " еще 16 по контракту \n",
      " пожар силами нарядов вызванных к месту взрыва прибыли скорая помощь и по сути переговорный процесс ни о личности раненого \n",
      " у россии авианесущего крейсера адмирал горшков и модернизации флота \n",
      " во втором туре выборов потерпел поражение \n",
      " как сообщили риа новости двое из них 150 миллионов фунтов стерлингов а во втором круге проходящего в голландском городе энсхеде \n",
      " ранее в проекте еще одной темой переговоров \n",
      " березовский заявил что россия вместе с тем до конца основного времени тертышный сократил разрыв в счете\n"
     ]
    }
   ],
   "source": [
    "print(generate(matrix_news, id2unigram, bigram2id).replace('<end>', '\\n'))"
   ]
  },
  {
   "cell_type": "code",
   "execution_count": 18,
   "id": "45dabf73",
   "metadata": {},
   "outputs": [
    {
     "name": "stdout",
     "output_type": "stream",
     "text": [
      "он напомнил что срок полномочий кармокова он готовит почву заигрывая с коммунистами содержится в национальной валюте \n",
      " по данным мониторинговых фирм на сегодня долг коммунальных служб поэтому в нашу пользу \n",
      " все удостоверения подлинные имеют подписи руководителей гувд и регистрационной палатой города об утерянных и похищенных паспортах \n",
      " инцидент произошел 19 июня в большом колонном зале дома союзов состояласьцеремония инаугурации губернатора подмосковья бориса громова ивице-губернатора михаила меня \n",
      " но именно после этой встречи и принес ответ \n",
      " поводом для этого шесть из семи пунктов \n",
      " по словам американского военного ведомства взрыв произошел в 15 километрах от населенного пункта улус-керт ликвидированы\n"
     ]
    }
   ],
   "source": [
    "print(generate(matrix_news, id2unigram, bigram2id).replace('<end>', '\\n'))"
   ]
  },
  {
   "cell_type": "code",
   "execution_count": 19,
   "id": "e97111ac",
   "metadata": {},
   "outputs": [],
   "source": [
    "# Шаг 7. Считаем перплексию\n",
    "def perplexity(logp, N):\n",
    "    return np.exp((-1/N) * logp)"
   ]
  },
  {
   "cell_type": "code",
   "execution_count": 20,
   "id": "0532f19c",
   "metadata": {},
   "outputs": [],
   "source": [
    "def compute_join_trigram(news, word_counts, bigram_counts, trigram_counts):\n",
    "    prob = 0\n",
    "    tokens = normalize(news)\n",
    "    for ngram in trigrammer(['<start>', '<start>'] + tokens + ['<end>']):\n",
    "        word1, word2, word3 = ngram.split()\n",
    "        bigram = ' '.join([word1, word2])\n",
    "        if word1 in word_counts and ngram in trigram_counts:\n",
    "            prob += np.log(trigram_counts[ngram]/bigram_counts[bigram])\n",
    "        else:\n",
    "            prob += np.log(2e-5)\n",
    "    \n",
    "    return prob, len(tokens)"
   ]
  },
  {
   "cell_type": "code",
   "execution_count": 21,
   "id": "8f66eacc",
   "metadata": {},
   "outputs": [],
   "source": [
    "ps_trigram = []\n",
    "for sent in sent_tokenize(news[:50]): # отложенные предложения\n",
    "    prob, N = compute_join_trigram(sent, unigrams, bigrams, trigrams)\n",
    "    if not N:\n",
    "        continue\n",
    "    ps_trigram.append(perplexity(prob, N))"
   ]
  },
  {
   "cell_type": "code",
   "execution_count": 22,
   "id": "4f51e51f",
   "metadata": {},
   "outputs": [
    {
     "data": {
      "text/plain": [
       "109.67360810071587"
      ]
     },
     "execution_count": 22,
     "metadata": {},
     "output_type": "execute_result"
    }
   ],
   "source": [
    "np.mean(ps_trigram) # перплексия для всей модели"
   ]
  },
  {
   "cell_type": "code",
   "execution_count": 23,
   "id": "bdce7a16",
   "metadata": {},
   "outputs": [
    {
     "data": {
      "text/plain": [
       "4.320690281132484"
      ]
     },
     "execution_count": 23,
     "metadata": {},
     "output_type": "execute_result"
    }
   ],
   "source": [
    "phrase = 'Основной задачей окружных органов юстиции станет формирование единого правового пространства.'\n",
    "log_prob, N = compute_join_trigram(phrase, unigrams, bigrams, trigrams)\n",
    "perplexity(log_prob, N) #для одного предложения"
   ]
  }
 ],
 "metadata": {
  "kernelspec": {
   "display_name": "Python 3 (ipykernel)",
   "language": "python",
   "name": "python3"
  },
  "language_info": {
   "codemirror_mode": {
    "name": "ipython",
    "version": 3
   },
   "file_extension": ".py",
   "mimetype": "text/x-python",
   "name": "python",
   "nbconvert_exporter": "python",
   "pygments_lexer": "ipython3",
   "version": "3.11.4"
  }
 },
 "nbformat": 4,
 "nbformat_minor": 5
}
