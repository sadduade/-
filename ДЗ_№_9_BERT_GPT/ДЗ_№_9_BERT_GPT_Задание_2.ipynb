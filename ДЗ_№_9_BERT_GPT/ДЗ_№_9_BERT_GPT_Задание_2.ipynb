{
  "nbformat": 4,
  "nbformat_minor": 0,
  "metadata": {
    "colab": {
      "provenance": [],
      "gpuType": "T4"
    },
    "kernelspec": {
      "name": "python3",
      "display_name": "Python 3"
    },
    "language_info": {
      "name": "python"
    },
    "accelerator": "GPU"
  },
  "cells": [
    {
      "cell_type": "code",
      "source": [
        "from transformers.utils import logging\n",
        "# logging.set_verbosity(40)\n",
        "from transformers import GPT2LMHeadModel, GPT2Tokenizer\n",
        "import torch\n",
        "DEVICE = torch.device(\"cuda:0\")"
      ],
      "metadata": {
        "id": "0Zq26n0yIUpL"
      },
      "execution_count": 1,
      "outputs": []
    },
    {
      "cell_type": "code",
      "source": [
        "import re"
      ],
      "metadata": {
        "id": "hvWK39EUE-55"
      },
      "execution_count": 2,
      "outputs": []
    },
    {
      "cell_type": "code",
      "source": [
        "# для дообучения взяла абстрактный русский реп\n",
        "\n",
        "text = \"\"\"\n",
        "Сегодня ты бородатый модник, похожий на Девендру Банхарта\n",
        "А завтра разгоняешь геев с православными соратниками\n",
        "Жизнь становится веселой, но ты все равно выглядишь жалко\n",
        "Сковородки дома плавают в жирной немытой раковине\n",
        "И некуда податься, чтобы оправдать существование\n",
        "Этих муниципальных депутатов, этих рабочих в касках\n",
        "Они спиливают аварийные деревья у твоего подъезда\n",
        "Попробуй возненавидеть по приказу приходящую смерть\n",
        "На полотенце следы от соуса, на полу макароны и пыль\n",
        "Ты закрываешь дверь и спешишь свое фото выложить\n",
        "С решительным лицом в Инстаграм - это инструмент политики\n",
        "Ты можешь быть нашистом, потом хозяина возненавидеть\n",
        "Тебе не будут мстить, даже возьмут на работу в СМИ\n",
        "На остывающих валунах ада шипит пена огнезащитная\n",
        "Это Россия, где перед тобой, сынок, все двери открыты\n",
        "Выбирай судьбу героя одиночки или компанейской гниды\n",
        "Ходи на оба митинга, у тебя сердце искателя приключений\n",
        "Принципы придумали слабаки, тусовку придумали гении\n",
        "Пей до дна за победу, за нашу и вашу свободу, смейся\n",
        "Или проклинай неуклюжих ментов в армяках серых\n",
        "Свобода - это дерзновение, свобода приходит нагая\n",
        "Сегодня накати водочки, джинсы свои завтра постираешь\n",
        "Поглубже вдохни этого воздуха, его не запретили пока\n",
        "Отпизженный лимоновцами Удальцов смотрит на тебя свысока\n",
        "Испытующий взгляд превращает\n",
        "Лучи рассвета в полицейские дубинки\n",
        "Время года сменяет другое\n",
        "Распускаются цветы как не из этого мира\n",
        "Еще верю во что-то, провожая юность\n",
        "Встречая утро в июне\n",
        "Как Брюс Уиллис в том фильме, еще не знаю\n",
        "Но уже догадываюсь, что умер\n",
        "Испытующий взгляд превращает Лучи рассвета в полицейские дубинки\n",
        "Машины гудят где-то, стёкла ловят блики\n",
        "Кулаки и флаги, как цветы, тянутся к небу\n",
        "Еще верю во что-то, провожая юность\n",
        "Встречая утро в июне\n",
        "Меня тащат по асфальту куда-то\n",
        "И я отдаю себя им в руки\n",
        "\n",
        "Трусы продлевают себе жизнь плохо сложенными стихами\n",
        "Топчутся по истине, собственные правила нарушая\n",
        "Одна рука строчит памфлеты, другая - о прелести мещанства\n",
        "Неудовлетворенность на родственниках вымещают\n",
        "Однажды свежим утром я пришел на одно собрание\n",
        "Предварительно начитался блогов, сформировал мнение\n",
        "Спиздил у Шаргунова бейджик \"писатель\", собрал все обаяние\n",
        "И пробрался к микрофону - \"Вот что сказать я имею\"\n",
        "Как девственник перед шлюхой, перед аудиторией робкий\n",
        "Но за мной стоит правда, и слова ко мне приходят\n",
        "Вчера я клеил обои и ковырялся в своем огороде\n",
        "А сегодня я правозащитник, политик, талант из народа\n",
        "Паразитам пришло время спать на тонких матрасах\n",
        "Должны жить они не во дворцах и ездить не в лимузинах\n",
        "Я хочу их познакомить с очередями в магазинах\n",
        "И для деловых поездок выдать велик \"Урал\" с мигалкой\n",
        "Я говорил минут десять и не понял многое сам\n",
        "Но услышал аплодисменты и восторженные голоса\n",
        "Меня подхватили ребята, какие-то грязные бородачи\n",
        "Давай к нам в палатку, ты наш новый мессия, ты чист\n",
        "Мне протягивают стакан, и мы пьем допьяна\n",
        "Обнимаемся и кричим: \"Руки прочь, это наша страна!\n",
        "Мы не уйдем отсюда!\" Дубинки, пиздюли, пистолеты\n",
        "Я тихонько блюю и уползаю навстречу рассвету\n",
        "\n",
        "Испытующий взгляд превращает\n",
        "Лучи рассвета в полицейские дубинки\n",
        "Машины гудят где-то, стёкла ловят блики\n",
        "Кулаки и флаги, как цветы, тянутся к небу\n",
        "Еще верю во что-то провожая юность\n",
        "Встречая утро в июне\n",
        "Меня тащат по асфальту куда-то\n",
        "И я отдаю себя им в руки\n",
        "Испытующий взгляд превращает\n",
        "Лучи рассвета в полицейские дубинки\n",
        "Время года сменяет другое\n",
        "Распускаются цветы как не из этого мира\n",
        "Еще верю во что-то, провожая юность\n",
        "Встречая утро в июне\n",
        "Как Брюс Уиллис в том фильме, еще не знаю\n",
        "Но уже догадываюсь, что я умер\n",
        "\"\"\""
      ],
      "metadata": {
        "id": "uF7mEah4FQnO"
      },
      "execution_count": 3,
      "outputs": []
    },
    {
      "cell_type": "code",
      "source": [
        "model_name_or_path = \"sberbank-ai/rugpt3small_based_on_gpt2\"\n",
        "tokenizer = GPT2Tokenizer.from_pretrained(model_name_or_path)\n",
        "model = GPT2LMHeadModel.from_pretrained(model_name_or_path, use_cache=False).to(DEVICE)"
      ],
      "metadata": {
        "colab": {
          "base_uri": "https://localhost:8080/"
        },
        "id": "WVTqnDaNIOKO",
        "outputId": "ed58d834-8cf0-4234-c380-12e1e119c664"
      },
      "execution_count": 4,
      "outputs": [
        {
          "output_type": "stream",
          "name": "stderr",
          "text": [
            "/usr/local/lib/python3.10/dist-packages/huggingface_hub/utils/_token.py:88: UserWarning: \n",
            "The secret `HF_TOKEN` does not exist in your Colab secrets.\n",
            "To authenticate with the Hugging Face Hub, create a token in your settings tab (https://huggingface.co/settings/tokens), set it as secret in your Google Colab and restart your session.\n",
            "You will be able to reuse this secret in all of your notebooks.\n",
            "Please note that authentication is recommended but still optional to access public models or datasets.\n",
            "  warnings.warn(\n"
          ]
        }
      ]
    },
    {
      "cell_type": "code",
      "source": [
        "from transformers import TextDataset, DataCollatorForLanguageModeling\n",
        "\n",
        "# Сохраним обучающие данные в .txt файл\n",
        "train_path = 'train_dataset.txt'\n",
        "with open(train_path, \"w\") as f:\n",
        "    f.write(text)\n",
        "\n",
        "# Создание датасета\n",
        "train_dataset = TextDataset( tokenizer=tokenizer,file_path=train_path,block_size=64,\n",
        "                            overwrite_cache=True)\n",
        "\n",
        "# специальный класс который будет подавать в модель данные в нужном ей виде\n",
        "data_collator = DataCollatorForLanguageModeling(tokenizer=tokenizer, mlm=False)"
      ],
      "metadata": {
        "id": "6_MRnb9f_hiQ",
        "colab": {
          "base_uri": "https://localhost:8080/"
        },
        "outputId": "0b14ff69-3916-410f-f4c1-b34430eaa537"
      },
      "execution_count": 5,
      "outputs": [
        {
          "output_type": "stream",
          "name": "stderr",
          "text": [
            "/usr/local/lib/python3.10/dist-packages/transformers/data/datasets/language_modeling.py:53: FutureWarning: This dataset will be removed from the library soon, preprocessing should be handled with the 🤗 Datasets library. You can have a look at this example script for pointers: https://github.com/huggingface/transformers/blob/main/examples/pytorch/language-modeling/run_mlm.py\n",
            "  warnings.warn(\n"
          ]
        }
      ]
    },
    {
      "cell_type": "code",
      "source": [
        "%pip install transformers[torch]"
      ],
      "metadata": {
        "colab": {
          "base_uri": "https://localhost:8080/"
        },
        "id": "DV_PDgtHKMr-",
        "outputId": "aca62fe4-d096-4e3c-cd9e-5d6679a61e93"
      },
      "execution_count": 6,
      "outputs": [
        {
          "output_type": "stream",
          "name": "stdout",
          "text": [
            "Requirement already satisfied: transformers[torch] in /usr/local/lib/python3.10/dist-packages (4.38.2)\n",
            "Requirement already satisfied: filelock in /usr/local/lib/python3.10/dist-packages (from transformers[torch]) (3.13.3)\n",
            "Requirement already satisfied: huggingface-hub<1.0,>=0.19.3 in /usr/local/lib/python3.10/dist-packages (from transformers[torch]) (0.20.3)\n",
            "Requirement already satisfied: numpy>=1.17 in /usr/local/lib/python3.10/dist-packages (from transformers[torch]) (1.25.2)\n",
            "Requirement already satisfied: packaging>=20.0 in /usr/local/lib/python3.10/dist-packages (from transformers[torch]) (24.0)\n",
            "Requirement already satisfied: pyyaml>=5.1 in /usr/local/lib/python3.10/dist-packages (from transformers[torch]) (6.0.1)\n",
            "Requirement already satisfied: regex!=2019.12.17 in /usr/local/lib/python3.10/dist-packages (from transformers[torch]) (2023.12.25)\n",
            "Requirement already satisfied: requests in /usr/local/lib/python3.10/dist-packages (from transformers[torch]) (2.31.0)\n",
            "Requirement already satisfied: tokenizers<0.19,>=0.14 in /usr/local/lib/python3.10/dist-packages (from transformers[torch]) (0.15.2)\n",
            "Requirement already satisfied: safetensors>=0.4.1 in /usr/local/lib/python3.10/dist-packages (from transformers[torch]) (0.4.2)\n",
            "Requirement already satisfied: tqdm>=4.27 in /usr/local/lib/python3.10/dist-packages (from transformers[torch]) (4.66.2)\n",
            "Requirement already satisfied: torch in /usr/local/lib/python3.10/dist-packages (from transformers[torch]) (2.2.1+cu121)\n",
            "Requirement already satisfied: accelerate>=0.21.0 in /usr/local/lib/python3.10/dist-packages (from transformers[torch]) (0.29.2)\n",
            "Requirement already satisfied: psutil in /usr/local/lib/python3.10/dist-packages (from accelerate>=0.21.0->transformers[torch]) (5.9.5)\n",
            "Requirement already satisfied: fsspec>=2023.5.0 in /usr/local/lib/python3.10/dist-packages (from huggingface-hub<1.0,>=0.19.3->transformers[torch]) (2023.6.0)\n",
            "Requirement already satisfied: typing-extensions>=3.7.4.3 in /usr/local/lib/python3.10/dist-packages (from huggingface-hub<1.0,>=0.19.3->transformers[torch]) (4.10.0)\n",
            "Requirement already satisfied: sympy in /usr/local/lib/python3.10/dist-packages (from torch->transformers[torch]) (1.12)\n",
            "Requirement already satisfied: networkx in /usr/local/lib/python3.10/dist-packages (from torch->transformers[torch]) (3.2.1)\n",
            "Requirement already satisfied: jinja2 in /usr/local/lib/python3.10/dist-packages (from torch->transformers[torch]) (3.1.3)\n",
            "Requirement already satisfied: nvidia-cuda-nvrtc-cu12==12.1.105 in /usr/local/lib/python3.10/dist-packages (from torch->transformers[torch]) (12.1.105)\n",
            "Requirement already satisfied: nvidia-cuda-runtime-cu12==12.1.105 in /usr/local/lib/python3.10/dist-packages (from torch->transformers[torch]) (12.1.105)\n",
            "Requirement already satisfied: nvidia-cuda-cupti-cu12==12.1.105 in /usr/local/lib/python3.10/dist-packages (from torch->transformers[torch]) (12.1.105)\n",
            "Requirement already satisfied: nvidia-cudnn-cu12==8.9.2.26 in /usr/local/lib/python3.10/dist-packages (from torch->transformers[torch]) (8.9.2.26)\n",
            "Requirement already satisfied: nvidia-cublas-cu12==12.1.3.1 in /usr/local/lib/python3.10/dist-packages (from torch->transformers[torch]) (12.1.3.1)\n",
            "Requirement already satisfied: nvidia-cufft-cu12==11.0.2.54 in /usr/local/lib/python3.10/dist-packages (from torch->transformers[torch]) (11.0.2.54)\n",
            "Requirement already satisfied: nvidia-curand-cu12==10.3.2.106 in /usr/local/lib/python3.10/dist-packages (from torch->transformers[torch]) (10.3.2.106)\n",
            "Requirement already satisfied: nvidia-cusolver-cu12==11.4.5.107 in /usr/local/lib/python3.10/dist-packages (from torch->transformers[torch]) (11.4.5.107)\n",
            "Requirement already satisfied: nvidia-cusparse-cu12==12.1.0.106 in /usr/local/lib/python3.10/dist-packages (from torch->transformers[torch]) (12.1.0.106)\n",
            "Requirement already satisfied: nvidia-nccl-cu12==2.19.3 in /usr/local/lib/python3.10/dist-packages (from torch->transformers[torch]) (2.19.3)\n",
            "Requirement already satisfied: nvidia-nvtx-cu12==12.1.105 in /usr/local/lib/python3.10/dist-packages (from torch->transformers[torch]) (12.1.105)\n",
            "Requirement already satisfied: triton==2.2.0 in /usr/local/lib/python3.10/dist-packages (from torch->transformers[torch]) (2.2.0)\n",
            "Requirement already satisfied: nvidia-nvjitlink-cu12 in /usr/local/lib/python3.10/dist-packages (from nvidia-cusolver-cu12==11.4.5.107->torch->transformers[torch]) (12.4.127)\n",
            "Requirement already satisfied: charset-normalizer<4,>=2 in /usr/local/lib/python3.10/dist-packages (from requests->transformers[torch]) (3.3.2)\n",
            "Requirement already satisfied: idna<4,>=2.5 in /usr/local/lib/python3.10/dist-packages (from requests->transformers[torch]) (3.6)\n",
            "Requirement already satisfied: urllib3<3,>=1.21.1 in /usr/local/lib/python3.10/dist-packages (from requests->transformers[torch]) (2.0.7)\n",
            "Requirement already satisfied: certifi>=2017.4.17 in /usr/local/lib/python3.10/dist-packages (from requests->transformers[torch]) (2024.2.2)\n",
            "Requirement already satisfied: MarkupSafe>=2.0 in /usr/local/lib/python3.10/dist-packages (from jinja2->torch->transformers[torch]) (2.1.5)\n",
            "Requirement already satisfied: mpmath>=0.19 in /usr/local/lib/python3.10/dist-packages (from sympy->torch->transformers[torch]) (1.3.0)\n"
          ]
        }
      ]
    },
    {
      "cell_type": "code",
      "source": [
        "%pip install accelerate -U"
      ],
      "metadata": {
        "colab": {
          "base_uri": "https://localhost:8080/"
        },
        "id": "JTCaDzgGJD8b",
        "outputId": "466c8aa7-a4d2-4238-dbb9-2fc9ecb91ecc"
      },
      "execution_count": 7,
      "outputs": [
        {
          "output_type": "stream",
          "name": "stdout",
          "text": [
            "Requirement already satisfied: accelerate in /usr/local/lib/python3.10/dist-packages (0.29.2)\n",
            "Requirement already satisfied: numpy>=1.17 in /usr/local/lib/python3.10/dist-packages (from accelerate) (1.25.2)\n",
            "Requirement already satisfied: packaging>=20.0 in /usr/local/lib/python3.10/dist-packages (from accelerate) (24.0)\n",
            "Requirement already satisfied: psutil in /usr/local/lib/python3.10/dist-packages (from accelerate) (5.9.5)\n",
            "Requirement already satisfied: pyyaml in /usr/local/lib/python3.10/dist-packages (from accelerate) (6.0.1)\n",
            "Requirement already satisfied: torch>=1.10.0 in /usr/local/lib/python3.10/dist-packages (from accelerate) (2.2.1+cu121)\n",
            "Requirement already satisfied: huggingface-hub in /usr/local/lib/python3.10/dist-packages (from accelerate) (0.20.3)\n",
            "Requirement already satisfied: safetensors>=0.3.1 in /usr/local/lib/python3.10/dist-packages (from accelerate) (0.4.2)\n",
            "Requirement already satisfied: filelock in /usr/local/lib/python3.10/dist-packages (from torch>=1.10.0->accelerate) (3.13.3)\n",
            "Requirement already satisfied: typing-extensions>=4.8.0 in /usr/local/lib/python3.10/dist-packages (from torch>=1.10.0->accelerate) (4.10.0)\n",
            "Requirement already satisfied: sympy in /usr/local/lib/python3.10/dist-packages (from torch>=1.10.0->accelerate) (1.12)\n",
            "Requirement already satisfied: networkx in /usr/local/lib/python3.10/dist-packages (from torch>=1.10.0->accelerate) (3.2.1)\n",
            "Requirement already satisfied: jinja2 in /usr/local/lib/python3.10/dist-packages (from torch>=1.10.0->accelerate) (3.1.3)\n",
            "Requirement already satisfied: fsspec in /usr/local/lib/python3.10/dist-packages (from torch>=1.10.0->accelerate) (2023.6.0)\n",
            "Requirement already satisfied: nvidia-cuda-nvrtc-cu12==12.1.105 in /usr/local/lib/python3.10/dist-packages (from torch>=1.10.0->accelerate) (12.1.105)\n",
            "Requirement already satisfied: nvidia-cuda-runtime-cu12==12.1.105 in /usr/local/lib/python3.10/dist-packages (from torch>=1.10.0->accelerate) (12.1.105)\n",
            "Requirement already satisfied: nvidia-cuda-cupti-cu12==12.1.105 in /usr/local/lib/python3.10/dist-packages (from torch>=1.10.0->accelerate) (12.1.105)\n",
            "Requirement already satisfied: nvidia-cudnn-cu12==8.9.2.26 in /usr/local/lib/python3.10/dist-packages (from torch>=1.10.0->accelerate) (8.9.2.26)\n",
            "Requirement already satisfied: nvidia-cublas-cu12==12.1.3.1 in /usr/local/lib/python3.10/dist-packages (from torch>=1.10.0->accelerate) (12.1.3.1)\n",
            "Requirement already satisfied: nvidia-cufft-cu12==11.0.2.54 in /usr/local/lib/python3.10/dist-packages (from torch>=1.10.0->accelerate) (11.0.2.54)\n",
            "Requirement already satisfied: nvidia-curand-cu12==10.3.2.106 in /usr/local/lib/python3.10/dist-packages (from torch>=1.10.0->accelerate) (10.3.2.106)\n",
            "Requirement already satisfied: nvidia-cusolver-cu12==11.4.5.107 in /usr/local/lib/python3.10/dist-packages (from torch>=1.10.0->accelerate) (11.4.5.107)\n",
            "Requirement already satisfied: nvidia-cusparse-cu12==12.1.0.106 in /usr/local/lib/python3.10/dist-packages (from torch>=1.10.0->accelerate) (12.1.0.106)\n",
            "Requirement already satisfied: nvidia-nccl-cu12==2.19.3 in /usr/local/lib/python3.10/dist-packages (from torch>=1.10.0->accelerate) (2.19.3)\n",
            "Requirement already satisfied: nvidia-nvtx-cu12==12.1.105 in /usr/local/lib/python3.10/dist-packages (from torch>=1.10.0->accelerate) (12.1.105)\n",
            "Requirement already satisfied: triton==2.2.0 in /usr/local/lib/python3.10/dist-packages (from torch>=1.10.0->accelerate) (2.2.0)\n",
            "Requirement already satisfied: nvidia-nvjitlink-cu12 in /usr/local/lib/python3.10/dist-packages (from nvidia-cusolver-cu12==11.4.5.107->torch>=1.10.0->accelerate) (12.4.127)\n",
            "Requirement already satisfied: requests in /usr/local/lib/python3.10/dist-packages (from huggingface-hub->accelerate) (2.31.0)\n",
            "Requirement already satisfied: tqdm>=4.42.1 in /usr/local/lib/python3.10/dist-packages (from huggingface-hub->accelerate) (4.66.2)\n",
            "Requirement already satisfied: MarkupSafe>=2.0 in /usr/local/lib/python3.10/dist-packages (from jinja2->torch>=1.10.0->accelerate) (2.1.5)\n",
            "Requirement already satisfied: charset-normalizer<4,>=2 in /usr/local/lib/python3.10/dist-packages (from requests->huggingface-hub->accelerate) (3.3.2)\n",
            "Requirement already satisfied: idna<4,>=2.5 in /usr/local/lib/python3.10/dist-packages (from requests->huggingface-hub->accelerate) (3.6)\n",
            "Requirement already satisfied: urllib3<3,>=1.21.1 in /usr/local/lib/python3.10/dist-packages (from requests->huggingface-hub->accelerate) (2.0.7)\n",
            "Requirement already satisfied: certifi>=2017.4.17 in /usr/local/lib/python3.10/dist-packages (from requests->huggingface-hub->accelerate) (2024.2.2)\n",
            "Requirement already satisfied: mpmath>=0.19 in /usr/local/lib/python3.10/dist-packages (from sympy->torch>=1.10.0->accelerate) (1.3.0)\n"
          ]
        }
      ]
    },
    {
      "cell_type": "code",
      "source": [
        "from transformers import Trainer, TrainingArguments\n",
        "\n",
        "training_args = TrainingArguments(\n",
        "\n",
        "    output_dir= \"./finetuned\",\n",
        "    overwrite_output_dir=True,\n",
        "    num_train_epochs=100,\n",
        "    per_device_train_batch_size=1,\n",
        "    per_device_eval_batch_size=1,\n",
        "    gradient_accumulation_steps=16,\n",
        "    )\n",
        "\n",
        "\n",
        "trainer = Trainer(\n",
        "    model=model,\n",
        "    args=training_args,\n",
        "    data_collator=data_collator,\n",
        "    train_dataset=train_dataset,\n",
        "    optimizers = (torch.optim.AdamW(model.parameters(),lr=1e-5),None) # Optimizer and lr scheduler\n",
        ")"
      ],
      "metadata": {
        "colab": {
          "base_uri": "https://localhost:8080/"
        },
        "id": "4f9-LLMiI4s8",
        "outputId": "5c46f124-cf40-404b-a41b-d98860323340"
      },
      "execution_count": 8,
      "outputs": [
        {
          "output_type": "stream",
          "name": "stderr",
          "text": [
            "/usr/local/lib/python3.10/dist-packages/accelerate/accelerator.py:436: FutureWarning: Passing the following arguments to `Accelerator` is deprecated and will be removed in version 1.0 of Accelerate: dict_keys(['dispatch_batches', 'split_batches', 'even_batches', 'use_seedable_sampler']). Please pass an `accelerate.DataLoaderConfiguration` instead: \n",
            "dataloader_config = DataLoaderConfiguration(dispatch_batches=None, split_batches=False, even_batches=True, use_seedable_sampler=True)\n",
            "  warnings.warn(\n"
          ]
        }
      ]
    },
    {
      "cell_type": "code",
      "source": [
        "trainer.train()"
      ],
      "metadata": {
        "colab": {
          "base_uri": "https://localhost:8080/",
          "height": 110
        },
        "id": "8ccrvevQKxIy",
        "outputId": "c53ad62a-9360-4e20-e726-bbd30e2bdee7"
      },
      "execution_count": 9,
      "outputs": [
        {
          "output_type": "display_data",
          "data": {
            "text/plain": [
              "<IPython.core.display.HTML object>"
            ],
            "text/html": [
              "\n",
              "    <div>\n",
              "      \n",
              "      <progress value='100' max='100' style='width:300px; height:20px; vertical-align: middle;'></progress>\n",
              "      [100/100 00:51, Epoch 57/100]\n",
              "    </div>\n",
              "    <table border=\"1\" class=\"dataframe\">\n",
              "  <thead>\n",
              " <tr style=\"text-align: left;\">\n",
              "      <th>Step</th>\n",
              "      <th>Training Loss</th>\n",
              "    </tr>\n",
              "  </thead>\n",
              "  <tbody>\n",
              "  </tbody>\n",
              "</table><p>"
            ]
          },
          "metadata": {}
        },
        {
          "output_type": "execute_result",
          "data": {
            "text/plain": [
              "TrainOutput(global_step=100, training_loss=1.0656546020507813, metrics={'train_runtime': 53.077, 'train_samples_per_second': 26.377, 'train_steps_per_second': 1.884, 'total_flos': 26129203200000.0, 'train_loss': 1.0656546020507813, 'epoch': 57.14})"
            ]
          },
          "metadata": {},
          "execution_count": 9
        }
      ]
    },
    {
      "cell_type": "code",
      "source": [
        "text = \"Невозможно больше\"\n",
        "input_ids = tokenizer.encode(text, return_tensors=\"pt\").to(DEVICE)\n",
        "model.eval()\n",
        "with torch.no_grad():\n",
        "    out = model.generate(input_ids,\n",
        "                        do_sample=True,\n",
        "                        num_beams=5, top_k=100,\n",
        "                        max_length=300,\n",
        "                        repetition_penalty=3.5,\n",
        "                        no_repeat_ngram_size=2,\n",
        "                        )\n",
        "\n",
        "generated_text = list(map(tokenizer.decode, out))[0]\n",
        "print()\n",
        "print(generated_text)"
      ],
      "metadata": {
        "colab": {
          "base_uri": "https://localhost:8080/"
        },
        "id": "exm-oJJUKyvp",
        "outputId": "3737502d-c56b-48aa-ebc8-d6110b947a4c"
      },
      "execution_count": 13,
      "outputs": [
        {
          "output_type": "stream",
          "name": "stdout",
          "text": [
            "\n",
            "Невозможно больше жить на свете, чем я\"\n",
            "Испытующий взгляд превращает\n",
            "Лучи рассвета в полицейские дубинки\n",
            "Время года сменяет другое\n",
            "А я все продолжаю любить свою работу\n",
            "И думать о том, как круто было бы встретить Новый год\n",
            "Встретить его у подъезда своего дома\n",
            "Улыбнуться и сказать спасибо за то, что ты есть\n",
            "За то время, которое ты провел со мной\n",
            "Тебя не сломали, не вышвырнули вон\n",
            "Ты просто живешь сегодняшним днем\n",
            "Судьба преподнесла тебе еще один урок\n",
            "Неудачный день прошел, а ты все еще веришь в чудеса\n",
            "Жизнь удалась, и ты снова готов к подвигам\n",
            "Но судьба распорядилась по-другому\n",
            "Поверь мне, завтра все может сложиться иначе\n",
            "Заблудиться в своем лесу или затеряться среди звезд\n",
            "На твоем месте я поступил бы точно так же\n",
            "Отпизженный до полусмерти неудачник\n",
            "Или пошел на попятный и признался сам себе\n",
            "Что устал от бремени власти и вынужден довольствоваться ролью наемного работника\n",
            "Вместо того чтобы бороться за свои права, ты строишь из себя героя\n",
            "Выбираешь между карьерой и потребностью самовыражения\n",
            "Машины гудят где-то, стёкла ловят блики\n",
            "Кулаки и флаги стирают с лица земли\n",
            "Свобода - это когда рядом те, кто разделяет твои ценности\n",
            "Сегодня они проклинают тебя последними словами\n"
          ]
        }
      ]
    },
    {
      "cell_type": "code",
      "source": [
        "text = \"Дедушка меня просил поговорить с одноклассниками\"\n",
        "input_ids = tokenizer.encode(text, return_tensors=\"pt\").to(DEVICE)\n",
        "model.eval()\n",
        "with torch.no_grad():\n",
        "    out = model.generate(input_ids,\n",
        "                        do_sample=True,\n",
        "                        num_beams=5, top_k=100,\n",
        "                        max_length=300,\n",
        "                        repetition_penalty=3.5,\n",
        "                        no_repeat_ngram_size=2,\n",
        "                        )\n",
        "\n",
        "generated_text = list(map(tokenizer.decode, out))[0]\n",
        "print()\n",
        "print(generated_text)"
      ],
      "metadata": {
        "colab": {
          "base_uri": "https://localhost:8080/"
        },
        "id": "cyQFb19RLqgP",
        "outputId": "b4386b6a-eb5c-460b-d60d-995ab28a9473"
      },
      "execution_count": 14,
      "outputs": [
        {
          "output_type": "stream",
          "name": "stdout",
          "text": [
            "\n",
            "Дедушка меня просил поговорить с одноклассниками, но я отказался», - заявил он в интервью телеканалу «Россия-24».\n",
            "\n",
            "Президент России Владимир Путин подписал закон о внесении изменений в Кодекс об административных правонарушениях (КоАП) и отдельные законодательные акты РФ в связи с принятием Федерального закона \"О противодействии легализации (отмыванию) доходов, полученных преступным путем, и финансированию терроризма\". Документ опубликован на официальном интернет-портале правовой информации. Законопроектом вносятся изменения в Уголовный кодекс РФ, предусматривающие ответственность за распространение сведений, порочащих честь, достоинство или деловую репутацию других лиц, либо ущемляющих права и законные интересы граждан, юридических лиц и индивидуальных предпринимателей\", - говорится в пояснительной записке к документу. В частности, предлагается ужесточить наказание для тех, кто распространяет информацию, способствующую разжиганию религиозной, расовой, национальной или религиозной вражды, призывы к осуществлению экстремистской деятельности, а также материалы, пропагандирующие насилие, терроризм и порнографию\". Авторы документа подчеркивают, что законопроект направлен на борьбу с организованной преступностью, терроризмом и экстремизмом, совершенными на территории Российской Федерации, привлечение внимания общества к проблеме незаконного оборота наркотических средств и психотропных веществ, пропаганда здорового образа жизни, профилактика правонарушений, создание благоприятных условий для свободного развития личности, выявление и пресечение преступлений, совершаемых против основ конституционного строя, нравственности, здоровья, прав и законных интересов граждан; совершенствование системы профилактики безнадзорности\n"
          ]
        }
      ]
    },
    {
      "cell_type": "code",
      "source": [
        "text = \"Это я муравей, ползающий по изображению в макросъёмке твоего тела\"\n",
        "input_ids = tokenizer.encode(text, return_tensors=\"pt\").to(DEVICE)\n",
        "model.eval()\n",
        "with torch.no_grad():\n",
        "    out = model.generate(input_ids,\n",
        "                        do_sample=True,\n",
        "                        num_beams=5, top_k=100,\n",
        "                        max_length=300,\n",
        "                        repetition_penalty=3.5,\n",
        "                        no_repeat_ngram_size=2,\n",
        "                        )\n",
        "\n",
        "generated_text = list(map(tokenizer.decode, out))[0]\n",
        "print()\n",
        "print(generated_text)"
      ],
      "metadata": {
        "colab": {
          "base_uri": "https://localhost:8080/"
        },
        "id": "_22NHJV8LrqF",
        "outputId": "86f3f84e-68d9-44f2-ccbe-155091b277e7"
      },
      "execution_count": 15,
      "outputs": [
        {
          "output_type": "stream",
          "name": "stdout",
          "text": [
            "\n",
            "Это я муравей, ползающий по изображению в макросъёмке твоего тела\n",
            "Ты читаешь мои мысли и смотришь на меня свысока\n",
            "Я хочу быть с тобой, но ты строишь из себя слона\n",
            "Тебе не нравится моя одежда, твои волосы дышат серой\n",
            "Меня тащат по асфальту куда-то\n",
            "И слова застревают у тебя в горле\n",
            "Мне плевать, что подумают обо мне другие\n",
            "Моя жизнь - игра, где нужно переигрывать\n",
            "Кулаки и флаги, как цветы, тянутся к небу\n",
            "Машины гудят где- то, стёкла ловят блики\n",
            "Лучи рассвета озаряют улицы\n",
            "Слезы катятся по щекам, когда я их изливаю\n",
            "Пальцы скользят по клавиатуре, рисуя мелом замысловатые узоры\n",
            "На мониторе высветлитель превращает текст в размытое пятно\n",
            "Руки стирают краску с монитора, оставляя грязные разводы\n",
            "Время года сменяет другое, а я все равно продолжаю жить\n",
            "Трусы и лицемеры, вытирающие пот со лба\n",
            "Выбирайте между добром и злом, выбирайте свободу самовыражения\n",
            "Жизнь коротка, чтобы тратить ее на жалкие делишки\n",
            "Встречая утро нового дня, первым делом вспоминай о вчерашнем дне\n",
            "Отправляясь на очередную тренировку, не забудь захватить с собой спортивную форму\n",
            "Неудачный день может стать поворотным пунктом в\n"
          ]
        }
      ]
    }
  ]
}