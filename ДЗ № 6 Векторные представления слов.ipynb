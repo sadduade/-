{
 "cells": [
  {
   "cell_type": "code",
   "execution_count": 1,
   "id": "cece8be4",
   "metadata": {},
   "outputs": [
    {
     "name": "stdout",
     "output_type": "stream",
     "text": [
      "WARNING:tensorflow:From C:\\Users\\Пользователь\\AppData\\Roaming\\Python\\Python311\\site-packages\\keras\\src\\losses.py:2976: The name tf.losses.sparse_softmax_cross_entropy is deprecated. Please use tf.compat.v1.losses.sparse_softmax_cross_entropy instead.\n",
      "\n"
     ]
    }
   ],
   "source": [
    "import tensorflow as tf\n",
    "import numpy as np\n",
    "import pandas as pd\n",
    "from string import punctuation\n",
    "from sklearn.model_selection import train_test_split\n",
    "from collections import Counter\n",
    "import matplotlib.pyplot as plt\n",
    "from sklearn.decomposition import TruncatedSVD\n",
    "from sklearn.feature_extraction.text import CountVectorizer\n",
    "from sklearn.metrics.pairwise import cosine_distances\n",
    "\n",
    "from IPython.display import Image\n",
    "from IPython.core.display import HTML \n",
    "%matplotlib inline"
   ]
  },
  {
   "cell_type": "code",
   "execution_count": 2,
   "id": "93160f4f",
   "metadata": {},
   "outputs": [],
   "source": [
    "wiki = open('wiki_data.txt', encoding='UTF-8').read().split('\\n')"
   ]
  },
  {
   "cell_type": "code",
   "execution_count": null,
   "id": "6dc241cb",
   "metadata": {},
   "outputs": [],
   "source": [
    "# Задание 1"
   ]
  },
  {
   "cell_type": "code",
   "execution_count": 3,
   "id": "6b81236c",
   "metadata": {},
   "outputs": [],
   "source": [
    "#предобработка \n",
    "import re\n",
    "import nltk\n",
    "from string import punctuation\n",
    "from nltk.tokenize import word_tokenize\n",
    "from nltk.stem import WordNetLemmatizer\n",
    "\n",
    "lemmatizer = WordNetLemmatizer()\n",
    "\n",
    "def preprocess(text):\n",
    "    tokens = re.sub('#+', ' ', text.lower()).split()\n",
    "    tokens = [token.strip(punctuation) for token in tokens]\n",
    "    tokens = [token for token in tokens if token]\n",
    "    # лемматизация с NLTK\n",
    "    tokens = [lemmatizer.lemmatize(token) for token in tokens]\n",
    "\n",
    "    return tokens"
   ]
  },
  {
   "cell_type": "code",
   "execution_count": 4,
   "id": "6665572b",
   "metadata": {},
   "outputs": [],
   "source": [
    "preprocessed_wiki = [preprocess(line) for line in wiki]"
   ]
  },
  {
   "cell_type": "code",
   "execution_count": 5,
   "id": "d5b187f0",
   "metadata": {},
   "outputs": [],
   "source": [
    "#посчитать количество упоминаний, чтобы отсеять самые редкие\n",
    "vocab = Counter()\n",
    "\n",
    "for text in wiki:\n",
    "    vocab.update(preprocess(text))"
   ]
  },
  {
   "cell_type": "code",
   "execution_count": 6,
   "id": "ad1a06d1",
   "metadata": {},
   "outputs": [
    {
     "data": {
      "text/plain": [
       "443187"
      ]
     },
     "execution_count": 6,
     "metadata": {},
     "output_type": "execute_result"
    }
   ],
   "source": [
    "len(vocab)"
   ]
  },
  {
   "cell_type": "code",
   "execution_count": 7,
   "id": "b06c20ee",
   "metadata": {},
   "outputs": [],
   "source": [
    "#возьмем только те, что встретились больше 30 раз\n",
    "filtered_vocab = set()\n",
    "\n",
    "for word in vocab:\n",
    "    if vocab[word] > 30:\n",
    "        filtered_vocab.add(word)"
   ]
  },
  {
   "cell_type": "code",
   "execution_count": 8,
   "id": "0d3d23ee",
   "metadata": {},
   "outputs": [
    {
     "data": {
      "text/plain": [
       "17032"
      ]
     },
     "execution_count": 8,
     "metadata": {},
     "output_type": "execute_result"
    }
   ],
   "source": [
    "len(filtered_vocab)"
   ]
  },
  {
   "cell_type": "code",
   "execution_count": 9,
   "id": "4299b440",
   "metadata": {},
   "outputs": [],
   "source": [
    "#создадим для этого специальный словарь с индексами\n",
    "word2id = {'PAD':0}\n",
    "\n",
    "for word in filtered_vocab:\n",
    "    word2id[word] = len(word2id)"
   ]
  },
  {
   "cell_type": "code",
   "execution_count": 10,
   "id": "36b12e54",
   "metadata": {},
   "outputs": [],
   "source": [
    "id2word = {i:word for word, i in word2id.items()}"
   ]
  },
  {
   "cell_type": "code",
   "execution_count": 11,
   "id": "5be374fd",
   "metadata": {},
   "outputs": [],
   "source": [
    "#Заменяем слова на индексы\n",
    "sentences = []\n",
    "\n",
    "for text in wiki:\n",
    "    tokens = preprocess(text)\n",
    "    if not tokens:\n",
    "        continue\n",
    "    ids = [word2id[token] for token in tokens if token in word2id]\n",
    "    sentences.append(ids)"
   ]
  },
  {
   "cell_type": "code",
   "execution_count": 12,
   "id": "7513c2b3",
   "metadata": {},
   "outputs": [],
   "source": [
    "# skip gram\n",
    "X = []\n",
    "y = []\n",
    "\n",
    "# увеличиваем размер окна\n",
    "window = 7\n",
    "for sent in sentences[:1000]:\n",
    "    for i in range(len(sent)-1):\n",
    "        word = sent[i] # target\n",
    "        context = sent[max(0, i-window):i] + sent[i+1:i+window]  # context (слова до и после целевого)\n",
    "\n",
    "        for context_word in context:\n",
    "            X.append(word)\n",
    "            y.append(context_word)"
   ]
  },
  {
   "cell_type": "code",
   "execution_count": 13,
   "id": "a16e7af5",
   "metadata": {},
   "outputs": [
    {
     "data": {
      "text/plain": [
       "(14242, 5780)"
      ]
     },
     "execution_count": 13,
     "metadata": {},
     "output_type": "execute_result"
    }
   ],
   "source": [
    "X[1], y[1]"
   ]
  },
  {
   "cell_type": "code",
   "execution_count": 14,
   "id": "91495cd0",
   "metadata": {},
   "outputs": [
    {
     "data": {
      "text/plain": [
       "(2538402, 2538402)"
      ]
     },
     "execution_count": 14,
     "metadata": {},
     "output_type": "execute_result"
    }
   ],
   "source": [
    "len(X), len(y)"
   ]
  },
  {
   "cell_type": "code",
   "execution_count": 15,
   "id": "981f9e04",
   "metadata": {},
   "outputs": [],
   "source": [
    "#тестироваться на отложенной выборке\n",
    "X_train, X_valid, y_train, y_valid = train_test_split(X, y, test_size=0.05)"
   ]
  },
  {
   "cell_type": "code",
   "execution_count": 16,
   "id": "cc9b9bbd",
   "metadata": {},
   "outputs": [
    {
     "name": "stdout",
     "output_type": "stream",
     "text": [
      "WARNING:tensorflow:From C:\\Users\\Пользователь\\AppData\\Roaming\\Python\\Python311\\site-packages\\keras\\src\\backend.py:873: The name tf.get_default_graph is deprecated. Please use tf.compat.v1.get_default_graph instead.\n",
      "\n"
     ]
    }
   ],
   "source": [
    "#Создаем нейронную сеть\n",
    "model = tf.keras.Sequential()\n",
    "\n",
    "model.add(tf.keras.layers.Embedding(input_dim=len(word2id), \n",
    "                                    input_length=1, \n",
    "                                    output_dim=200))\n",
    "model.add(tf.keras.layers.Flatten())\n",
    "model.add(tf.keras.layers.Dense(len(word2id), \n",
    "                                activation='softmax'))\n",
    "model.compile(optimizer=tf.keras.optimizers.Adam(),\n",
    "              loss='sparse_categorical_crossentropy')"
   ]
  },
  {
   "cell_type": "code",
   "execution_count": 17,
   "id": "d2f7323e",
   "metadata": {},
   "outputs": [
    {
     "name": "stdout",
     "output_type": "stream",
     "text": [
      "Model: \"sequential\"\n",
      "_________________________________________________________________\n",
      " Layer (type)                Output Shape              Param #   \n",
      "=================================================================\n",
      " embedding (Embedding)       (None, 1, 200)            3406600   \n",
      "                                                                 \n",
      " flatten (Flatten)           (None, 200)               0         \n",
      "                                                                 \n",
      " dense (Dense)               (None, 17033)             3423633   \n",
      "                                                                 \n",
      "=================================================================\n",
      "Total params: 6830233 (26.06 MB)\n",
      "Trainable params: 6830233 (26.06 MB)\n",
      "Non-trainable params: 0 (0.00 Byte)\n",
      "_________________________________________________________________\n",
      "None\n"
     ]
    }
   ],
   "source": [
    "print(model.summary())"
   ]
  },
  {
   "cell_type": "code",
   "execution_count": 18,
   "id": "fcb7a3af",
   "metadata": {
    "scrolled": true
   },
   "outputs": [
    {
     "name": "stdout",
     "output_type": "stream",
     "text": [
      "Epoch 1/4\n",
      "WARNING:tensorflow:From C:\\Users\\Пользователь\\AppData\\Roaming\\Python\\Python311\\site-packages\\keras\\src\\utils\\tf_utils.py:492: The name tf.ragged.RaggedTensorValue is deprecated. Please use tf.compat.v1.ragged.RaggedTensorValue instead.\n",
      "\n",
      "2412/2412 [==============================] - 425s 176ms/step - loss: 7.7264 - val_loss: 7.4624\n",
      "Epoch 2/4\n",
      "2412/2412 [==============================] - 451s 187ms/step - loss: 7.3298 - val_loss: 7.2825\n",
      "Epoch 3/4\n",
      "2412/2412 [==============================] - 411s 170ms/step - loss: 7.1212 - val_loss: 7.1580\n",
      "Epoch 4/4\n",
      "2412/2412 [==============================] - 439s 182ms/step - loss: 6.9349 - val_loss: 7.0795\n"
     ]
    },
    {
     "data": {
      "text/plain": [
       "<keras.src.callbacks.History at 0x276ff3485d0>"
      ]
     },
     "execution_count": 18,
     "metadata": {},
     "output_type": "execute_result"
    }
   ],
   "source": [
    "# обучение\n",
    "model.fit(X_train, y_train,\n",
    "          validation_data=(X_valid, y_valid),\n",
    "          batch_size=1000,\n",
    "         epochs=4)"
   ]
  },
  {
   "cell_type": "code",
   "execution_count": 19,
   "id": "a7cb984d",
   "metadata": {},
   "outputs": [
    {
     "name": "stdout",
     "output_type": "stream",
     "text": [
      "dict_keys(['loss', 'val_loss'])\n"
     ]
    },
    {
     "data": {
      "image/png": "[encoded data removed]",
      "text/plain": [
       "<Figure size 640x480 with 1 Axes>"
      ]
     },
     "metadata": {},
     "output_type": "display_data"
    }
   ],
   "source": [
    "print(model.history.history.keys())\n",
    "# summarize history for accuracy\n",
    "plt.plot(model.history.history['loss'])\n",
    "plt.plot(model.history.history['val_loss'])\n",
    "plt.title('model loss')\n",
    "plt.ylabel('loss')\n",
    "plt.xlabel('epoch')\n",
    "plt.legend(['train', 'val'], loc='upper left')\n",
    "plt.show()"
   ]
  },
  {
   "cell_type": "code",
   "execution_count": 20,
   "id": "6c9533ea",
   "metadata": {},
   "outputs": [
    {
     "data": {
      "text/plain": [
       "[<keras.src.layers.core.embedding.Embedding at 0x276ff00de90>,\n",
       " <keras.src.layers.reshaping.flatten.Flatten at 0x276f075da10>,\n",
       " <keras.src.layers.core.dense.Dense at 0x276efd5cad0>]"
      ]
     },
     "execution_count": 20,
     "metadata": {},
     "output_type": "execute_result"
    }
   ],
   "source": [
    "model.layers"
   ]
  },
  {
   "cell_type": "code",
   "execution_count": 21,
   "id": "afbe2ac5",
   "metadata": {},
   "outputs": [
    {
     "data": {
      "text/plain": [
       "(17033, 200)"
      ]
     },
     "execution_count": 21,
     "metadata": {},
     "output_type": "execute_result"
    }
   ],
   "source": [
    "# веса embedding слоя\n",
    "model.layers[0].get_weights()[0].shape"
   ]
  },
  {
   "cell_type": "code",
   "execution_count": 22,
   "id": "5dace1f5",
   "metadata": {},
   "outputs": [
    {
     "data": {
      "text/plain": [
       "(200, 17033)"
      ]
     },
     "execution_count": 22,
     "metadata": {},
     "output_type": "execute_result"
    }
   ],
   "source": [
    "# веса полносвязного слоя\n",
    "model.layers[2].get_weights()[0].shape"
   ]
  },
  {
   "cell_type": "code",
   "execution_count": 23,
   "id": "105f26ec",
   "metadata": {},
   "outputs": [],
   "source": [
    "embeddings_1 = model.layers[0].get_weights()[0]\n",
    "embeddings_2 = model.layers[2].get_weights()[0].T"
   ]
  },
  {
   "cell_type": "code",
   "execution_count": 24,
   "id": "4a135598",
   "metadata": {},
   "outputs": [],
   "source": [
    "embeddings = np.mean([embeddings_1, embeddings_2], axis=0)"
   ]
  },
  {
   "cell_type": "code",
   "execution_count": 25,
   "id": "a7e02fe8",
   "metadata": {},
   "outputs": [
    {
     "data": {
      "text/plain": [
       "(17033, 200)"
      ]
     },
     "execution_count": 25,
     "metadata": {},
     "output_type": "execute_result"
    }
   ],
   "source": [
    "embeddings.shape"
   ]
  },
  {
   "cell_type": "code",
   "execution_count": 26,
   "id": "dd0c1583",
   "metadata": {},
   "outputs": [],
   "source": [
    "def most_similar(word, embeddings):\n",
    "    similar = [id2word[i] for i in \n",
    "               cosine_distances(embeddings[word2id[word]].reshape(1, -1), embeddings).argsort()[0][:10]]\n",
    "    return similar"
   ]
  },
  {
   "cell_type": "code",
   "execution_count": 27,
   "id": "7e4893cd",
   "metadata": {},
   "outputs": [
    {
     "data": {
      "text/plain": [
       "['древний',\n",
       " 'мрамора',\n",
       " 'средних',\n",
       " 'заболевания',\n",
       " 'мыши',\n",
       " 'ареала',\n",
       " 'гитар',\n",
       " 'ель',\n",
       " 'меди',\n",
       " 'низкой']"
      ]
     },
     "execution_count": 27,
     "metadata": {},
     "output_type": "execute_result"
    }
   ],
   "source": [
    "most_similar('древний', embeddings)"
   ]
  },
  {
   "cell_type": "code",
   "execution_count": 28,
   "id": "dc22508b",
   "metadata": {},
   "outputs": [
    {
     "data": {
      "text/plain": [
       "['гражданин',\n",
       " 'татарстан',\n",
       " 'юлий',\n",
       " 'литовский',\n",
       " 'публицист',\n",
       " 'математик',\n",
       " 'инфекции',\n",
       " 'грузинской',\n",
       " 'кинематографистов',\n",
       " 'санкт-петербургского']"
      ]
     },
     "execution_count": 28,
     "metadata": {},
     "output_type": "execute_result"
    }
   ],
   "source": [
    "most_similar('гражданин', embeddings)"
   ]
  },
  {
   "cell_type": "code",
   "execution_count": 29,
   "id": "34a04be7",
   "metadata": {},
   "outputs": [],
   "source": [
    "#cbow (лучше всего сработало)\n",
    "X = []\n",
    "y = []\n",
    "\n",
    "window = 7\n",
    "for sent in sentences[:10000]:\n",
    "    for i in range(len(sent)-1):\n",
    "        word = sent[i]\n",
    "        context = sent[max(0, i-window):i] + sent[i+1:i+window]\n",
    "        \n",
    "        X.append(context)\n",
    "        y.append(word)"
   ]
  },
  {
   "cell_type": "code",
   "execution_count": 30,
   "id": "fbc92996",
   "metadata": {},
   "outputs": [
    {
     "data": {
      "text/plain": [
       "[[269, 5780, 10101, 4350, 4069, 14323],\n",
       " [14242, 5780, 10101, 4350, 4069, 14323, 8772],\n",
       " [14242, 269, 10101, 4350, 4069, 14323, 8772, 3826],\n",
       " [14242, 269, 5780, 4350, 4069, 14323, 8772, 3826, 4350],\n",
       " [14242, 269, 5780, 10101, 4069, 14323, 8772, 3826, 4350, 3405],\n",
       " [14242, 269, 5780, 10101, 4350, 14323, 8772, 3826, 4350, 3405, 44],\n",
       " [14242, 269, 5780, 10101, 4350, 4069, 8772, 3826, 4350, 3405, 44, 10101],\n",
       " [14242,\n",
       "  269,\n",
       "  5780,\n",
       "  10101,\n",
       "  4350,\n",
       "  4069,\n",
       "  14323,\n",
       "  3826,\n",
       "  4350,\n",
       "  3405,\n",
       "  44,\n",
       "  10101,\n",
       "  10916],\n",
       " [269,\n",
       "  5780,\n",
       "  10101,\n",
       "  4350,\n",
       "  4069,\n",
       "  14323,\n",
       "  8772,\n",
       "  4350,\n",
       "  3405,\n",
       "  44,\n",
       "  10101,\n",
       "  10916,\n",
       "  4350],\n",
       " [5780,\n",
       "  10101,\n",
       "  4350,\n",
       "  4069,\n",
       "  14323,\n",
       "  8772,\n",
       "  3826,\n",
       "  3405,\n",
       "  44,\n",
       "  10101,\n",
       "  10916,\n",
       "  4350,\n",
       "  11639]]"
      ]
     },
     "execution_count": 30,
     "metadata": {},
     "output_type": "execute_result"
    }
   ],
   "source": [
    "# оригинальные контексты\n",
    "X[:10]"
   ]
  },
  {
   "cell_type": "code",
   "execution_count": 31,
   "id": "8062dcbb",
   "metadata": {},
   "outputs": [],
   "source": [
    "X = tf.keras.preprocessing.sequence.pad_sequences(X, maxlen=10, padding='post')\n",
    "y = np.array(y)"
   ]
  },
  {
   "cell_type": "code",
   "execution_count": 32,
   "id": "db1c0f03",
   "metadata": {},
   "outputs": [
    {
     "data": {
      "text/plain": [
       "array([[  269,  5780, 10101, ...,     0,     0,     0],\n",
       "       [14242,  5780, 10101, ...,     0,     0,     0],\n",
       "       [14242,   269, 10101, ...,  3826,     0,     0],\n",
       "       ...,\n",
       "       [14472, 10866,  7605, ..., 13442, 13014, 15713],\n",
       "       [10866,  7605, 14611, ..., 13014, 15713,     0],\n",
       "       [ 7605, 14611,  4350, ..., 15713,     0,     0]])"
      ]
     },
     "execution_count": 32,
     "metadata": {},
     "output_type": "execute_result"
    }
   ],
   "source": [
    "# контексты после паддинга\n",
    "X"
   ]
  },
  {
   "cell_type": "code",
   "execution_count": 33,
   "id": "6530157b",
   "metadata": {},
   "outputs": [],
   "source": [
    "X_train, X_valid, y_train, y_valid = train_test_split(X, y, test_size=0.05)"
   ]
  },
  {
   "cell_type": "code",
   "execution_count": 34,
   "id": "e2c328e1",
   "metadata": {},
   "outputs": [
    {
     "name": "stderr",
     "output_type": "stream",
     "text": [
      "WARNING:absl:`lr` is deprecated in Keras optimizer, please use `learning_rate` or use the legacy optimizer, e.g.,tf.keras.optimizers.legacy.Adam.\n"
     ]
    }
   ],
   "source": [
    "model = tf.keras.Sequential()\n",
    "model.add(tf.keras.layers.Embedding(input_dim=len(word2id),\n",
    "                                    input_length=10,\n",
    "                                    output_dim=200))\n",
    "\n",
    "model.add(tf.keras.layers.Lambda(lambda x: tf.keras.backend.sum(x, axis=1)))\n",
    "\n",
    "model.add(tf.keras.layers.Dense(len(word2id), activation='softmax'))\n",
    "model.compile(optimizer=tf.keras.optimizers.Adam(lr=0.001), loss='sparse_categorical_crossentropy')"
   ]
  },
  {
   "cell_type": "code",
   "execution_count": 35,
   "id": "6ffafc03",
   "metadata": {},
   "outputs": [
    {
     "name": "stdout",
     "output_type": "stream",
     "text": [
      "Model: \"sequential_1\"\n",
      "_________________________________________________________________\n",
      " Layer (type)                Output Shape              Param #   \n",
      "=================================================================\n",
      " embedding_1 (Embedding)     (None, 10, 200)           3406600   \n",
      "                                                                 \n",
      " lambda (Lambda)             (None, 200)               0         \n",
      "                                                                 \n",
      " dense_1 (Dense)             (None, 17033)             3423633   \n",
      "                                                                 \n",
      "=================================================================\n",
      "Total params: 6830233 (26.06 MB)\n",
      "Trainable params: 6830233 (26.06 MB)\n",
      "Non-trainable params: 0 (0.00 Byte)\n",
      "_________________________________________________________________\n",
      "None\n"
     ]
    }
   ],
   "source": [
    "print(model.summary())"
   ]
  },
  {
   "cell_type": "code",
   "execution_count": 36,
   "id": "be2d4297",
   "metadata": {},
   "outputs": [
    {
     "name": "stdout",
     "output_type": "stream",
     "text": [
      "Epoch 1/4\n",
      "1730/1730 [==============================] - 329s 190ms/step - loss: 6.9222 - val_loss: 6.2804\n",
      "Epoch 2/4\n",
      "1730/1730 [==============================] - 324s 187ms/step - loss: 5.8780 - val_loss: 5.8705\n",
      "Epoch 3/4\n",
      "1730/1730 [==============================] - 325s 188ms/step - loss: 5.3800 - val_loss: 5.7096\n",
      "Epoch 4/4\n",
      "1730/1730 [==============================] - 333s 192ms/step - loss: 5.0179 - val_loss: 5.6535\n"
     ]
    },
    {
     "data": {
      "text/plain": [
       "<keras.src.callbacks.History at 0x27705ee1210>"
      ]
     },
     "execution_count": 36,
     "metadata": {},
     "output_type": "execute_result"
    }
   ],
   "source": [
    "# обучение\n",
    "model.fit(X_train, y_train, \n",
    "          validation_data=(X_valid, y_valid),\n",
    "          batch_size=1000,\n",
    "         epochs=4)"
   ]
  },
  {
   "cell_type": "code",
   "execution_count": 37,
   "id": "833df168",
   "metadata": {
    "scrolled": true
   },
   "outputs": [
    {
     "name": "stdout",
     "output_type": "stream",
     "text": [
      "dict_keys(['loss', 'val_loss'])\n"
     ]
    },
    {
     "data": {
      "image/png": "[encoded data removed]",
      "text/plain": [
       "<Figure size 640x480 with 1 Axes>"
      ]
     },
     "metadata": {},
     "output_type": "display_data"
    }
   ],
   "source": [
    "print(model.history.history.keys())\n",
    "# summarize history for accuracy\n",
    "plt.plot(model.history.history['loss'])\n",
    "plt.plot(model.history.history['val_loss'])\n",
    "plt.title('model loss')\n",
    "plt.ylabel('loss')\n",
    "plt.xlabel('epoch')\n",
    "plt.legend(['train', 'val'], loc='upper left')\n",
    "plt.show()"
   ]
  },
  {
   "cell_type": "code",
   "execution_count": 38,
   "id": "7d426c67",
   "metadata": {},
   "outputs": [
    {
     "data": {
      "text/plain": [
       "(17033, 200)"
      ]
     },
     "execution_count": 38,
     "metadata": {},
     "output_type": "execute_result"
    }
   ],
   "source": [
    "# веса embedding слоя\n",
    "model.layers[0].get_weights()[0].shape"
   ]
  },
  {
   "cell_type": "code",
   "execution_count": 39,
   "id": "48b799f7",
   "metadata": {},
   "outputs": [
    {
     "data": {
      "text/plain": [
       "(200, 17033)"
      ]
     },
     "execution_count": 39,
     "metadata": {},
     "output_type": "execute_result"
    }
   ],
   "source": [
    "# веса полносвязного слоя\n",
    "model.layers[2].get_weights()[0].shape"
   ]
  },
  {
   "cell_type": "code",
   "execution_count": 40,
   "id": "b3d2d2bf",
   "metadata": {},
   "outputs": [],
   "source": [
    "embeddings_1 = model.layers[0].get_weights()[0]\n",
    "embeddings_2 = model.layers[2].get_weights()[0].T\n",
    "embeddings = np.mean([embeddings_1, embeddings_2], axis=0)"
   ]
  },
  {
   "cell_type": "code",
   "execution_count": 41,
   "id": "4cb7a834",
   "metadata": {},
   "outputs": [],
   "source": [
    "embeddings = np.mean([embeddings_1, embeddings_2], axis=0)"
   ]
  },
  {
   "cell_type": "code",
   "execution_count": 42,
   "id": "38aa3a35",
   "metadata": {},
   "outputs": [
    {
     "data": {
      "text/plain": [
       "(17033, 200)"
      ]
     },
     "execution_count": 42,
     "metadata": {},
     "output_type": "execute_result"
    }
   ],
   "source": [
    "embeddings.shape"
   ]
  },
  {
   "cell_type": "code",
   "execution_count": 43,
   "id": "0370a8ec",
   "metadata": {},
   "outputs": [
    {
     "data": {
      "text/plain": [
       "['древний',\n",
       " 'крупный',\n",
       " 'распространённый',\n",
       " 'превратился',\n",
       " 'самый',\n",
       " 'египет',\n",
       " 'инструмент',\n",
       " 'расположенный',\n",
       " 'кафедральный',\n",
       " 'стеной']"
      ]
     },
     "execution_count": 43,
     "metadata": {},
     "output_type": "execute_result"
    }
   ],
   "source": [
    "most_similar('древний', embeddings)"
   ]
  },
  {
   "cell_type": "code",
   "execution_count": 44,
   "id": "7ed8325f",
   "metadata": {},
   "outputs": [
    {
     "data": {
      "text/plain": [
       "['гражданин',\n",
       " 'почётный',\n",
       " 'почетный',\n",
       " 'юрист',\n",
       " 'почётного',\n",
       " 'заслуженный',\n",
       " 'лауреат',\n",
       " 'филологических',\n",
       " 'мэр',\n",
       " 'гражданина']"
      ]
     },
     "execution_count": 44,
     "metadata": {},
     "output_type": "execute_result"
    }
   ],
   "source": [
    "most_similar('гражданин', embeddings)"
   ]
  },
  {
   "cell_type": "code",
   "execution_count": null,
   "id": "cc9c8865",
   "metadata": {},
   "outputs": [],
   "source": [
    "# негативное семплирование"
   ]
  },
  {
   "cell_type": "code",
   "execution_count": 45,
   "id": "5793e9f7",
   "metadata": {},
   "outputs": [],
   "source": [
    "vocab_size = len(id2word)"
   ]
  },
  {
   "cell_type": "code",
   "execution_count": 46,
   "id": "074b104c",
   "metadata": {},
   "outputs": [],
   "source": [
    "# skip gram\n",
    "def gen_batches_sg(sentences, window = 7, batch_size=1000):\n",
    "    \n",
    "    # параметр window задает его целиком\n",
    "    # нам нужно поделить его пополам на левую и правую часть\n",
    "    # когда делится неровно, то левая часть больше на 1\n",
    "    left_context_length = (window/2).__ceil__() # округлить в большую сторону\n",
    "    right_context_length = window // 2 # округлить в меньшую сторону\n",
    "    \n",
    "    while True:\n",
    "        X_target = []\n",
    "        X_context = []\n",
    "        y = []\n",
    "\n",
    "        for sent in sentences:\n",
    "            for i in range(len(sent)-1):\n",
    "                word = sent[i]\n",
    "                context = sent[max(0, i-left_context_length):i] + sent[i+1:i+right_context_length]\n",
    "                for context_word in context:\n",
    "                    X_target.append(word)\n",
    "                    X_context.append(context_word)\n",
    "                    y.append(1)\n",
    "                    \n",
    "                    X_target.append(word)\n",
    "                    X_context.append(np.random.randint(vocab_size))\n",
    "                    y.append(0)\n",
    "                    \n",
    "                    if len(X_target) >= batch_size:\n",
    "                        X_target = np.array(X_target)\n",
    "                        X_context = np.array(X_context)\n",
    "                        y = np.array(y)\n",
    "                        yield ((X_target, X_context), y)\n",
    "                        X_target = []\n",
    "                        X_context = []\n",
    "                        y = []"
   ]
  },
  {
   "cell_type": "code",
   "execution_count": 47,
   "id": "cd062756",
   "metadata": {},
   "outputs": [],
   "source": [
    "# cbow \n",
    "def gen_batches_cbow(sentences, window = 7, batch_size=1000):\n",
    "    \n",
    "    # параметр window задает его целиком\n",
    "    # нам нужно поделить его пополам на левую и правую часть\n",
    "    # когда делится неровно, то левая часть больше на 1\n",
    "    left_context_length = (window/2).__ceil__() # округлить в большую сторону\n",
    "    right_context_length = window // 2 # округлить в меньшую сторону\n",
    "    \n",
    "    while True:\n",
    "        X_target = []\n",
    "        X_context = []\n",
    "        y = []\n",
    "\n",
    "        for sent in sentences:\n",
    "            for i in range(len(sent)-1):\n",
    "                word = sent[i]\n",
    "                context = sent[max(0, i-left_context_length):i] + sent[i+1:i+right_context_length]\n",
    "\n",
    "                X_target.append(word)\n",
    "                X_context.append(context)\n",
    "                y.append(1)\n",
    "                \n",
    "                X_target.append(np.random.randint(vocab_size))\n",
    "                X_context.append(context)\n",
    "                y.append(0)\n",
    "\n",
    "                if len(X_target) == batch_size:\n",
    "                    X_target = np.array(X_target)\n",
    "                    X_context = tf.keras.preprocessing.sequence.pad_sequences(X_context, maxlen=window)\n",
    "                    y = np.array(y)\n",
    "                    yield ((X_target, X_context), y)\n",
    "                    X_target = []\n",
    "                    X_context = []\n",
    "                    y = []"
   ]
  },
  {
   "cell_type": "code",
   "execution_count": 48,
   "id": "77577a85",
   "metadata": {},
   "outputs": [],
   "source": [
    "inputs_target = tf.keras.layers.Input(shape=(1,))\n",
    "inputs_context = tf.keras.layers.Input(shape=(1,))\n",
    "\n",
    "\n",
    "embeddings_target = tf.keras.layers.Embedding(input_dim=len(word2id), output_dim=200)(inputs_target, )\n",
    "embeddings_context = tf.keras.layers.Embedding(input_dim=len(word2id), output_dim=200)(inputs_context, )\n",
    "\n",
    "target = tf.keras.layers.Flatten()(embeddings_target)\n",
    "context = tf.keras.layers.Flatten()(embeddings_context)\n",
    "\n",
    "dot = tf.keras.layers.Dot(1)([target, context])\n",
    "outputs = tf.keras.layers.Activation(activation='sigmoid')(dot)\n",
    "\n",
    "model = tf.keras.Model(inputs=[inputs_target, inputs_context], \n",
    "                       outputs=outputs)\n",
    "optimizer = tf.keras.optimizers.Adam(learning_rate=0.001)\n",
    "model.compile(optimizer=optimizer,\n",
    "              loss='binary_crossentropy',\n",
    "              metrics=['accuracy'])"
   ]
  },
  {
   "cell_type": "code",
   "execution_count": 49,
   "id": "dc7cc0bb",
   "metadata": {},
   "outputs": [
    {
     "name": "stdout",
     "output_type": "stream",
     "text": [
      "Epoch 1/2\n",
      "WARNING:tensorflow:From C:\\Users\\Пользователь\\AppData\\Roaming\\Python\\Python311\\site-packages\\keras\\src\\engine\\base_layer_utils.py:384: The name tf.executing_eagerly_outside_functions is deprecated. Please use tf.compat.v1.executing_eagerly_outside_functions instead.\n",
      "\n"
     ]
    },
    {
     "name": "stderr",
     "output_type": "stream",
     "text": [
      "WARNING:tensorflow:From C:\\Users\\Пользователь\\AppData\\Roaming\\Python\\Python311\\site-packages\\keras\\src\\engine\\base_layer_utils.py:384: The name tf.executing_eagerly_outside_functions is deprecated. Please use tf.compat.v1.executing_eagerly_outside_functions instead.\n",
      "\n"
     ]
    },
    {
     "name": "stdout",
     "output_type": "stream",
     "text": [
      "5000/5000 [==============================] - 347s 69ms/step - loss: 0.4849 - accuracy: 0.7706 - val_loss: 0.5075 - val_accuracy: 0.7644\n",
      "Epoch 2/2\n",
      "5000/5000 [==============================] - 349s 70ms/step - loss: 0.4540 - accuracy: 0.7947 - val_loss: 0.4315 - val_accuracy: 0.8074\n"
     ]
    },
    {
     "data": {
      "text/plain": [
       "<keras.src.callbacks.History at 0x276ff76b4d0>"
      ]
     },
     "execution_count": 49,
     "metadata": {},
     "output_type": "execute_result"
    }
   ],
   "source": [
    "# обучение\n",
    "model.fit(gen_batches_sg(sentences[:19000], window=7),\n",
    "          validation_data=gen_batches_sg(sentences[19000:],  window=7),\n",
    "          batch_size=1000,\n",
    "          steps_per_epoch=5000,\n",
    "          validation_steps=30,\n",
    "         epochs=2)"
   ]
  },
  {
   "cell_type": "code",
   "execution_count": 50,
   "id": "6d19356d",
   "metadata": {},
   "outputs": [],
   "source": [
    "embeddings = model.layers[2].get_weights()[0]"
   ]
  },
  {
   "cell_type": "code",
   "execution_count": 51,
   "id": "cae467d0",
   "metadata": {},
   "outputs": [
    {
     "data": {
      "text/plain": [
       "['древний',\n",
       " 'восточный',\n",
       " 'братской',\n",
       " 'поселении',\n",
       " 'берёт',\n",
       " 'эскадрона',\n",
       " 'преобразован',\n",
       " '1545',\n",
       " 'общая',\n",
       " 'свое']"
      ]
     },
     "execution_count": 51,
     "metadata": {},
     "output_type": "execute_result"
    }
   ],
   "source": [
    "most_similar('древний', embeddings) #плоховато"
   ]
  },
  {
   "cell_type": "code",
   "execution_count": 52,
   "id": "90b0f9ee",
   "metadata": {},
   "outputs": [
    {
     "data": {
      "text/plain": [
       "['гражданин',\n",
       " 'политехнического',\n",
       " 'утверждено',\n",
       " 'грузинский',\n",
       " '1785',\n",
       " 'поселке',\n",
       " 'швейцарский',\n",
       " 'новосибирск',\n",
       " 'введен',\n",
       " 'выросла']"
      ]
     },
     "execution_count": 52,
     "metadata": {},
     "output_type": "execute_result"
    }
   ],
   "source": [
    "most_similar('гражданин', embeddings)"
   ]
  },
  {
   "cell_type": "code",
   "execution_count": null,
   "id": "cb73a106",
   "metadata": {},
   "outputs": [],
   "source": [
    "# Задание 2"
   ]
  },
  {
   "cell_type": "code",
   "execution_count": 53,
   "id": "320f35c2",
   "metadata": {},
   "outputs": [],
   "source": [
    "import gensim"
   ]
  },
  {
   "cell_type": "code",
   "execution_count": 54,
   "id": "69eb34df",
   "metadata": {},
   "outputs": [],
   "source": [
    "?gensim.models.Word2Vec"
   ]
  },
  {
   "cell_type": "code",
   "execution_count": 55,
   "id": "1fd2eb5a",
   "metadata": {},
   "outputs": [
    {
     "data": {
      "text/plain": [
       "'4.3.2'"
      ]
     },
     "execution_count": 55,
     "metadata": {},
     "output_type": "execute_result"
    }
   ],
   "source": [
    "gensim.__version__"
   ]
  },
  {
   "cell_type": "code",
   "execution_count": 56,
   "id": "92ca4356",
   "metadata": {},
   "outputs": [],
   "source": [
    "wiki = open('wiki_data.txt', encoding='UTF-8').read().split('\\n')"
   ]
  },
  {
   "cell_type": "code",
   "execution_count": 57,
   "id": "702c5a39",
   "metadata": {},
   "outputs": [],
   "source": [
    "#предобработка \n",
    "import re\n",
    "import nltk\n",
    "from string import punctuation\n",
    "from nltk.tokenize import word_tokenize\n",
    "from nltk.stem import WordNetLemmatizer\n",
    "\n",
    "lemmatizer = WordNetLemmatizer()\n",
    "\n",
    "def preprocess(text):\n",
    "    tokens = re.sub('#+', ' ', text.lower()).split()\n",
    "    tokens = [token.strip(punctuation) for token in tokens]\n",
    "    tokens = [token for token in tokens if token]\n",
    "    # лемматизация с NLTK\n",
    "    tokens = [lemmatizer.lemmatize(token) for token in tokens]\n",
    "\n",
    "    return tokens"
   ]
  },
  {
   "cell_type": "code",
   "execution_count": 58,
   "id": "3136a518",
   "metadata": {},
   "outputs": [],
   "source": [
    "texts = [preprocess(text) for text in wiki]"
   ]
  },
  {
   "cell_type": "code",
   "execution_count": 59,
   "id": "d995cfae",
   "metadata": {},
   "outputs": [
    {
     "name": "stdout",
     "output_type": "stream",
     "text": [
      "CPU times: total: 38.5 s\n",
      "Wall time: 14.8 s\n"
     ]
    }
   ],
   "source": [
    "%%time\n",
    "w2v = gensim.models.Word2Vec(texts, )"
   ]
  },
  {
   "cell_type": "code",
   "execution_count": 60,
   "id": "9639b22a",
   "metadata": {},
   "outputs": [
    {
     "name": "stdout",
     "output_type": "stream",
     "text": [
      "CPU times: total: 41.4 s\n",
      "Wall time: 14.6 s\n"
     ]
    }
   ],
   "source": [
    "%%time\n",
    "w2v = gensim.models.Word2Vec(texts,\n",
    "                             vector_size=400, \n",
    "                             min_count=40, \n",
    "                             max_vocab_size=9000,\n",
    "                             window=7,\n",
    "                             epochs=6,\n",
    "                             sample=3e-5,\n",
    "                             ns_exponent=0.79,\n",
    "                             sg=1,\n",
    "                             cbow_mean=0,\n",
    "                             negative=13,\n",
    "                            )"
   ]
  },
  {
   "cell_type": "code",
   "execution_count": 61,
   "id": "3e1007a8",
   "metadata": {},
   "outputs": [
    {
     "ename": "KeyError",
     "evalue": "\"Key 'древний' not present in vocabulary\"",
     "output_type": "error",
     "traceback": [
      "\u001b[1;31m---------------------------------------------------------------------------\u001b[0m",
      "\u001b[1;31mKeyError\u001b[0m                                  Traceback (most recent call last)",
      "Cell \u001b[1;32mIn[61], line 2\u001b[0m\n\u001b[0;32m      1\u001b[0m \u001b[38;5;66;03m# не нашлось\u001b[39;00m\n\u001b[1;32m----> 2\u001b[0m \u001b[43mw2v\u001b[49m\u001b[38;5;241;43m.\u001b[39;49m\u001b[43mwv\u001b[49m\u001b[38;5;241;43m.\u001b[39;49m\u001b[43mmost_similar\u001b[49m\u001b[43m(\u001b[49m\u001b[38;5;124;43m'\u001b[39;49m\u001b[38;5;124;43mдревний\u001b[39;49m\u001b[38;5;124;43m'\u001b[39;49m\u001b[43m)\u001b[49m\n",
      "File \u001b[1;32m~\\AppData\\Roaming\\Python\\Python311\\site-packages\\gensim\\models\\keyedvectors.py:841\u001b[0m, in \u001b[0;36mKeyedVectors.most_similar\u001b[1;34m(self, positive, negative, topn, clip_start, clip_end, restrict_vocab, indexer)\u001b[0m\n\u001b[0;32m    838\u001b[0m         weight[idx] \u001b[38;5;241m=\u001b[39m item[\u001b[38;5;241m1\u001b[39m]\n\u001b[0;32m    840\u001b[0m \u001b[38;5;66;03m# compute the weighted average of all keys\u001b[39;00m\n\u001b[1;32m--> 841\u001b[0m mean \u001b[38;5;241m=\u001b[39m \u001b[38;5;28;43mself\u001b[39;49m\u001b[38;5;241;43m.\u001b[39;49m\u001b[43mget_mean_vector\u001b[49m\u001b[43m(\u001b[49m\u001b[43mkeys\u001b[49m\u001b[43m,\u001b[49m\u001b[43m \u001b[49m\u001b[43mweight\u001b[49m\u001b[43m,\u001b[49m\u001b[43m \u001b[49m\u001b[43mpre_normalize\u001b[49m\u001b[38;5;241;43m=\u001b[39;49m\u001b[38;5;28;43;01mTrue\u001b[39;49;00m\u001b[43m,\u001b[49m\u001b[43m \u001b[49m\u001b[43mpost_normalize\u001b[49m\u001b[38;5;241;43m=\u001b[39;49m\u001b[38;5;28;43;01mTrue\u001b[39;49;00m\u001b[43m,\u001b[49m\u001b[43m \u001b[49m\u001b[43mignore_missing\u001b[49m\u001b[38;5;241;43m=\u001b[39;49m\u001b[38;5;28;43;01mFalse\u001b[39;49;00m\u001b[43m)\u001b[49m\n\u001b[0;32m    842\u001b[0m all_keys \u001b[38;5;241m=\u001b[39m [\n\u001b[0;32m    843\u001b[0m     \u001b[38;5;28mself\u001b[39m\u001b[38;5;241m.\u001b[39mget_index(key) \u001b[38;5;28;01mfor\u001b[39;00m key \u001b[38;5;129;01min\u001b[39;00m keys \u001b[38;5;28;01mif\u001b[39;00m \u001b[38;5;28misinstance\u001b[39m(key, _KEY_TYPES) \u001b[38;5;129;01mand\u001b[39;00m \u001b[38;5;28mself\u001b[39m\u001b[38;5;241m.\u001b[39mhas_index_for(key)\n\u001b[0;32m    844\u001b[0m ]\n\u001b[0;32m    846\u001b[0m \u001b[38;5;28;01mif\u001b[39;00m indexer \u001b[38;5;129;01mis\u001b[39;00m \u001b[38;5;129;01mnot\u001b[39;00m \u001b[38;5;28;01mNone\u001b[39;00m \u001b[38;5;129;01mand\u001b[39;00m \u001b[38;5;28misinstance\u001b[39m(topn, \u001b[38;5;28mint\u001b[39m):\n",
      "File \u001b[1;32m~\\AppData\\Roaming\\Python\\Python311\\site-packages\\gensim\\models\\keyedvectors.py:518\u001b[0m, in \u001b[0;36mKeyedVectors.get_mean_vector\u001b[1;34m(self, keys, weights, pre_normalize, post_normalize, ignore_missing)\u001b[0m\n\u001b[0;32m    516\u001b[0m         total_weight \u001b[38;5;241m+\u001b[39m\u001b[38;5;241m=\u001b[39m \u001b[38;5;28mabs\u001b[39m(weights[idx])\n\u001b[0;32m    517\u001b[0m     \u001b[38;5;28;01melif\u001b[39;00m \u001b[38;5;129;01mnot\u001b[39;00m ignore_missing:\n\u001b[1;32m--> 518\u001b[0m         \u001b[38;5;28;01mraise\u001b[39;00m \u001b[38;5;167;01mKeyError\u001b[39;00m(\u001b[38;5;124mf\u001b[39m\u001b[38;5;124m\"\u001b[39m\u001b[38;5;124mKey \u001b[39m\u001b[38;5;124m'\u001b[39m\u001b[38;5;132;01m{\u001b[39;00mkey\u001b[38;5;132;01m}\u001b[39;00m\u001b[38;5;124m'\u001b[39m\u001b[38;5;124m not present in vocabulary\u001b[39m\u001b[38;5;124m\"\u001b[39m)\n\u001b[0;32m    520\u001b[0m \u001b[38;5;28;01mif\u001b[39;00m total_weight \u001b[38;5;241m>\u001b[39m \u001b[38;5;241m0\u001b[39m:\n\u001b[0;32m    521\u001b[0m     mean \u001b[38;5;241m=\u001b[39m mean \u001b[38;5;241m/\u001b[39m total_weight\n",
      "\u001b[1;31mKeyError\u001b[0m: \"Key 'древний' not present in vocabulary\""
     ]
    }
   ],
   "source": [
    "# не нашлось\n",
    "w2v.wv.most_similar('древний')"
   ]
  },
  {
   "cell_type": "code",
   "execution_count": 62,
   "id": "de4d50e9",
   "metadata": {},
   "outputs": [
    {
     "name": "stdout",
     "output_type": "stream",
     "text": [
      "CPU times: total: 1min 12s\n",
      "Wall time: 27 s\n"
     ]
    }
   ],
   "source": [
    "%%time\n",
    "ft = gensim.models.FastText(texts,\n",
    "                            vector_size=400, \n",
    "                             min_count=40, \n",
    "                             max_vocab_size=9000,\n",
    "                             window=7,\n",
    "                             epochs=6,\n",
    "                             sample=3e-5,\n",
    "                             ns_exponent=0.79,\n",
    "                             sg=1,\n",
    "                             cbow_mean=0,\n",
    "                             negative=13,\n",
    "                            )"
   ]
  },
  {
   "cell_type": "code",
   "execution_count": 63,
   "id": "064de099",
   "metadata": {},
   "outputs": [
    {
     "data": {
      "text/plain": [
       "[('деревни', 0.7490487694740295),\n",
       " ('шесть', 0.6464866995811462),\n",
       " ('деревня', 0.628713071346283),\n",
       " ('здесь', 0.6284742951393127),\n",
       " ('находились', 0.6277707815170288),\n",
       " ('ещё', 0.6168389916419983),\n",
       " ('жители', 0.6058354377746582),\n",
       " ('отечественной', 0.6042746305465698),\n",
       " ('них', 0.6042373776435852),\n",
       " ('и', 0.6007201075553894)]"
      ]
     },
     "execution_count": 63,
     "metadata": {},
     "output_type": "execute_result"
    }
   ],
   "source": [
    "ft.wv.most_similar('древний')"
   ]
  },
  {
   "cell_type": "code",
   "execution_count": 64,
   "id": "9217308a",
   "metadata": {},
   "outputs": [
    {
     "data": {
      "text/plain": [
       "[('гражданской', 0.9448617696762085),\n",
       " ('войны', 0.7367572784423828),\n",
       " ('войне', 0.7343419790267944),\n",
       " ('службы', 0.7198446989059448),\n",
       " ('советской', 0.7023519277572632),\n",
       " ('революции', 0.6977463960647583),\n",
       " ('служил', 0.696311891078949),\n",
       " ('отечественной', 0.6961001753807068),\n",
       " ('армии', 0.6893061399459839),\n",
       " ('неоднократно', 0.6847240328788757)]"
      ]
     },
     "execution_count": 64,
     "metadata": {},
     "output_type": "execute_result"
    }
   ],
   "source": [
    "ft.wv.most_similar('гражданин')"
   ]
  },
  {
   "cell_type": "code",
   "execution_count": null,
   "id": "deaaff69",
   "metadata": {},
   "outputs": [],
   "source": [
    "# Задание 3"
   ]
  },
  {
   "cell_type": "code",
   "execution_count": 65,
   "id": "0057f9e7",
   "metadata": {},
   "outputs": [],
   "source": [
    "data = pd.read_csv('labeled.csv')"
   ]
  },
  {
   "cell_type": "code",
   "execution_count": 66,
   "id": "c8e5661c",
   "metadata": {},
   "outputs": [],
   "source": [
    "data['norm_text'] = data.comment.apply(preprocess)"
   ]
  },
  {
   "cell_type": "code",
   "execution_count": 67,
   "id": "712fc9af",
   "metadata": {},
   "outputs": [
    {
     "data": {
      "text/plain": [
       "7232"
      ]
     },
     "execution_count": 67,
     "metadata": {},
     "output_type": "execute_result"
    }
   ],
   "source": [
    "vocab = Counter()\n",
    "\n",
    "for text in data['norm_text']:\n",
    "    vocab.update(text)\n",
    "    \n",
    "filtered_vocab = set()\n",
    "\n",
    "for word in vocab:\n",
    "    if vocab[word] > 5:\n",
    "        filtered_vocab.add(word)\n",
    "\n",
    "len(filtered_vocab)"
   ]
  },
  {
   "cell_type": "code",
   "execution_count": 68,
   "id": "45c18cb4",
   "metadata": {},
   "outputs": [],
   "source": [
    "word2id = { 'PAD':0}\n",
    "\n",
    "for word in filtered_vocab:\n",
    "    word2id[word] = len(word2id)\n",
    "id2word = {i:word for word, i in word2id.items()}"
   ]
  },
  {
   "cell_type": "code",
   "execution_count": 69,
   "id": "a8dc249c",
   "metadata": {},
   "outputs": [],
   "source": [
    "X = []\n",
    "\n",
    "for tokens in data['norm_text']:\n",
    "    ids = [word2id[token] for token in tokens if token in word2id]\n",
    "    X.append(ids)"
   ]
  },
  {
   "cell_type": "code",
   "execution_count": 70,
   "id": "f738dbf5",
   "metadata": {},
   "outputs": [],
   "source": [
    "X = tf.keras.preprocessing.sequence.pad_sequences(X, maxlen=100)\n",
    "y = data.toxic.values"
   ]
  },
  {
   "cell_type": "code",
   "execution_count": 71,
   "id": "9481f208",
   "metadata": {},
   "outputs": [],
   "source": [
    "X_train, X_valid, y_train, y_valid = train_test_split(X, y, test_size=0.05)"
   ]
  },
  {
   "cell_type": "code",
   "execution_count": null,
   "id": "85beac04",
   "metadata": {},
   "outputs": [],
   "source": [
    "# не получилось скачать с сайта https://rusvectores.org/ru/models/"
   ]
  }
 ],
 "metadata": {
  "kernelspec": {
   "display_name": "Python 3 (ipykernel)",
   "language": "python",
   "name": "python3"
  },
  "language_info": {
   "codemirror_mode": {
    "name": "ipython",
    "version": 3
   },
   "file_extension": ".py",
   "mimetype": "text/x-python",
   "name": "python",
   "nbconvert_exporter": "python",
   "pygments_lexer": "ipython3",
   "version": "3.11.4"
  }
 },
 "nbformat": 4,
 "nbformat_minor": 5
}
